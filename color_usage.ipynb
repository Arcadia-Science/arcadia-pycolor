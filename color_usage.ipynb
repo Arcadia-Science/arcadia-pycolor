{
 "cells": [
  {
   "cell_type": "markdown",
   "metadata": {},
   "source": [
    "# Tools for working with Arcadia's colors\n",
    "\n",
    "Arcadia has a set of brand colors which are used in the website, presentations, and other materials. Consistent use of these colors can help scientists make their data visually appealing, and is important for maintaining a consistent brand identity. `arcadia-pycolor` provides access to these colors for use when making plots and figures in Python.\n",
    "\n",
    "## 0. Getting Started\n",
    "\n",
    "After installing `arcadia-pycolor` using `pip install arcadia-pycolor`, you can import the `arcadia_pycolor` module."
   ]
  },
  {
   "cell_type": "code",
   "execution_count": 1,
   "metadata": {},
   "outputs": [],
   "source": [
    "# Import the module.\n",
    "import arcadia_pycolor as apc"
   ]
  },
  {
   "cell_type": "markdown",
   "metadata": {},
   "source": [
    "## 1. Accessing and displaying colors\n",
    "\n",
    "`arcadia-pycolor` stores the brand colors as objects based on their color name. When working with Jupyter notebooks, you can display the colors as part of a cell's output. This displays a swatch of the color, along with the color's name and hex code."
   ]
  },
  {
   "cell_type": "code",
   "execution_count": 2,
   "metadata": {},
   "outputs": [
    {
     "data": {
      "text/plain": [
       "\u001b[48;2;80;136;197m  \u001b[0m\u001b[38;2;80;136;197m aegean #5088C5\u001b[0m"
      ]
     },
     "execution_count": 2,
     "metadata": {},
     "output_type": "execute_result"
    }
   ],
   "source": [
    "apc.aegean"
   ]
  },
  {
   "cell_type": "markdown",
   "metadata": {},
   "source": [
    "You can also use `display` to show the colors in a cell's output."
   ]
  },
  {
   "cell_type": "code",
   "execution_count": 7,
   "metadata": {},
   "outputs": [
    {
     "data": {
      "text/plain": [
       "\u001b[48;2;242;131;96m  \u001b[0m\u001b[38;2;242;131;96m amber #F28360\u001b[0m"
      ]
     },
     "metadata": {},
     "output_type": "display_data"
    }
   ],
   "source": [
    "display(apc.amber)\n",
    "\n",
    "# Some other code.\n",
    "x = 1\n",
    "y = 2"
   ]
  },
  {
   "cell_type": "markdown",
   "metadata": {},
   "source": [
    "## 2. `Palette`s and `Gradient`s\n",
    "\n",
    "`arcadia-pycolor` provides two classes for working with multiple colors: `Palette` and `Gradient`. `Palette` is a collection of discrete colors, while `Gradient` is a collection of colors that transition smoothly from one to the next. The package contains a variety of built-in palettes and gradients, which can be accessed under the `palettes` and `gradients` namespaces. These can also be displayed in the same way as individual colors."
   ]
  },
  {
   "cell_type": "code",
   "execution_count": 8,
   "metadata": {},
   "outputs": [
    {
     "data": {
      "text/plain": [
       "\u001b[48;2;80;136;197m  \u001b[0m\u001b[48;2;242;131;96m  \u001b[0m\u001b[48;2;59;152;134m  \u001b[0m\u001b[48;2;247;184;70m  \u001b[0m\u001b[48;2;122;119;171m  \u001b[0m\u001b[48;2;248;152;174m  \u001b[0m\n",
       "\u001b[48;2;80;136;197m  \u001b[0m\u001b[38;2;80;136;197m aegean  #5088C5\u001b[0m\n",
       "\u001b[48;2;242;131;96m  \u001b[0m\u001b[38;2;242;131;96m amber   #F28360\u001b[0m\n",
       "\u001b[48;2;59;152;134m  \u001b[0m\u001b[38;2;59;152;134m seaweed #3B9886\u001b[0m\n",
       "\u001b[48;2;247;184;70m  \u001b[0m\u001b[38;2;247;184;70m canary  #F7B846\u001b[0m\n",
       "\u001b[48;2;122;119;171m  \u001b[0m\u001b[38;2;122;119;171m aster   #7A77AB\u001b[0m\n",
       "\u001b[48;2;248;152;174m  \u001b[0m\u001b[38;2;248;152;174m rose    #F898AE\u001b[0m"
      ]
     },
     "execution_count": 8,
     "metadata": {},
     "output_type": "execute_result"
    }
   ],
   "source": [
    "# Displaying a Palette.\n",
    "apc.palettes.accent"
   ]
  },
  {
   "cell_type": "code",
   "execution_count": 9,
   "metadata": {},
   "outputs": [
    {
     "data": {
      "text/plain": [
       "\u001b[48;2;52;30;96m \u001b[0m\u001b[48;2;60;38;107m \u001b[0m\u001b[48;2;68;46;118m \u001b[0m\u001b[48;2;75;54;129m \u001b[0m\u001b[48;2;83;62;140m \u001b[0m\u001b[48;2;90;70;151m \u001b[0m\u001b[48;2;88;84;160m \u001b[0m\u001b[48;2;86;96;169m \u001b[0m\u001b[48;2;84;108;177m \u001b[0m\u001b[48;2;82;120;186m \u001b[0m\u001b[48;2;81;132;194m \u001b[0m\u001b[48;2;89;145;187m \u001b[0m\u001b[48;2;101;156;174m \u001b[0m\u001b[48;2;113;168;161m \u001b[0m\u001b[48;2;125;180;148m \u001b[0m\u001b[48;2;137;191;135m \u001b[0m\u001b[48;2;150;204;121m \u001b[0m\u001b[48;2;170;214;98m \u001b[0m\u001b[48;2;191;224;74m \u001b[0m\u001b[48;2;212;235;49m \u001b[0m\u001b[48;2;234;245;25m \u001b[0m\n",
       "\u001b[48;2;52;30;96m  \u001b[0m\u001b[38;2;52;30;96m concord #341E60\u001b[0m 0\n",
       "\u001b[48;2;90;69;150m  \u001b[0m\u001b[38;2;90;69;150m grape   #5A4596\u001b[0m 0.23\n",
       "\u001b[48;2;80;136;197m  \u001b[0m\u001b[38;2;80;136;197m aegean  #5088C5\u001b[0m 0.49\n",
       "\u001b[48;2;151;205;120m  \u001b[0m\u001b[38;2;151;205;120m lime    #97CD78\u001b[0m 0.77\n",
       "\u001b[48;2;255;255;0m  \u001b[0m\u001b[38;2;255;255;0m yellow  #FFFF00\u001b[0m 1"
      ]
     },
     "execution_count": 9,
     "metadata": {},
     "output_type": "execute_result"
    }
   ],
   "source": [
    "# Displaying a Gradient.\n",
    "apc.gradients.viridis"
   ]
  },
  {
   "cell_type": "markdown",
   "metadata": {},
   "source": [
    "## 3. Using colors in plots\n",
    "\n",
    "Colors can be used in plots by passing them as arguments to plotting functions. For example, in `matplotlib`, you can pass an `arcadia-pycolor` color object as the `color` argument to `plot`, `scatter`, or other plotting functions."
   ]
  },
  {
   "cell_type": "code",
   "execution_count": 11,
   "metadata": {},
   "outputs": [
    {
     "data": {
      "image/png": "[encoded data removed]",
      "text/plain": [
       "<Figure size 640x480 with 1 Axes>"
      ]
     },
     "metadata": {},
     "output_type": "display_data"
    }
   ],
   "source": [
    "# Using colors in a matplotlib plot.\n",
    "import matplotlib.pyplot as plt\n",
    "\n",
    "plt.bar(\n",
    "    x=[\"A\", \"B\", \"C\", \"D\"],\n",
    "    height=[1, 2, 3, 4],\n",
    "    color=[apc.aegean, apc.amber, apc.seaweed, apc.canary],\n",
    ")\n",
    "plt.ylabel(\"Y axis\")\n",
    "plt.xlabel(\"X axis\")\n",
    "plt.show()"
   ]
  },
  {
   "cell_type": "markdown",
   "metadata": {},
   "source": [
    "## 4. Creating custom palettes and gradients\n",
    "\n",
    "You can create custom palettes by passing a list of colors to the `Palette` constructor, or using the `Palette.from_dict` method."
   ]
  },
  {
   "cell_type": "code",
   "execution_count": 13,
   "metadata": {},
   "outputs": [
    {
     "data": {
      "text/plain": [
       "\u001b[48;2;80;136;197m  \u001b[0m\u001b[48;2;242;131;96m  \u001b[0m\u001b[48;2;59;152;134m  \u001b[0m\u001b[48;2;247;184;70m  \u001b[0m\n",
       "\u001b[48;2;80;136;197m  \u001b[0m\u001b[38;2;80;136;197m aegean  #5088C5\u001b[0m\n",
       "\u001b[48;2;242;131;96m  \u001b[0m\u001b[38;2;242;131;96m amber   #F28360\u001b[0m\n",
       "\u001b[48;2;59;152;134m  \u001b[0m\u001b[38;2;59;152;134m seaweed #3B9886\u001b[0m\n",
       "\u001b[48;2;247;184;70m  \u001b[0m\u001b[38;2;247;184;70m canary  #F7B846\u001b[0m"
      ]
     },
     "execution_count": 13,
     "metadata": {},
     "output_type": "execute_result"
    }
   ],
   "source": [
    "# Creating a Palette from a list of colors.\n",
    "my_palette = apc.Palette(\"my_palette\", [apc.aegean, apc.amber, apc.seaweed, apc.canary])\n",
    "\n",
    "my_palette"
   ]
  },
  {
   "cell_type": "code",
   "execution_count": 15,
   "metadata": {},
   "outputs": [
    {
     "data": {
      "text/plain": [
       "\u001b[48;2;255;0;0m  \u001b[0m\u001b[48;2;0;255;0m  \u001b[0m\u001b[48;2;0;0;255m  \u001b[0m\n",
       "\u001b[48;2;255;0;0m  \u001b[0m\u001b[38;2;255;0;0m red   #FF0000\u001b[0m\n",
       "\u001b[48;2;0;255;0m  \u001b[0m\u001b[38;2;0;255;0m green #00FF00\u001b[0m\n",
       "\u001b[48;2;0;0;255m  \u001b[0m\u001b[38;2;0;0;255m blue  #0000FF\u001b[0m"
      ]
     },
     "execution_count": 15,
     "metadata": {},
     "output_type": "execute_result"
    }
   ],
   "source": [
    "# Creating a Palette from a dictionary.\n",
    "my_palette = apc.Palette.from_dict(\n",
    "    \"my_palette\",\n",
    "    {\n",
    "        \"red\": \"#FF0000\",\n",
    "        \"green\": \"#00FF00\",\n",
    "        \"blue\": \"#0000FF\",\n",
    "    },\n",
    ")\n",
    "\n",
    "my_palette"
   ]
  },
  {
   "cell_type": "markdown",
   "metadata": {},
   "source": [
    "Similarly, you can create custom gradients by passing a list of colors to the `Gradient` constructor, or using the `Gradient.from_dict` method. For `Gradient`s, you may also specify the position of each color in the gradient. If you do not specify this value, the colors will be evenly spaced."
   ]
  },
  {
   "cell_type": "code",
   "execution_count": 16,
   "metadata": {},
   "outputs": [
    {
     "data": {
      "text/plain": [
       "\u001b[48;2;115;181;227m \u001b[0m\u001b[48;2;127;185;224m \u001b[0m\u001b[48;2;139;190;220m \u001b[0m\u001b[48;2;152;194;217m \u001b[0m\u001b[48;2;164;199;213m \u001b[0m\u001b[48;2;176;203;210m \u001b[0m\u001b[48;2;189;208;206m \u001b[0m\u001b[48;2;202;212;202m \u001b[0m\u001b[48;2;214;217;199m \u001b[0m\u001b[48;2;226;221;195m \u001b[0m\u001b[48;2;238;226;192m \u001b[0m\u001b[48;2;245;223;185m \u001b[0m\u001b[48;2;245;214;176m \u001b[0m\u001b[48;2;244;205;168m \u001b[0m\u001b[48;2;244;196;159m \u001b[0m\u001b[48;2;244;187;150m \u001b[0m\u001b[48;2;243;177;140m \u001b[0m\u001b[48;2;243;168;131m \u001b[0m\u001b[48;2;243;158;123m \u001b[0m\u001b[48;2;243;149;114m \u001b[0m\u001b[48;2;242;140;105m \u001b[0m\n",
       "\u001b[48;2;115;181;227m  \u001b[0m\u001b[38;2;115;181;227m vitalblue #73B5E3\u001b[0m 0.0\n",
       "\u001b[48;2;245;228;190m  \u001b[0m\u001b[38;2;245;228;190m oat       #F5E4BE\u001b[0m 0.5\n",
       "\u001b[48;2;242;131;96m  \u001b[0m\u001b[38;2;242;131;96m amber     #F28360\u001b[0m 1.0"
      ]
     },
     "execution_count": 16,
     "metadata": {},
     "output_type": "execute_result"
    }
   ],
   "source": [
    "# Creating a Gradient from a list of colors.\n",
    "my_gradient = apc.Gradient(\"my_gradient\", [apc.vitalblue, apc.oat, apc.amber])\n",
    "\n",
    "my_gradient"
   ]
  },
  {
   "cell_type": "code",
   "execution_count": 17,
   "metadata": {},
   "outputs": [
    {
     "data": {
      "text/plain": [
       "\u001b[48;2;52;30;96m \u001b[0m\u001b[48;2;60;50;114m \u001b[0m\u001b[48;2;69;71;131m \u001b[0m\u001b[48;2;77;91;149m \u001b[0m\u001b[48;2;86;111;166m \u001b[0m\u001b[48;2;94;132;184m \u001b[0m\u001b[48;2;104;154;203m \u001b[0m\u001b[48;2;112;174;221m \u001b[0m\u001b[48;2;141;191;220m \u001b[0m\u001b[48;2;182;205;208m \u001b[0m\u001b[48;2;223;220;196m \u001b[0m\u001b[48;2;244;212;174m \u001b[0m\u001b[48;2;244;181;145m \u001b[0m\u001b[48;2;243;151;115m \u001b[0m\u001b[48;2;234;126;93m \u001b[0m\u001b[48;2;211;110;85m \u001b[0m\u001b[48;2;186;94;76m \u001b[0m\u001b[48;2;163;78;67m \u001b[0m\u001b[48;2;140;63;59m \u001b[0m\u001b[48;2;117;48;51m \u001b[0m\u001b[48;2;94;32;42m \u001b[0m\n",
       "\u001b[48;2;52;30;96m  \u001b[0m\u001b[38;2;52;30;96m concord   #341E60\u001b[0m 0\n",
       "\u001b[48;2;115;181;227m  \u001b[0m\u001b[38;2;115;181;227m vitalblue #73B5E3\u001b[0m 0.35\n",
       "\u001b[48;2;245;228;190m  \u001b[0m\u001b[38;2;245;228;190m oat       #F5E4BE\u001b[0m 0.5\n",
       "\u001b[48;2;242;131;96m  \u001b[0m\u001b[38;2;242;131;96m amber     #F28360\u001b[0m 0.65\n",
       "\u001b[48;2;71;17;34m  \u001b[0m\u001b[38;2;71;17;34m carmine   #471122\u001b[0m 1"
      ]
     },
     "execution_count": 17,
     "metadata": {},
     "output_type": "execute_result"
    }
   ],
   "source": [
    "# Creating a Gradient from a list of colors while specifying values.\n",
    "my_gradient = apc.Gradient(\n",
    "    \"my_gradient\",\n",
    "    [apc.concord, apc.vitalblue, apc.oat, apc.amber, apc.carmine],\n",
    "    [0, 0.35, 0.5, 0.65, 1],\n",
    ")\n",
    "\n",
    "my_gradient"
   ]
  },
  {
   "cell_type": "code",
   "execution_count": 18,
   "metadata": {},
   "outputs": [
    {
     "data": {
      "text/plain": [
       "\u001b[48;2;255;0;0m \u001b[0m\u001b[48;2;252;21;21m \u001b[0m\u001b[48;2;249;42;42m \u001b[0m\u001b[48;2;245;62;62m \u001b[0m\u001b[48;2;242;83;83m \u001b[0m\u001b[48;2;239;104;104m \u001b[0m\u001b[48;2;236;127;127m \u001b[0m\u001b[48;2;232;147;147m \u001b[0m\u001b[48;2;229;168;168m \u001b[0m\u001b[48;2;226;189;189m \u001b[0m\u001b[48;2;223;210;210m \u001b[0m\u001b[48;2;210;210;223m \u001b[0m\u001b[48;2;189;189;226m \u001b[0m\u001b[48;2;168;168;229m \u001b[0m\u001b[48;2;147;147;232m \u001b[0m\u001b[48;2;127;127;236m \u001b[0m\u001b[48;2;104;104;239m \u001b[0m\u001b[48;2;83;83;242m \u001b[0m\u001b[48;2;62;62;245m \u001b[0m\u001b[48;2;42;42;249m \u001b[0m\u001b[48;2;21;21;252m \u001b[0m\n",
       "\u001b[48;2;255;0;0m  \u001b[0m\u001b[38;2;255;0;0m red  #FF0000\u001b[0m 0.0\n",
       "\u001b[48;2;221;221;221m  \u001b[0m\u001b[38;2;221;221;221m grey #DDDDDD\u001b[0m 0.5\n",
       "\u001b[48;2;0;0;255m  \u001b[0m\u001b[38;2;0;0;255m blue #0000FF\u001b[0m 1.0"
      ]
     },
     "execution_count": 18,
     "metadata": {},
     "output_type": "execute_result"
    }
   ],
   "source": [
    "# Creating a Gradient from a dictionary of colors.\n",
    "my_gradient = apc.Gradient.from_dict(\n",
    "    \"my_gradient\",\n",
    "    {\n",
    "        \"red\": \"#FF0000\",\n",
    "        \"grey\": \"#DDDDDD\",\n",
    "        \"blue\": \"#0000FF\",\n",
    "    },\n",
    ")\n",
    "\n",
    "my_gradient"
   ]
  },
  {
   "cell_type": "markdown",
   "metadata": {},
   "source": [
    "## 5. `Palette` utilities\n",
    "\n",
    "`Palette` objects have several utility methods for working with colors."
   ]
  },
  {
   "cell_type": "code",
   "execution_count": 22,
   "metadata": {},
   "outputs": [
    {
     "data": {
      "text/plain": [
       "\u001b[48;2;80;136;197m  \u001b[0m\u001b[48;2;242;131;96m  \u001b[0m\u001b[48;2;59;152;134m  \u001b[0m\u001b[48;2;247;184;70m  \u001b[0m\u001b[48;2;122;119;171m  \u001b[0m\u001b[48;2;248;152;174m  \u001b[0m\n",
       "\u001b[48;2;80;136;197m  \u001b[0m\u001b[38;2;80;136;197m aegean  #5088C5\u001b[0m\n",
       "\u001b[48;2;242;131;96m  \u001b[0m\u001b[38;2;242;131;96m amber   #F28360\u001b[0m\n",
       "\u001b[48;2;59;152;134m  \u001b[0m\u001b[38;2;59;152;134m seaweed #3B9886\u001b[0m\n",
       "\u001b[48;2;247;184;70m  \u001b[0m\u001b[38;2;247;184;70m canary  #F7B846\u001b[0m\n",
       "\u001b[48;2;122;119;171m  \u001b[0m\u001b[38;2;122;119;171m aster   #7A77AB\u001b[0m\n",
       "\u001b[48;2;248;152;174m  \u001b[0m\u001b[38;2;248;152;174m rose    #F898AE\u001b[0m"
      ]
     },
     "metadata": {},
     "output_type": "display_data"
    },
    {
     "data": {
      "text/plain": [
       "\u001b[48;2;248;152;174m  \u001b[0m\u001b[48;2;122;119;171m  \u001b[0m\u001b[48;2;247;184;70m  \u001b[0m\u001b[48;2;59;152;134m  \u001b[0m\u001b[48;2;242;131;96m  \u001b[0m\u001b[48;2;80;136;197m  \u001b[0m\n",
       "\u001b[48;2;248;152;174m  \u001b[0m\u001b[38;2;248;152;174m rose    #F898AE\u001b[0m\n",
       "\u001b[48;2;122;119;171m  \u001b[0m\u001b[38;2;122;119;171m aster   #7A77AB\u001b[0m\n",
       "\u001b[48;2;247;184;70m  \u001b[0m\u001b[38;2;247;184;70m canary  #F7B846\u001b[0m\n",
       "\u001b[48;2;59;152;134m  \u001b[0m\u001b[38;2;59;152;134m seaweed #3B9886\u001b[0m\n",
       "\u001b[48;2;242;131;96m  \u001b[0m\u001b[38;2;242;131;96m amber   #F28360\u001b[0m\n",
       "\u001b[48;2;80;136;197m  \u001b[0m\u001b[38;2;80;136;197m aegean  #5088C5\u001b[0m"
      ]
     },
     "metadata": {},
     "output_type": "display_data"
    }
   ],
   "source": [
    "# Reverse the order of a Palette.\n",
    "display(apc.palettes.accent)\n",
    "display(apc.palettes.accent.reverse())"
   ]
  },
  {
   "cell_type": "code",
   "execution_count": 24,
   "metadata": {},
   "outputs": [
    {
     "data": {
      "text/plain": [
       "\u001b[48;2;80;136;197m  \u001b[0m\u001b[48;2;242;131;96m  \u001b[0m\u001b[48;2;59;152;134m  \u001b[0m\u001b[48;2;247;184;70m  \u001b[0m\u001b[48;2;122;119;171m  \u001b[0m\u001b[48;2;248;152;174m  \u001b[0m\u001b[48;2;198;231;244m  \u001b[0m\u001b[48;2;248;197;193m  \u001b[0m\u001b[48;2;181;190;164m  \u001b[0m\u001b[48;2;245;228;190m  \u001b[0m\u001b[48;2;220;191;252m  \u001b[0m\u001b[48;2;245;203;228m  \u001b[0m\n",
       "\u001b[48;2;80;136;197m  \u001b[0m\u001b[38;2;80;136;197m aegean     #5088C5\u001b[0m\n",
       "\u001b[48;2;242;131;96m  \u001b[0m\u001b[38;2;242;131;96m amber      #F28360\u001b[0m\n",
       "\u001b[48;2;59;152;134m  \u001b[0m\u001b[38;2;59;152;134m seaweed    #3B9886\u001b[0m\n",
       "\u001b[48;2;247;184;70m  \u001b[0m\u001b[38;2;247;184;70m canary     #F7B846\u001b[0m\n",
       "\u001b[48;2;122;119;171m  \u001b[0m\u001b[38;2;122;119;171m aster      #7A77AB\u001b[0m\n",
       "\u001b[48;2;248;152;174m  \u001b[0m\u001b[38;2;248;152;174m rose       #F898AE\u001b[0m\n",
       "\u001b[48;2;198;231;244m  \u001b[0m\u001b[38;2;198;231;244m bluesky    #C6E7F4\u001b[0m\n",
       "\u001b[48;2;248;197;193m  \u001b[0m\u001b[38;2;248;197;193m dress      #F8C5C1\u001b[0m\n",
       "\u001b[48;2;181;190;164m  \u001b[0m\u001b[38;2;181;190;164m sage       #B5BEA4\u001b[0m\n",
       "\u001b[48;2;245;228;190m  \u001b[0m\u001b[38;2;245;228;190m oat        #F5E4BE\u001b[0m\n",
       "\u001b[48;2;220;191;252m  \u001b[0m\u001b[38;2;220;191;252m periwinkle #DCBFFC\u001b[0m\n",
       "\u001b[48;2;245;203;228m  \u001b[0m\u001b[38;2;245;203;228m blossom    #F5CBE4\u001b[0m"
      ]
     },
     "execution_count": 24,
     "metadata": {},
     "output_type": "execute_result"
    }
   ],
   "source": [
    "# Add palettes together.\n",
    "apc.palettes.accent + apc.palettes.light_accent"
   ]
  },
  {
   "cell_type": "code",
   "execution_count": 28,
   "metadata": {},
   "outputs": [
    {
     "data": {
      "image/png": "[encoded data removed]",
      "text/html": [
       "<div style=\"vertical-align: middle;\"><strong>Accent</strong> </div><div class=\"cmap\"><img alt=\"Accent colormap\" title=\"Accent\" style=\"border: 1px solid #555;\" src=\"data:image/png;base64,iVBORw0KGgoAAAANSUhEUgAAAgAAAABACAYAAABsv8+/AAAAFXRFWHRUaXRsZQBBY2NlbnQgY29sb3JtYXC+FfFpAAAAG3RFWHREZXNjcmlwdGlvbgBBY2NlbnQgY29sb3JtYXD3gumNAAAAMHRFWHRBdXRob3IATWF0cGxvdGxpYiB2My43LjMsIGh0dHBzOi8vbWF0cGxvdGxpYi5vcme6yd4QAAAAMnRFWHRTb2Z0d2FyZQBNYXRwbG90bGliIHYzLjcuMywgaHR0cHM6Ly9tYXRwbG90bGliLm9yZ5RvQTcAAAFYSURBVHic7daxsQFAAABR/BrkJHr5mSa0IZHoQaYOMySqEtCEcTO371Ww4S735+d7wdddX5fRCdP5X+9GJ0zntnmMTpjO6X4YnTCd4/ZvdMKUVqMDAIDfMwAAEGQAACDIAABAkAEAgCADAABBBgAAggwAAAQZAAAIMgAAEGQAACDIAABAkAEAgCADAABBBgAAggwAAAQZAAAIMgAAEGQAACDIAABAkAEAgCADAABBBgAAggwAAAQZAAAIMgAAEGQAACDIAABAkAEAgCADAABBBgAAggwAAAQZAAAIMgAAEGQAACDIAABAkAEAgCADAABBBgAAggwAAAQZAAAIMgAAEGQAACDIAABAkAEAgCADAABBBgAAggwAAAQZAAAIMgAAEGQAACDIAABAkAEAgCADAABBBgAAggwAAAQZAAAIMgAAEGQAACDIAABAkAEAgCADAABBBgAAgj6Wzwm9rAKnDQAAAABJRU5ErkJggg==\"></div><div style=\"vertical-align: middle; max-width: 514px; display: flex; justify-content: space-between;\"><div style=\"float: left;\"><div title=\"#5088c5ff\" style=\"display: inline-block; width: 1em; height: 1em; margin: 0; vertical-align: middle; border: 1px solid #555; background-color: #5088c5ff;\"></div> under</div><div style=\"margin: 0 auto; display: inline-block;\">bad <div title=\"#00000000\" style=\"display: inline-block; width: 1em; height: 1em; margin: 0; vertical-align: middle; border: 1px solid #555; background-color: #00000000;\"></div></div><div style=\"float: right;\">over <div title=\"#f898aeff\" style=\"display: inline-block; width: 1em; height: 1em; margin: 0; vertical-align: middle; border: 1px solid #555; background-color: #f898aeff;\"></div></div>"
      ],
      "text/plain": [
       "<matplotlib.colors.ListedColormap at 0x11752db50>"
      ]
     },
     "execution_count": 28,
     "metadata": {},
     "output_type": "execute_result"
    }
   ],
   "source": [
    "# Convert a Palette into a `matplotlib.colors.ListedColormap`.\n",
    "apc.palettes.accent.to_mpl_cmap()"
   ]
  },
  {
   "cell_type": "markdown",
   "metadata": {},
   "source": [
    "## 6. `Gradient` utilities\n",
    "\n",
    "`Gradient` objects have a variety of utilities for working with gradients."
   ]
  },
  {
   "cell_type": "code",
   "execution_count": 21,
   "metadata": {},
   "outputs": [
    {
     "data": {
      "text/plain": [
       "\u001b[48;2;52;30;96m \u001b[0m\u001b[48;2;60;38;107m \u001b[0m\u001b[48;2;68;46;118m \u001b[0m\u001b[48;2;75;54;129m \u001b[0m\u001b[48;2;83;62;140m \u001b[0m\u001b[48;2;90;70;151m \u001b[0m\u001b[48;2;88;84;160m \u001b[0m\u001b[48;2;86;96;169m \u001b[0m\u001b[48;2;84;108;177m \u001b[0m\u001b[48;2;82;120;186m \u001b[0m\u001b[48;2;81;132;194m \u001b[0m\u001b[48;2;89;145;187m \u001b[0m\u001b[48;2;101;156;174m \u001b[0m\u001b[48;2;113;168;161m \u001b[0m\u001b[48;2;125;180;148m \u001b[0m\u001b[48;2;137;191;135m \u001b[0m\u001b[48;2;150;204;121m \u001b[0m\u001b[48;2;170;214;98m \u001b[0m\u001b[48;2;191;224;74m \u001b[0m\u001b[48;2;212;235;49m \u001b[0m\u001b[48;2;234;245;25m \u001b[0m\n",
       "\u001b[48;2;52;30;96m  \u001b[0m\u001b[38;2;52;30;96m concord #341E60\u001b[0m 0\n",
       "\u001b[48;2;90;69;150m  \u001b[0m\u001b[38;2;90;69;150m grape   #5A4596\u001b[0m 0.23\n",
       "\u001b[48;2;80;136;197m  \u001b[0m\u001b[38;2;80;136;197m aegean  #5088C5\u001b[0m 0.49\n",
       "\u001b[48;2;151;205;120m  \u001b[0m\u001b[38;2;151;205;120m lime    #97CD78\u001b[0m 0.77\n",
       "\u001b[48;2;255;255;0m  \u001b[0m\u001b[38;2;255;255;0m yellow  #FFFF00\u001b[0m 1"
      ]
     },
     "metadata": {},
     "output_type": "display_data"
    },
    {
     "data": {
      "text/plain": [
       "\u001b[48;2;255;255;0m \u001b[0m\u001b[48;2;234;245;25m \u001b[0m\u001b[48;2;212;235;49m \u001b[0m\u001b[48;2;191;224;74m \u001b[0m\u001b[48;2;170;214;98m \u001b[0m\u001b[48;2;150;204;121m \u001b[0m\u001b[48;2;137;191;135m \u001b[0m\u001b[48;2;125;180;148m \u001b[0m\u001b[48;2;113;168;161m \u001b[0m\u001b[48;2;101;156;174m \u001b[0m\u001b[48;2;89;145;187m \u001b[0m\u001b[48;2;81;132;194m \u001b[0m\u001b[48;2;82;120;186m \u001b[0m\u001b[48;2;84;108;177m \u001b[0m\u001b[48;2;86;96;169m \u001b[0m\u001b[48;2;88;84;160m \u001b[0m\u001b[48;2;90;70;151m \u001b[0m\u001b[48;2;83;62;140m \u001b[0m\u001b[48;2;75;54;129m \u001b[0m\u001b[48;2;68;46;118m \u001b[0m\u001b[48;2;60;38;107m \u001b[0m\n",
       "\u001b[48;2;255;255;0m  \u001b[0m\u001b[38;2;255;255;0m yellow  #FFFF00\u001b[0m 0\n",
       "\u001b[48;2;151;205;120m  \u001b[0m\u001b[38;2;151;205;120m lime    #97CD78\u001b[0m 0.22999999999999998\n",
       "\u001b[48;2;80;136;197m  \u001b[0m\u001b[38;2;80;136;197m aegean  #5088C5\u001b[0m 0.51\n",
       "\u001b[48;2;90;69;150m  \u001b[0m\u001b[38;2;90;69;150m grape   #5A4596\u001b[0m 0.77\n",
       "\u001b[48;2;52;30;96m  \u001b[0m\u001b[38;2;52;30;96m concord #341E60\u001b[0m 1"
      ]
     },
     "metadata": {},
     "output_type": "display_data"
    }
   ],
   "source": [
    "# Reverse the direction of a gradient\n",
    "display(apc.gradients.viridis)\n",
    "display(apc.gradients.viridis.reverse())"
   ]
  },
  {
   "cell_type": "code",
   "execution_count": 31,
   "metadata": {},
   "outputs": [
    {
     "data": {
      "text/plain": [
       "\u001b[48;2;82;24;10m \u001b[0m\u001b[48;2;108;36;26m \u001b[0m\u001b[48;2;134;49;42m \u001b[0m\u001b[48;2;159;61;57m \u001b[0m\u001b[48;2;185;74;73m \u001b[0m\u001b[48;2;208;91;85m \u001b[0m\u001b[48;2;229;115;92m \u001b[0m\u001b[48;2;243;140;108m \u001b[0m\u001b[48;2;245;172;148m \u001b[0m\u001b[48;2;248;203;189m \u001b[0m\u001b[48;2;251;235;230m \u001b[0m\u001b[48;2;231;241;248m \u001b[0m\u001b[48;2;194;222;241m \u001b[0m\u001b[48;2;156;202;234m \u001b[0m\u001b[48;2;118;182;227m \u001b[0m\u001b[48;2;99;160;213m \u001b[0m\u001b[48;2;80;136;197m \u001b[0m\u001b[48;2;74;115;177m \u001b[0m\u001b[48;2;69;94;157m \u001b[0m\u001b[48;2;63;72;136m \u001b[0m\u001b[48;2;58;51;116m \u001b[0m\n",
       "\u001b[48;2;82;24;10m  \u001b[0m\u001b[38;2;82;24;10m redwood   #52180A\u001b[0m 0.0\n",
       "\u001b[48;2;200;81;82m  \u001b[0m\u001b[38;2;200;81;82m dragon    #C85152\u001b[0m 0.215\n",
       "\u001b[48;2;242;131;96m  \u001b[0m\u001b[38;2;242;131;96m amber     #F28360\u001b[0m 0.32\n",
       "\u001b[48;2;252;252;252m  \u001b[0m\u001b[38;2;252;252;252m paper     #FCFCFC\u001b[0m 0.5\n",
       "\u001b[48;2;115;181;227m  \u001b[0m\u001b[38;2;115;181;227m vitalblue #73B5E3\u001b[0m 0.6699999999999999\n",
       "\u001b[48;2;80;136;197m  \u001b[0m\u001b[38;2;80;136;197m aegean    #5088C5\u001b[0m 0.765\n",
       "\u001b[48;2;52;30;96m  \u001b[0m\u001b[38;2;52;30;96m concord   #341E60\u001b[0m 1.0"
      ]
     },
     "execution_count": 31,
     "metadata": {},
     "output_type": "execute_result"
    }
   ],
   "source": [
    "# Add gradients together.\n",
    "apc.gradients.reds + apc.gradients.blues.reverse()"
   ]
  },
  {
   "cell_type": "code",
   "execution_count": 53,
   "metadata": {},
   "outputs": [
    {
     "data": {
      "image/png": "[encoded data removed]",
      "text/html": [
       "<div style=\"vertical-align: middle;\"><strong>magma</strong> </div><div class=\"cmap\"><img alt=\"magma colormap\" title=\"magma\" style=\"border: 1px solid #555;\" src=\"data:image/png;base64,iVBORw0KGgoAAAANSUhEUgAAAgAAAABACAYAAABsv8+/AAAAFHRFWHRUaXRsZQBtYWdtYSBjb2xvcm1hcCO8Z6IAAAAadEVYdERlc2NyaXB0aW9uAG1hZ21hIGNvbG9ybWFw3ePORAAAADB0RVh0QXV0aG9yAE1hdHBsb3RsaWIgdjMuNy4zLCBodHRwczovL21hdHBsb3RsaWIub3JnusneEAAAADJ0RVh0U29mdHdhcmUATWF0cGxvdGxpYiB2My43LjMsIGh0dHBzOi8vbWF0cGxvdGxpYi5vcmeUb0E3AAAB9ElEQVR4nO3WzXKCMBiG0cSu7P3fL10YsICfgDOu3nMW7YSfJKDtPP1+/51aa621/vjZx+92W4/7GI/r2ma8nF/uXx9v1bzFOrv9VOtt91Ouc3I/xTqn9zPOt8PnXB+/vJ/iuU7vZ3f96/XLz7lcp/o+vB63o/1c/t59uJ/l+Hhb/f9bW7b5bzytxvP1u/vHdcfzTm/neY7X6y73f7i/vlm3nnfa7Pf9/i4/bznv+/fy/XmL97ib99pzn32PZ/e3+XMy/tL4+cHdVr+n+f/y7ecxns9Xx4v79sfHeD5/cHw7f+uv153Xmx8LAAgiAAAgkAAAgEACAAACCQAACCQAACCQAACAQAIAAAIJAAAIJAAAIJAAAIBAAgAAAgkAAAgkAAAgkAAAgEACAAACCQAACCQAACCQAACAQAIAAAIJAAAIJAAAIJAAAIBAAgAAAgkAAAgkAAAgkAAAgEACAAACCQAACCQAACCQAACAQAIAAAIJAAAIJAAAIJAAAIBAAgAAAgkAAAgkAAAgkAAAgEACAAACCQAACCQAACCQAACAQAIAAAIJAAAIJAAAIJAAAIBAAgAAAgkAAAgkAAAgkAAAgEACAAACCQAACCQAACCQAACAQAIAAAIJAAAIJAAAIJAAAIBAAgAAAgkAAAgkAAAgkAAAgEB/go8eFtCBhAIAAAAASUVORK5CYII=\"></div><div style=\"vertical-align: middle; max-width: 514px; display: flex; justify-content: space-between;\"><div style=\"float: left;\"><div title=\"#09090aff\" style=\"display: inline-block; width: 1em; height: 1em; margin: 0; vertical-align: middle; border: 1px solid #555; background-color: #09090aff;\"></div> under</div><div style=\"margin: 0 auto; display: inline-block;\">bad <div title=\"#00000000\" style=\"display: inline-block; width: 1em; height: 1em; margin: 0; vertical-align: middle; border: 1px solid #555; background-color: #00000000;\"></div></div><div style=\"float: right;\">over <div title=\"#f5e4beff\" style=\"display: inline-block; width: 1em; height: 1em; margin: 0; vertical-align: middle; border: 1px solid #555; background-color: #f5e4beff;\"></div></div>"
      ],
      "text/plain": [
       "<matplotlib.colors.LinearSegmentedColormap at 0x1177e3110>"
      ]
     },
     "execution_count": 53,
     "metadata": {},
     "output_type": "execute_result"
    }
   ],
   "source": [
    "# Convert a Palette into a `matplotlib.colors.LinearSegmentedColormap`.\n",
    "apc.gradients.magma.to_mpl_cmap()"
   ]
  },
  {
   "cell_type": "code",
   "execution_count": 57,
   "metadata": {},
   "outputs": [
    {
     "data": {
      "text/plain": [
       "\u001b[48;2;9;9;10m  \u001b[0m\u001b[48;2;44;35;71m  \u001b[0m\u001b[48;2;80;62;133m  \u001b[0m\u001b[48;2;141;86;144m  \u001b[0m\u001b[48;2;210;109;136m  \u001b[0m\u001b[48;2;247;160;132m  \u001b[0m\u001b[48;2;245;228;190m  \u001b[0m\n",
       "\u001b[48;2;9;9;10m  \u001b[0m\u001b[38;2;9;9;10m magma_0 #09090a\u001b[0m\n",
       "\u001b[48;2;44;35;71m  \u001b[0m\u001b[38;2;44;35;71m magma_1 #2c2347\u001b[0m\n",
       "\u001b[48;2;80;62;133m  \u001b[0m\u001b[38;2;80;62;133m magma_2 #503e85\u001b[0m\n",
       "\u001b[48;2;141;86;144m  \u001b[0m\u001b[38;2;141;86;144m magma_3 #8d5690\u001b[0m\n",
       "\u001b[48;2;210;109;136m  \u001b[0m\u001b[38;2;210;109;136m magma_4 #d26d88\u001b[0m\n",
       "\u001b[48;2;247;160;132m  \u001b[0m\u001b[38;2;247;160;132m magma_5 #f7a084\u001b[0m\n",
       "\u001b[48;2;245;228;190m  \u001b[0m\u001b[38;2;245;228;190m magma_6 #f5e4be\u001b[0m"
      ]
     },
     "execution_count": 57,
     "metadata": {},
     "output_type": "execute_result"
    }
   ],
   "source": [
    "# Convert a Gradient into a Palette with a specified number of colors.\n",
    "apc.gradients.magma.resample_as_palette(7)"
   ]
  },
  {
   "cell_type": "markdown",
   "metadata": {},
   "source": [
    "## 7. Checking gradient lightness\n",
    "\n",
    "For most applications, gradients should transition smoothly from light to dark (or vice versa), without major inflection points in intensity. You can check the lightness of a gradient using the `apc.plot.plot_gradient_lightness` function."
   ]
  },
  {
   "cell_type": "code",
   "execution_count": 45,
   "metadata": {},
   "outputs": [
    {
     "data": {
      "image/png": "[encoded data removed]",
      "text/plain": [
       "<Figure size 400x400 with 1 Axes>"
      ]
     },
     "metadata": {},
     "output_type": "display_data"
    }
   ],
   "source": [
    "apc.plot.plot_gradient_lightness(apc.gradients.viridis)"
   ]
  },
  {
   "cell_type": "markdown",
   "metadata": {},
   "source": [
    "When building custom gradients, you can use the `.interpolate_lightness()` method of any `Gradient` object to ensure that the gradient transitions smoothly from light to dark."
   ]
  },
  {
   "cell_type": "code",
   "execution_count": 48,
   "metadata": {},
   "outputs": [
    {
     "data": {
      "image/png": "[encoded data removed]",
      "text/plain": [
       "<Figure size 800x500 with 1 Axes>"
      ]
     },
     "metadata": {},
     "output_type": "display_data"
    },
    {
     "data": {
      "text/plain": [
       "\u001b[48;2;52;30;96m \u001b[0m\u001b[48;2;61;51;114m \u001b[0m\u001b[48;2;70;73;133m \u001b[0m\u001b[48;2;79;94;151m \u001b[0m\u001b[48;2;88;115;170m \u001b[0m\u001b[48;2;96;137;188m \u001b[0m\u001b[48;2;106;160;209m \u001b[0m\u001b[48;2;115;181;227m \u001b[0m\u001b[48;2;127;188;229m \u001b[0m\u001b[48;2;138;195;232m \u001b[0m\u001b[48;2;150;202;234m \u001b[0m\u001b[48;2;163;210;237m \u001b[0m\u001b[48;2;175;217;239m \u001b[0m\u001b[48;2;186;224;242m \u001b[0m\u001b[48;2;198;231;244m \u001b[0m\u001b[48;2;204;234;246m \u001b[0m\u001b[48;2;212;237;247m \u001b[0m\u001b[48;2;218;240;249m \u001b[0m\u001b[48;2;225;243;250m \u001b[0m\u001b[48;2;231;245;252m \u001b[0m\u001b[48;2;238;248;253m \u001b[0m\n",
       "\u001b[48;2;52;30;96m  \u001b[0m\u001b[38;2;52;30;96m concord   #341E60\u001b[0m 0.0\n",
       "\u001b[48;2;115;181;227m  \u001b[0m\u001b[38;2;115;181;227m vitalblue #73B5E3\u001b[0m 0.3333333333333333\n",
       "\u001b[48;2;198;231;244m  \u001b[0m\u001b[38;2;198;231;244m bluesky   #C6E7F4\u001b[0m 0.6666666666666666\n",
       "\u001b[48;2;244;251;255m  \u001b[0m\u001b[38;2;244;251;255m zephyr    #F4FBFF\u001b[0m 1.0"
      ]
     },
     "metadata": {},
     "output_type": "display_data"
    },
    {
     "data": {
      "text/plain": [
       "\u001b[48;2;52;30;96m \u001b[0m\u001b[48;2;56;41;105m \u001b[0m\u001b[48;2;61;51;114m \u001b[0m\u001b[48;2;65;62;124m \u001b[0m\u001b[48;2;70;72;133m \u001b[0m\u001b[48;2;74;83;142m \u001b[0m\u001b[48;2;79;95;152m \u001b[0m\u001b[48;2;83;105;161m \u001b[0m\u001b[48;2;88;116;170m \u001b[0m\u001b[48;2;92;126;180m \u001b[0m\u001b[48;2;97;137;189m \u001b[0m\u001b[48;2;101;148;199m \u001b[0m\u001b[48;2;106;159;208m \u001b[0m\u001b[48;2;110;170;217m \u001b[0m\u001b[48;2;115;180;226m \u001b[0m\u001b[48;2;131;190;230m \u001b[0m\u001b[48;2;149;201;234m \u001b[0m\u001b[48;2;166;212;237m \u001b[0m\u001b[48;2;183;222;241m \u001b[0m\u001b[48;2;200;232;245m \u001b[0m\u001b[48;2;222;241;250m \u001b[0m\n",
       "\u001b[48;2;52;30;96m  \u001b[0m\u001b[38;2;52;30;96m concord   #341E60\u001b[0m 0.0\n",
       "\u001b[48;2;115;181;227m  \u001b[0m\u001b[38;2;115;181;227m vitalblue #73B5E3\u001b[0m 0.67\n",
       "\u001b[48;2;198;231;244m  \u001b[0m\u001b[38;2;198;231;244m bluesky   #C6E7F4\u001b[0m 0.901\n",
       "\u001b[48;2;244;251;255m  \u001b[0m\u001b[38;2;244;251;255m zephyr    #F4FBFF\u001b[0m 1.0"
      ]
     },
     "metadata": {},
     "output_type": "display_data"
    }
   ],
   "source": [
    "# The colors in this custom gradient aren't smoothly increasing in lightness.\n",
    "my_blues = apc.Gradient(\n",
    "    \"my_blues\",\n",
    "    [apc.concord, apc.vitalblue, apc.bluesky, apc.zephyr],\n",
    ")\n",
    "\n",
    "# This method adjusts the positions of colors so that lightness is smoothly increasing.\n",
    "my_blues_interpolated = my_blues.interpolate_lightness()\n",
    "\n",
    "# You can see the difference in lightness by plotting the gradients.\n",
    "apc.plot.plot_gradient_lightness([my_blues, my_blues_interpolated], figsize = (8, 5))\n",
    "\n",
    "display(my_blues)\n",
    "display(my_blues_interpolated)"
   ]
  },
  {
   "cell_type": "markdown",
   "metadata": {},
   "source": [
    "## 8. Displaying all available colors, gradients, and palettes"
   ]
  },
  {
   "cell_type": "code",
   "execution_count": 49,
   "metadata": {},
   "outputs": [
    {
     "data": {
      "text/plain": [
       "\u001b[48;2;235;237;232m  \u001b[0m\u001b[48;2;237;224;214m  \u001b[0m\u001b[48;2;248;244;241m  \u001b[0m\u001b[48;2;249;252;240m  \u001b[0m\u001b[48;2;255;185;132m  \u001b[0m\u001b[48;2;9;9;10m  \u001b[0m\u001b[48;2;72;75;80m  \u001b[0m\u001b[48;2;138;153;173m  \u001b[0m\u001b[48;2;89;111;116m  \u001b[0m\u001b[48;2;244;251;255m  \u001b[0m\u001b[48;2;247;249;253m  \u001b[0m\u001b[48;2;247;251;239m  \u001b[0m\u001b[48;2;255;253;247m  \u001b[0m\u001b[48;2;255;251;248m  \u001b[0m\u001b[48;2;143;136;133m  \u001b[0m\u001b[48;2;67;65;63m  \u001b[0m\u001b[48;2;41;41;40m  \u001b[0m\u001b[48;2;80;136;197m  \u001b[0m\u001b[48;2;242;131;96m  \u001b[0m\u001b[48;2;59;152;134m  \u001b[0m\u001b[48;2;247;184;70m  \u001b[0m\u001b[48;2;122;119;171m  \u001b[0m\u001b[48;2;248;152;174m  \u001b[0m\u001b[48;2;198;231;244m  \u001b[0m\u001b[48;2;248;197;193m  \u001b[0m\u001b[48;2;181;190;164m  \u001b[0m\u001b[48;2;245;228;190m  \u001b[0m\u001b[48;2;220;191;252m  \u001b[0m\u001b[48;2;245;203;228m  \u001b[0m\u001b[48;2;151;205;120m  \u001b[0m\u001b[48;2;115;181;227m  \u001b[0m\u001b[48;2;255;185;132m  \u001b[0m\u001b[48;2;186;176;168m  \u001b[0m\u001b[48;2;138;153;173m  \u001b[0m\u001b[48;2;200;81;82m  \u001b[0m\u001b[48;2;209;234;223m  \u001b[0m\u001b[48;2;186;190;224m  \u001b[0m\u001b[48;2;241;232;218m  \u001b[0m\u001b[48;2;218;211;199m  \u001b[0m\u001b[48;2;218;144;133m  \u001b[0m\u001b[48;2;182;200;212m  \u001b[0m\u001b[48;2;52;30;96m  \u001b[0m\u001b[48;2;90;69;150m  \u001b[0m\u001b[48;2;232;116;133m  \u001b[0m\u001b[48;2;234;234;234m  \u001b[0m\u001b[48;2;252;252;252m  \u001b[0m\u001b[48;2;82;24;10m  \u001b[0m\u001b[48;2;77;44;3m  \u001b[0m\u001b[48;2;63;45;92m  \u001b[0m\u001b[48;2;71;17;34m  \u001b[0m\u001b[48;2;9;71;62m  \u001b[0m\u001b[48;2;69;143;153m  \u001b[0m\u001b[48;2;30;72;18m  \u001b[0m\u001b[48;2;199;73;112m  \u001b[0m\u001b[48;2;77;37;0m  \u001b[0m\u001b[48;2;168;94;40m  \u001b[0m\u001b[48;2;253;248;242m  \u001b[0m\u001b[48;2;255;255;255m  \u001b[0m\u001b[48;2;255;0;0m  \u001b[0m\u001b[48;2;0;255;0m  \u001b[0m\u001b[48;2;0;0;255m  \u001b[0m\u001b[48;2;0;255;255m  \u001b[0m\u001b[48;2;255;0;255m  \u001b[0m\u001b[48;2;255;255;0m  \u001b[0m\u001b[48;2;0;0;0m  \u001b[0m\n",
       "\u001b[48;2;235;237;232m  \u001b[0m\u001b[38;2;235;237;232m lightgrey  #EBEDE8\u001b[0m\n",
       "\u001b[48;2;237;224;214m  \u001b[0m\u001b[38;2;237;224;214m shell      #EDE0D6\u001b[0m\n",
       "\u001b[48;2;248;244;241m  \u001b[0m\u001b[38;2;248;244;241m dawn       #F8F4F1\u001b[0m\n",
       "\u001b[48;2;249;252;240m  \u001b[0m\u001b[38;2;249;252;240m seafoam    #F9FCF0\u001b[0m\n",
       "\u001b[48;2;255;185;132m  \u001b[0m\u001b[38;2;255;185;132m tangerine  #FFB984\u001b[0m\n",
       "\u001b[48;2;9;9;10m  \u001b[0m\u001b[38;2;9;9;10m pitch      #09090A\u001b[0m\n",
       "\u001b[48;2;72;75;80m  \u001b[0m\u001b[38;2;72;75;80m charcoal   #484B50\u001b[0m\n",
       "\u001b[48;2;138;153;173m  \u001b[0m\u001b[38;2;138;153;173m marineblue #8A99AD\u001b[0m\n",
       "\u001b[48;2;89;111;116m  \u001b[0m\u001b[38;2;89;111;116m forest     #596F74\u001b[0m\n",
       "\u001b[48;2;244;251;255m  \u001b[0m\u001b[38;2;244;251;255m zephyr     #F4FBFF\u001b[0m\n",
       "\u001b[48;2;247;249;253m  \u001b[0m\u001b[38;2;247;249;253m paleazure  #F7F9FD\u001b[0m\n",
       "\u001b[48;2;247;251;239m  \u001b[0m\u001b[38;2;247;251;239m lichen     #F7FBEF\u001b[0m\n",
       "\u001b[48;2;255;253;247m  \u001b[0m\u001b[38;2;255;253;247m orchid     #FFFDF7\u001b[0m\n",
       "\u001b[48;2;255;251;248m  \u001b[0m\u001b[38;2;255;251;248m buff       #FFFBF8\u001b[0m\n",
       "\u001b[48;2;143;136;133m  \u001b[0m\u001b[38;2;143;136;133m bark       #8F8885\u001b[0m\n",
       "\u001b[48;2;67;65;63m  \u001b[0m\u001b[38;2;67;65;63m slate      #43413F\u001b[0m\n",
       "\u001b[48;2;41;41;40m  \u001b[0m\u001b[38;2;41;41;40m crow       #292928\u001b[0m\n",
       "\u001b[48;2;80;136;197m  \u001b[0m\u001b[38;2;80;136;197m aegean     #5088C5\u001b[0m\n",
       "\u001b[48;2;242;131;96m  \u001b[0m\u001b[38;2;242;131;96m amber      #F28360\u001b[0m\n",
       "\u001b[48;2;59;152;134m  \u001b[0m\u001b[38;2;59;152;134m seaweed    #3B9886\u001b[0m\n",
       "\u001b[48;2;247;184;70m  \u001b[0m\u001b[38;2;247;184;70m canary     #F7B846\u001b[0m\n",
       "\u001b[48;2;122;119;171m  \u001b[0m\u001b[38;2;122;119;171m aster      #7A77AB\u001b[0m\n",
       "\u001b[48;2;248;152;174m  \u001b[0m\u001b[38;2;248;152;174m rose       #F898AE\u001b[0m\n",
       "\u001b[48;2;198;231;244m  \u001b[0m\u001b[38;2;198;231;244m bluesky    #C6E7F4\u001b[0m\n",
       "\u001b[48;2;248;197;193m  \u001b[0m\u001b[38;2;248;197;193m dress      #F8C5C1\u001b[0m\n",
       "\u001b[48;2;181;190;164m  \u001b[0m\u001b[38;2;181;190;164m sage       #B5BEA4\u001b[0m\n",
       "\u001b[48;2;245;228;190m  \u001b[0m\u001b[38;2;245;228;190m oat        #F5E4BE\u001b[0m\n",
       "\u001b[48;2;220;191;252m  \u001b[0m\u001b[38;2;220;191;252m periwinkle #DCBFFC\u001b[0m\n",
       "\u001b[48;2;245;203;228m  \u001b[0m\u001b[38;2;245;203;228m blossom    #F5CBE4\u001b[0m\n",
       "\u001b[48;2;151;205;120m  \u001b[0m\u001b[38;2;151;205;120m lime       #97CD78\u001b[0m\n",
       "\u001b[48;2;115;181;227m  \u001b[0m\u001b[38;2;115;181;227m vitalblue  #73B5E3\u001b[0m\n",
       "\u001b[48;2;255;185;132m  \u001b[0m\u001b[38;2;255;185;132m tangerine  #FFB984\u001b[0m\n",
       "\u001b[48;2;186;176;168m  \u001b[0m\u001b[38;2;186;176;168m chateau    #BAB0A8\u001b[0m\n",
       "\u001b[48;2;138;153;173m  \u001b[0m\u001b[38;2;138;153;173m marineblue #8A99AD\u001b[0m\n",
       "\u001b[48;2;200;81;82m  \u001b[0m\u001b[38;2;200;81;82m dragon     #C85152\u001b[0m\n",
       "\u001b[48;2;209;234;223m  \u001b[0m\u001b[38;2;209;234;223m mint       #D1EADF\u001b[0m\n",
       "\u001b[48;2;186;190;224m  \u001b[0m\u001b[38;2;186;190;224m wish       #BABEE0\u001b[0m\n",
       "\u001b[48;2;241;232;218m  \u001b[0m\u001b[38;2;241;232;218m satin      #F1E8DA\u001b[0m\n",
       "\u001b[48;2;218;211;199m  \u001b[0m\u001b[38;2;218;211;199m taupe      #DAD3C7\u001b[0m\n",
       "\u001b[48;2;218;144;133m  \u001b[0m\u001b[38;2;218;144;133m mars       #DA9085\u001b[0m\n",
       "\u001b[48;2;182;200;212m  \u001b[0m\u001b[38;2;182;200;212m denim      #B6C8D4\u001b[0m\n",
       "\u001b[48;2;52;30;96m  \u001b[0m\u001b[38;2;52;30;96m concord    #341E60\u001b[0m\n",
       "\u001b[48;2;90;69;150m  \u001b[0m\u001b[38;2;90;69;150m grape      #5A4596\u001b[0m\n",
       "\u001b[48;2;232;116;133m  \u001b[0m\u001b[38;2;232;116;133m taffy      #E87485\u001b[0m\n",
       "\u001b[48;2;234;234;234m  \u001b[0m\u001b[38;2;234;234;234m brightgrey #EAEAEA\u001b[0m\n",
       "\u001b[48;2;252;252;252m  \u001b[0m\u001b[38;2;252;252;252m paper      #FCFCFC\u001b[0m\n",
       "\u001b[48;2;82;24;10m  \u001b[0m\u001b[38;2;82;24;10m redwood    #52180A\u001b[0m\n",
       "\u001b[48;2;77;44;3m  \u001b[0m\u001b[38;2;77;44;3m cocoa      #4D2C03\u001b[0m\n",
       "\u001b[48;2;63;45;92m  \u001b[0m\u001b[38;2;63;45;92m royal      #3F2D5C\u001b[0m\n",
       "\u001b[48;2;71;17;34m  \u001b[0m\u001b[38;2;71;17;34m carmine    #471122\u001b[0m\n",
       "\u001b[48;2;9;71;62m  \u001b[0m\u001b[38;2;9;71;62m depths     #09473E\u001b[0m\n",
       "\u001b[48;2;69;143;153m  \u001b[0m\u001b[38;2;69;143;153m bluegrass  #458F99\u001b[0m\n",
       "\u001b[48;2;30;72;18m  \u001b[0m\u001b[38;2;30;72;18m yucca      #1E4812\u001b[0m\n",
       "\u001b[48;2;199;73;112m  \u001b[0m\u001b[38;2;199;73;112m pitaya     #C74970\u001b[0m\n",
       "\u001b[48;2;77;37;0m  \u001b[0m\u001b[38;2;77;37;0m soil       #4D2500\u001b[0m\n",
       "\u001b[48;2;168;94;40m  \u001b[0m\u001b[38;2;168;94;40m umber      #A85E28\u001b[0m\n",
       "\u001b[48;2;253;248;242m  \u001b[0m\u001b[38;2;253;248;242m parchment  #FDF8F2\u001b[0m\n",
       "\u001b[48;2;255;255;255m  \u001b[0m\u001b[38;2;255;255;255m white      #FFFFFF\u001b[0m\n",
       "\u001b[48;2;255;0;0m  \u001b[0m\u001b[38;2;255;0;0m red        #FF0000\u001b[0m\n",
       "\u001b[48;2;0;255;0m  \u001b[0m\u001b[38;2;0;255;0m green      #00FF00\u001b[0m\n",
       "\u001b[48;2;0;0;255m  \u001b[0m\u001b[38;2;0;0;255m blue       #0000FF\u001b[0m\n",
       "\u001b[48;2;0;255;255m  \u001b[0m\u001b[38;2;0;255;255m cyan       #00FFFF\u001b[0m\n",
       "\u001b[48;2;255;0;255m  \u001b[0m\u001b[38;2;255;0;255m magenta    #FF00FF\u001b[0m\n",
       "\u001b[48;2;255;255;0m  \u001b[0m\u001b[38;2;255;255;0m yellow     #FFFF00\u001b[0m\n",
       "\u001b[48;2;0;0;0m  \u001b[0m\u001b[38;2;0;0;0m black      #000000\u001b[0m"
      ]
     },
     "execution_count": 49,
     "metadata": {},
     "output_type": "execute_result"
    }
   ],
   "source": [
    "# Display all colors.\n",
    "# TODO: Should this be abstracted as a function in `apc.plot`?\n",
    "apc.palettes.all"
   ]
  },
  {
   "cell_type": "code",
   "execution_count": 50,
   "metadata": {},
   "outputs": [
    {
     "name": "stdout",
     "output_type": "stream",
     "text": [
      "Core\n",
      "\u001b[48;2;235;237;232m  \u001b[0m\u001b[48;2;237;224;214m  \u001b[0m\u001b[48;2;248;244;241m  \u001b[0m\u001b[48;2;249;252;240m  \u001b[0m\u001b[48;2;255;185;132m  \u001b[0m\u001b[48;2;9;9;10m  \u001b[0m\u001b[48;2;72;75;80m  \u001b[0m\u001b[48;2;138;153;173m  \u001b[0m\u001b[48;2;89;111;116m  \u001b[0m\n",
      "Neutral\n",
      "\u001b[48;2;244;251;255m  \u001b[0m\u001b[48;2;247;249;253m  \u001b[0m\u001b[48;2;247;251;239m  \u001b[0m\u001b[48;2;255;253;247m  \u001b[0m\u001b[48;2;255;251;248m  \u001b[0m\u001b[48;2;143;136;133m  \u001b[0m\u001b[48;2;67;65;63m  \u001b[0m\u001b[48;2;41;41;40m  \u001b[0m\n",
      "Accent\n",
      "\u001b[48;2;80;136;197m  \u001b[0m\u001b[48;2;242;131;96m  \u001b[0m\u001b[48;2;59;152;134m  \u001b[0m\u001b[48;2;247;184;70m  \u001b[0m\u001b[48;2;122;119;171m  \u001b[0m\u001b[48;2;248;152;174m  \u001b[0m\n",
      "LightAccent\n",
      "\u001b[48;2;198;231;244m  \u001b[0m\u001b[48;2;248;197;193m  \u001b[0m\u001b[48;2;181;190;164m  \u001b[0m\u001b[48;2;245;228;190m  \u001b[0m\u001b[48;2;220;191;252m  \u001b[0m\u001b[48;2;245;203;228m  \u001b[0m\n",
      "AccentExpanded\n",
      "\u001b[48;2;151;205;120m  \u001b[0m\u001b[48;2;115;181;227m  \u001b[0m\u001b[48;2;255;185;132m  \u001b[0m\u001b[48;2;186;176;168m  \u001b[0m\u001b[48;2;138;153;173m  \u001b[0m\u001b[48;2;200;81;82m  \u001b[0m\n",
      "LightAccentExpanded\n",
      "\u001b[48;2;209;234;223m  \u001b[0m\u001b[48;2;186;190;224m  \u001b[0m\u001b[48;2;241;232;218m  \u001b[0m\u001b[48;2;218;211;199m  \u001b[0m\u001b[48;2;218;144;133m  \u001b[0m\u001b[48;2;182;200;212m  \u001b[0m\n",
      "AccentOrdered\n",
      "\u001b[48;2;80;136;197m  \u001b[0m\u001b[48;2;242;131;96m  \u001b[0m\u001b[48;2;247;184;70m  \u001b[0m\u001b[48;2;151;205;120m  \u001b[0m\u001b[48;2;122;119;171m  \u001b[0m\u001b[48;2;248;152;174m  \u001b[0m\u001b[48;2;59;152;134m  \u001b[0m\u001b[48;2;200;81;82m  \u001b[0m\u001b[48;2;115;181;227m  \u001b[0m\u001b[48;2;186;176;168m  \u001b[0m\u001b[48;2;138;153;173m  \u001b[0m\u001b[48;2;255;185;132m  \u001b[0m\n",
      "LightOrdered\n",
      "\u001b[48;2;198;231;244m  \u001b[0m\u001b[48;2;248;197;193m  \u001b[0m\u001b[48;2;245;228;190m  \u001b[0m\u001b[48;2;181;190;164m  \u001b[0m\u001b[48;2;220;191;252m  \u001b[0m\u001b[48;2;182;200;212m  \u001b[0m\u001b[48;2;218;211;199m  \u001b[0m\u001b[48;2;218;144;133m  \u001b[0m\u001b[48;2;245;203;228m  \u001b[0m\u001b[48;2;209;234;223m  \u001b[0m\u001b[48;2;186;190;224m  \u001b[0m\u001b[48;2;241;232;218m  \u001b[0m\n",
      "AccentAllOrdered\n",
      "\u001b[48;2;80;136;197m  \u001b[0m\u001b[48;2;242;131;96m  \u001b[0m\u001b[48;2;247;184;70m  \u001b[0m\u001b[48;2;151;205;120m  \u001b[0m\u001b[48;2;122;119;171m  \u001b[0m\u001b[48;2;248;152;174m  \u001b[0m\u001b[48;2;59;152;134m  \u001b[0m\u001b[48;2;200;81;82m  \u001b[0m\u001b[48;2;115;181;227m  \u001b[0m\u001b[48;2;186;176;168m  \u001b[0m\u001b[48;2;138;153;173m  \u001b[0m\u001b[48;2;255;185;132m  \u001b[0m\u001b[48;2;198;231;244m  \u001b[0m\u001b[48;2;248;197;193m  \u001b[0m\u001b[48;2;245;228;190m  \u001b[0m\u001b[48;2;181;190;164m  \u001b[0m\u001b[48;2;220;191;252m  \u001b[0m\u001b[48;2;182;200;212m  \u001b[0m\u001b[48;2;218;211;199m  \u001b[0m\u001b[48;2;218;144;133m  \u001b[0m\u001b[48;2;245;203;228m  \u001b[0m\u001b[48;2;209;234;223m  \u001b[0m\u001b[48;2;186;190;224m  \u001b[0m\u001b[48;2;241;232;218m  \u001b[0m\n",
      "Other\n",
      "\u001b[48;2;52;30;96m  \u001b[0m\u001b[48;2;90;69;150m  \u001b[0m\u001b[48;2;232;116;133m  \u001b[0m\u001b[48;2;234;234;234m  \u001b[0m\u001b[48;2;252;252;252m  \u001b[0m\u001b[48;2;82;24;10m  \u001b[0m\u001b[48;2;77;44;3m  \u001b[0m\u001b[48;2;63;45;92m  \u001b[0m\u001b[48;2;71;17;34m  \u001b[0m\u001b[48;2;9;71;62m  \u001b[0m\u001b[48;2;69;143;153m  \u001b[0m\u001b[48;2;30;72;18m  \u001b[0m\u001b[48;2;199;73;112m  \u001b[0m\u001b[48;2;77;37;0m  \u001b[0m\u001b[48;2;168;94;40m  \u001b[0m\u001b[48;2;253;248;242m  \u001b[0m\n",
      "Named\n",
      "\u001b[48;2;255;255;255m  \u001b[0m\u001b[48;2;255;0;0m  \u001b[0m\u001b[48;2;0;255;0m  \u001b[0m\u001b[48;2;0;0;255m  \u001b[0m\u001b[48;2;0;255;255m  \u001b[0m\u001b[48;2;255;0;255m  \u001b[0m\u001b[48;2;255;255;0m  \u001b[0m\u001b[48;2;0;0;0m  \u001b[0m\n",
      "All\n",
      "\u001b[48;2;235;237;232m  \u001b[0m\u001b[48;2;237;224;214m  \u001b[0m\u001b[48;2;248;244;241m  \u001b[0m\u001b[48;2;249;252;240m  \u001b[0m\u001b[48;2;255;185;132m  \u001b[0m\u001b[48;2;9;9;10m  \u001b[0m\u001b[48;2;72;75;80m  \u001b[0m\u001b[48;2;138;153;173m  \u001b[0m\u001b[48;2;89;111;116m  \u001b[0m\u001b[48;2;244;251;255m  \u001b[0m\u001b[48;2;247;249;253m  \u001b[0m\u001b[48;2;247;251;239m  \u001b[0m\u001b[48;2;255;253;247m  \u001b[0m\u001b[48;2;255;251;248m  \u001b[0m\u001b[48;2;143;136;133m  \u001b[0m\u001b[48;2;67;65;63m  \u001b[0m\u001b[48;2;41;41;40m  \u001b[0m\u001b[48;2;80;136;197m  \u001b[0m\u001b[48;2;242;131;96m  \u001b[0m\u001b[48;2;59;152;134m  \u001b[0m\u001b[48;2;247;184;70m  \u001b[0m\u001b[48;2;122;119;171m  \u001b[0m\u001b[48;2;248;152;174m  \u001b[0m\u001b[48;2;198;231;244m  \u001b[0m\u001b[48;2;248;197;193m  \u001b[0m\u001b[48;2;181;190;164m  \u001b[0m\u001b[48;2;245;228;190m  \u001b[0m\u001b[48;2;220;191;252m  \u001b[0m\u001b[48;2;245;203;228m  \u001b[0m\u001b[48;2;151;205;120m  \u001b[0m\u001b[48;2;115;181;227m  \u001b[0m\u001b[48;2;255;185;132m  \u001b[0m\u001b[48;2;186;176;168m  \u001b[0m\u001b[48;2;138;153;173m  \u001b[0m\u001b[48;2;200;81;82m  \u001b[0m\u001b[48;2;209;234;223m  \u001b[0m\u001b[48;2;186;190;224m  \u001b[0m\u001b[48;2;241;232;218m  \u001b[0m\u001b[48;2;218;211;199m  \u001b[0m\u001b[48;2;218;144;133m  \u001b[0m\u001b[48;2;182;200;212m  \u001b[0m\u001b[48;2;52;30;96m  \u001b[0m\u001b[48;2;90;69;150m  \u001b[0m\u001b[48;2;232;116;133m  \u001b[0m\u001b[48;2;234;234;234m  \u001b[0m\u001b[48;2;252;252;252m  \u001b[0m\u001b[48;2;82;24;10m  \u001b[0m\u001b[48;2;77;44;3m  \u001b[0m\u001b[48;2;63;45;92m  \u001b[0m\u001b[48;2;71;17;34m  \u001b[0m\u001b[48;2;9;71;62m  \u001b[0m\u001b[48;2;69;143;153m  \u001b[0m\u001b[48;2;30;72;18m  \u001b[0m\u001b[48;2;199;73;112m  \u001b[0m\u001b[48;2;77;37;0m  \u001b[0m\u001b[48;2;168;94;40m  \u001b[0m\u001b[48;2;253;248;242m  \u001b[0m\u001b[48;2;255;255;255m  \u001b[0m\u001b[48;2;255;0;0m  \u001b[0m\u001b[48;2;0;255;0m  \u001b[0m\u001b[48;2;0;0;255m  \u001b[0m\u001b[48;2;0;255;255m  \u001b[0m\u001b[48;2;255;0;255m  \u001b[0m\u001b[48;2;255;255;0m  \u001b[0m\u001b[48;2;0;0;0m  \u001b[0m\n"
     ]
    }
   ],
   "source": [
    "# Display all palettes.\n",
    "apc.plot.display_all_palettes()"
   ]
  },
  {
   "cell_type": "code",
   "execution_count": 52,
   "metadata": {},
   "outputs": [
    {
     "name": "stdout",
     "output_type": "stream",
     "text": [
      "viridis\n",
      "\u001b[48;2;52;30;96m \u001b[0m\u001b[48;2;60;38;107m \u001b[0m\u001b[48;2;68;46;118m \u001b[0m\u001b[48;2;75;54;129m \u001b[0m\u001b[48;2;83;62;140m \u001b[0m\u001b[48;2;90;70;151m \u001b[0m\u001b[48;2;88;84;160m \u001b[0m\u001b[48;2;86;96;169m \u001b[0m\u001b[48;2;84;108;177m \u001b[0m\u001b[48;2;82;120;186m \u001b[0m\u001b[48;2;81;132;194m \u001b[0m\u001b[48;2;89;145;187m \u001b[0m\u001b[48;2;101;156;174m \u001b[0m\u001b[48;2;113;168;161m \u001b[0m\u001b[48;2;125;180;148m \u001b[0m\u001b[48;2;137;191;135m \u001b[0m\u001b[48;2;150;204;121m \u001b[0m\u001b[48;2;170;214;98m \u001b[0m\u001b[48;2;191;224;74m \u001b[0m\u001b[48;2;212;235;49m \u001b[0m\u001b[48;2;234;245;25m \u001b[0m\n",
      "magma\n",
      "\u001b[48;2;9;9;10m \u001b[0m\u001b[48;2;19;16;27m \u001b[0m\u001b[48;2;29;24;45m \u001b[0m\u001b[48;2;39;31;62m \u001b[0m\u001b[48;2;49;39;79m \u001b[0m\u001b[48;2;59;46;97m \u001b[0m\u001b[48;2;70;54;115m \u001b[0m\u001b[48;2;80;62;133m \u001b[0m\u001b[48;2;90;69;150m \u001b[0m\u001b[48;2;110;76;148m \u001b[0m\u001b[48;2;129;82;145m \u001b[0m\u001b[48;2;151;89;143m \u001b[0m\u001b[48;2;170;96;140m \u001b[0m\u001b[48;2;190;102;138m \u001b[0m\u001b[48;2;210;109;136m \u001b[0m\u001b[48;2;229;115;133m \u001b[0m\u001b[48;2;238;133;133m \u001b[0m\u001b[48;2;244;151;132m \u001b[0m\u001b[48;2;250;169;132m \u001b[0m\u001b[48;2;254;188;135m \u001b[0m\u001b[48;2;250;208;163m \u001b[0m\n",
      "cividis\n",
      "\u001b[48;2;41;41;40m \u001b[0m\u001b[48;2;47;49;49m \u001b[0m\u001b[48;2;53;58;58m \u001b[0m\u001b[48;2;58;66;68m \u001b[0m\u001b[48;2;64;75;77m \u001b[0m\u001b[48;2;70;83;86m \u001b[0m\u001b[48;2;76;92;96m \u001b[0m\u001b[48;2;82;101;105m \u001b[0m\u001b[48;2;88;109;114m \u001b[0m\u001b[48;2;102;117;112m \u001b[0m\u001b[48;2;118;124;108m \u001b[0m\u001b[48;2;136;133;102m \u001b[0m\u001b[48;2;152;140;98m \u001b[0m\u001b[48;2;168;147;93m \u001b[0m\u001b[48;2;184;155;88m \u001b[0m\u001b[48;2;200;162;84m \u001b[0m\u001b[48;2;218;170;79m \u001b[0m\u001b[48;2;234;178;74m \u001b[0m\u001b[48;2;247;187;79m \u001b[0m\u001b[48;2;245;202;125m \u001b[0m\u001b[48;2;243;217;172m \u001b[0m\n",
      "reds\n",
      "\u001b[48;2;82;24;10m \u001b[0m\u001b[48;2;95;30;18m \u001b[0m\u001b[48;2;108;36;26m \u001b[0m\u001b[48;2;121;43;34m \u001b[0m\u001b[48;2;134;49;42m \u001b[0m\u001b[48;2;147;55;49m \u001b[0m\u001b[48;2;161;62;58m \u001b[0m\u001b[48;2;173;68;66m \u001b[0m\u001b[48;2;186;74;74m \u001b[0m\u001b[48;2;199;81;82m \u001b[0m\u001b[48;2;209;92;85m \u001b[0m\u001b[48;2;219;104;88m \u001b[0m\u001b[48;2;229;115;92m \u001b[0m\u001b[48;2;238;126;95m \u001b[0m\u001b[48;2;243;140;108m \u001b[0m\u001b[48;2;244;156;128m \u001b[0m\u001b[48;2;245;173;150m \u001b[0m\u001b[48;2;247;189;170m \u001b[0m\u001b[48;2;248;205;191m \u001b[0m\u001b[48;2;249;220;211m \u001b[0m\u001b[48;2;251;236;232m \u001b[0m\n",
      "oranges\n",
      "\u001b[48;2;77;37;0m \u001b[0m\u001b[48;2;88;44;5m \u001b[0m\u001b[48;2;100;51;10m \u001b[0m\u001b[48;2;111;58;15m \u001b[0m\u001b[48;2;122;65;20m \u001b[0m\u001b[48;2;133;72;25m \u001b[0m\u001b[48;2;146;80;30m \u001b[0m\u001b[48;2;157;87;35m \u001b[0m\u001b[48;2;168;94;40m \u001b[0m\u001b[48;2;178;104;50m \u001b[0m\u001b[48;2;188;114;61m \u001b[0m\u001b[48;2;198;126;72m \u001b[0m\u001b[48;2;208;136;82m \u001b[0m\u001b[48;2;218;146;92m \u001b[0m\u001b[48;2;227;156;103m \u001b[0m\u001b[48;2;237;166;113m \u001b[0m\u001b[48;2;248;177;124m \u001b[0m\u001b[48;2;255;189;139m \u001b[0m\u001b[48;2;254;205;167m \u001b[0m\u001b[48;2;253;220;196m \u001b[0m\u001b[48;2;253;236;224m \u001b[0m\n",
      "yellows\n",
      "\u001b[48;2;77;44;3m \u001b[0m\u001b[48;2;88;53;7m \u001b[0m\u001b[48;2;98;61;11m \u001b[0m\u001b[48;2;109;70;15m \u001b[0m\u001b[48;2;119;79;20m \u001b[0m\u001b[48;2;130;87;24m \u001b[0m\u001b[48;2;141;97;28m \u001b[0m\u001b[48;2;152;105;32m \u001b[0m\u001b[48;2;162;114;37m \u001b[0m\u001b[48;2;173;123;41m \u001b[0m\u001b[48;2;183;131;45m \u001b[0m\u001b[48;2;195;141;49m \u001b[0m\u001b[48;2;205;149;53m \u001b[0m\u001b[48;2;216;158;58m \u001b[0m\u001b[48;2;226;167;62m \u001b[0m\u001b[48;2;237;175;66m \u001b[0m\u001b[48;2;247;185;74m \u001b[0m\u001b[48;2;246;200;114m \u001b[0m\u001b[48;2;246;215;155m \u001b[0m\u001b[48;2;245;229;194m \u001b[0m\u001b[48;2;249;241;223m \u001b[0m\n",
      "greens\n",
      "\u001b[48;2;30;72;18m \u001b[0m\u001b[48;2;38;81;25m \u001b[0m\u001b[48;2;46;90;32m \u001b[0m\u001b[48;2;54;99;39m \u001b[0m\u001b[48;2;63;108;45m \u001b[0m\u001b[48;2;71;117;52m \u001b[0m\u001b[48;2;79;126;60m \u001b[0m\u001b[48;2;88;135;67m \u001b[0m\u001b[48;2;96;144;73m \u001b[0m\u001b[48;2;104;153;80m \u001b[0m\u001b[48;2;112;162;87m \u001b[0m\u001b[48;2;121;172;95m \u001b[0m\u001b[48;2;129;181;101m \u001b[0m\u001b[48;2;137;190;108m \u001b[0m\u001b[48;2;145;199;115m \u001b[0m\u001b[48;2;156;207;126m \u001b[0m\u001b[48;2;173;215;148m \u001b[0m\u001b[48;2;189;223;169m \u001b[0m\u001b[48;2;204;230;190m \u001b[0m\u001b[48;2;220;237;211m \u001b[0m\u001b[48;2;236;245;231m \u001b[0m\n",
      "teals\n",
      "\u001b[48;2;9;71;62m \u001b[0m\u001b[48;2;15;80;70m \u001b[0m\u001b[48;2;20;89;78m \u001b[0m\u001b[48;2;26;98;86m \u001b[0m\u001b[48;2;31;107;94m \u001b[0m\u001b[48;2;37;116;102m \u001b[0m\u001b[48;2;43;126;111m \u001b[0m\u001b[48;2;49;135;119m \u001b[0m\u001b[48;2;54;144;127m \u001b[0m\u001b[48;2;61;153;136m \u001b[0m\u001b[48;2;77;161;145m \u001b[0m\u001b[48;2;94;170;155m \u001b[0m\u001b[48;2;110;178;165m \u001b[0m\u001b[48;2;125;186;175m \u001b[0m\u001b[48;2;141;195;184m \u001b[0m\u001b[48;2;157;203;194m \u001b[0m\u001b[48;2;174;211;204m \u001b[0m\u001b[48;2;189;220;214m \u001b[0m\u001b[48;2;205;228;223m \u001b[0m\u001b[48;2;221;236;233m \u001b[0m\u001b[48;2;236;244;242m \u001b[0m\n",
      "blues\n",
      "\u001b[48;2;52;30;96m \u001b[0m\u001b[48;2;55;41;106m \u001b[0m\u001b[48;2;58;51;116m \u001b[0m\u001b[48;2;60;62;126m \u001b[0m\u001b[48;2;63;72;136m \u001b[0m\u001b[48;2;66;83;147m \u001b[0m\u001b[48;2;69;95;158m \u001b[0m\u001b[48;2;72;105;168m \u001b[0m\u001b[48;2;75;116;178m \u001b[0m\u001b[48;2;77;126;188m \u001b[0m\u001b[48;2;81;137;198m \u001b[0m\u001b[48;2;90;149;206m \u001b[0m\u001b[48;2;99;160;213m \u001b[0m\u001b[48;2;108;171;221m \u001b[0m\u001b[48;2;118;182;227m \u001b[0m\u001b[48;2;137;192;231m \u001b[0m\u001b[48;2;157;203;235m \u001b[0m\u001b[48;2;176;213;238m \u001b[0m\u001b[48;2;195;223;242m \u001b[0m\u001b[48;2;214;232;245m \u001b[0m\u001b[48;2;233;242;249m \u001b[0m\n",
      "purples\n",
      "\u001b[48;2;63;45;92m \u001b[0m\u001b[48;2;70;54;101m \u001b[0m\u001b[48;2;77;62;111m \u001b[0m\u001b[48;2;84;71;120m \u001b[0m\u001b[48;2;91;80;129m \u001b[0m\u001b[48;2;98;89;138m \u001b[0m\u001b[48;2;105;98;149m \u001b[0m\u001b[48;2;112;107;158m \u001b[0m\u001b[48;2;119;115;167m \u001b[0m\u001b[48;2;127;125;175m \u001b[0m\u001b[48;2;136;135;183m \u001b[0m\u001b[48;2;146;145;191m \u001b[0m\u001b[48;2;154;155;198m \u001b[0m\u001b[48;2;163;165;205m \u001b[0m\u001b[48;2;172;175;213m \u001b[0m\u001b[48;2;181;185;220m \u001b[0m\u001b[48;2;192;196;227m \u001b[0m\u001b[48;2;204;207;232m \u001b[0m\u001b[48;2;216;218;237m \u001b[0m\u001b[48;2;228;230;242m \u001b[0m\u001b[48;2;240;241;247m \u001b[0m\n",
      "magentas\n",
      "\u001b[48;2;71;17;34m \u001b[0m\u001b[48;2;85;23;42m \u001b[0m\u001b[48;2;98;29;51m \u001b[0m\u001b[48;2;112;35;59m \u001b[0m\u001b[48;2;126;41;67m \u001b[0m\u001b[48;2;139;47;76m \u001b[0m\u001b[48;2;154;53;85m \u001b[0m\u001b[48;2;168;59;93m \u001b[0m\u001b[48;2;182;65;101m \u001b[0m\u001b[48;2;195;71;110m \u001b[0m\u001b[48;2;205;82;119m \u001b[0m\u001b[48;2;213;96;130m \u001b[0m\u001b[48;2;221;109;140m \u001b[0m\u001b[48;2;229;122;150m \u001b[0m\u001b[48;2;237;135;160m \u001b[0m\u001b[48;2;245;148;171m \u001b[0m\u001b[48;2;249;165;184m \u001b[0m\u001b[48;2;249;182;198m \u001b[0m\u001b[48;2;250;200;211m \u001b[0m\u001b[48;2;251;217;225m \u001b[0m\u001b[48;2;251;235;238m \u001b[0m\n",
      "aegean_amber\n",
      "\u001b[48;2;80;136;197m \u001b[0m\u001b[48;2;96;147;202m \u001b[0m\u001b[48;2;112;158;207m \u001b[0m\u001b[48;2;129;169;213m \u001b[0m\u001b[48;2;145;180;218m \u001b[0m\u001b[48;2;161;191;223m \u001b[0m\u001b[48;2;178;202;228m \u001b[0m\u001b[48;2;195;213;234m \u001b[0m\u001b[48;2;211;224;239m \u001b[0m\u001b[48;2;227;235;244m \u001b[0m\u001b[48;2;243;246;249m \u001b[0m\u001b[48;2;251;246;244m \u001b[0m\u001b[48;2;251;234;229m \u001b[0m\u001b[48;2;250;223;215m \u001b[0m\u001b[48;2;249;212;200m \u001b[0m\u001b[48;2;248;200;185m \u001b[0m\u001b[48;2;247;188;169m \u001b[0m\u001b[48;2;246;177;155m \u001b[0m\u001b[48;2;245;165;140m \u001b[0m\u001b[48;2;244;154;125m \u001b[0m\u001b[48;2;243;142;111m \u001b[0m\n",
      "aster_canary\n",
      "\u001b[48;2;122;119;171m \u001b[0m\u001b[48;2;134;132;179m \u001b[0m\u001b[48;2;146;144;186m \u001b[0m\u001b[48;2;159;157;194m \u001b[0m\u001b[48;2;171;169;201m \u001b[0m\u001b[48;2;183;182;209m \u001b[0m\u001b[48;2;196;195;217m \u001b[0m\u001b[48;2;209;208;225m \u001b[0m\u001b[48;2;221;220;233m \u001b[0m\u001b[48;2;233;233;240m \u001b[0m\u001b[48;2;245;245;248m \u001b[0m\u001b[48;2;252;249;243m \u001b[0m\u001b[48;2;251;242;226m \u001b[0m\u001b[48;2;251;236;208m \u001b[0m\u001b[48;2;250;229;191m \u001b[0m\u001b[48;2;250;223;174m \u001b[0m\u001b[48;2;249;216;156m \u001b[0m\u001b[48;2;249;210;139m \u001b[0m\u001b[48;2;248;203;121m \u001b[0m\u001b[48;2;248;197;104m \u001b[0m\u001b[48;2;247;190;87m \u001b[0m\n",
      "lime_rose\n",
      "\u001b[48;2;151;205;120m \u001b[0m\u001b[48;2;161;209;132m \u001b[0m\u001b[48;2;170;214;145m \u001b[0m\u001b[48;2;180;218;157m \u001b[0m\u001b[48;2;189;223;170m \u001b[0m\u001b[48;2;199;227;182m \u001b[0m\u001b[48;2;209;232;196m \u001b[0m\u001b[48;2;218;236;208m \u001b[0m\u001b[48;2;228;241;220m \u001b[0m\u001b[48;2;237;245;233m \u001b[0m\u001b[48;2;247;250;245m \u001b[0m\u001b[48;2;252;247;248m \u001b[0m\u001b[48;2;251;237;241m \u001b[0m\u001b[48;2;251;228;233m \u001b[0m\u001b[48;2;251;219;226m \u001b[0m\u001b[48;2;250;209;219m \u001b[0m\u001b[48;2;250;199;211m \u001b[0m\u001b[48;2;250;190;203m \u001b[0m\u001b[48;2;249;180;196m \u001b[0m\u001b[48;2;249;171;189m \u001b[0m\u001b[48;2;248;161;181m \u001b[0m\n",
      "seaweed_tangerine\n",
      "\u001b[48;2;59;152;134m \u001b[0m\u001b[48;2;77;161;145m \u001b[0m\u001b[48;2;95;171;156m \u001b[0m\u001b[48;2;113;180;167m \u001b[0m\u001b[48;2;132;190;178m \u001b[0m\u001b[48;2;150;199;190m \u001b[0m\u001b[48;2;170;209;202m \u001b[0m\u001b[48;2;188;219;213m \u001b[0m\u001b[48;2;206;228;224m \u001b[0m\u001b[48;2;224;237;235m \u001b[0m\u001b[48;2;242;247;246m \u001b[0m\u001b[48;2;252;249;246m \u001b[0m\u001b[48;2;252;242;235m \u001b[0m\u001b[48;2;253;236;223m \u001b[0m\u001b[48;2;253;230;212m \u001b[0m\u001b[48;2;253;223;201m \u001b[0m\u001b[48;2;254;217;188m \u001b[0m\u001b[48;2;254;210;177m \u001b[0m\u001b[48;2;254;204;166m \u001b[0m\u001b[48;2;254;198;155m \u001b[0m\u001b[48;2;255;191;143m \u001b[0m\n",
      "poppies\n",
      "\u001b[48;2;52;30;96m \u001b[0m\u001b[48;2;58;51;116m \u001b[0m\u001b[48;2;63;72;136m \u001b[0m\u001b[48;2;69;94;157m \u001b[0m\u001b[48;2;74;115;177m \u001b[0m\u001b[48;2;80;136;197m \u001b[0m\u001b[48;2;99;160;213m \u001b[0m\u001b[48;2;118;182;227m \u001b[0m\u001b[48;2;156;202;234m \u001b[0m\u001b[48;2;194;222;241m \u001b[0m\u001b[48;2;231;241;248m \u001b[0m\u001b[48;2;251;235;230m \u001b[0m\u001b[48;2;248;203;189m \u001b[0m\u001b[48;2;245;172;148m \u001b[0m\u001b[48;2;243;140;108m \u001b[0m\u001b[48;2;229;115;92m \u001b[0m\u001b[48;2;208;91;85m \u001b[0m\u001b[48;2;185;74;73m \u001b[0m\u001b[48;2;159;61;57m \u001b[0m\u001b[48;2;134;49;42m \u001b[0m\u001b[48;2;108;36;26m \u001b[0m\n",
      "pansies\n",
      "\u001b[48;2;63;45;92m \u001b[0m\u001b[48;2;77;62;111m \u001b[0m\u001b[48;2;91;80;129m \u001b[0m\u001b[48;2;105;97;148m \u001b[0m\u001b[48;2;119;115;166m \u001b[0m\u001b[48;2;135;134;182m \u001b[0m\u001b[48;2;154;155;198m \u001b[0m\u001b[48;2;172;175;213m \u001b[0m\u001b[48;2;191;195;226m \u001b[0m\u001b[48;2;215;217;236m \u001b[0m\u001b[48;2;239;240;247m \u001b[0m\u001b[48;2;248;240;220m \u001b[0m\u001b[48;2;246;214;151m \u001b[0m\u001b[48;2;247;184;71m \u001b[0m\u001b[48;2;226;167;62m \u001b[0m\u001b[48;2;205;149;53m \u001b[0m\u001b[48;2;182;131;44m \u001b[0m\u001b[48;2;161;113;36m \u001b[0m\u001b[48;2;140;96;28m \u001b[0m\u001b[48;2;119;79;20m \u001b[0m\u001b[48;2;98;61;11m \u001b[0m\n",
      "dahlias\n",
      "\u001b[48;2;30;72;18m \u001b[0m\u001b[48;2;46;90;32m \u001b[0m\u001b[48;2;63;108;45m \u001b[0m\u001b[48;2;79;126;59m \u001b[0m\u001b[48;2;95;144;73m \u001b[0m\u001b[48;2;111;161;87m \u001b[0m\u001b[48;2;129;181;101m \u001b[0m\u001b[48;2;145;199;115m \u001b[0m\u001b[48;2;171;215;147m \u001b[0m\u001b[48;2;203;229;188m \u001b[0m\u001b[48;2;235;244;230m \u001b[0m\u001b[48;2;251;233;237m \u001b[0m\u001b[48;2;250;198;210m \u001b[0m\u001b[48;2;248;163;183m \u001b[0m\u001b[48;2;237;135;160m \u001b[0m\u001b[48;2;221;109;140m \u001b[0m\u001b[48;2;204;81;119m \u001b[0m\u001b[48;2;181;65;101m \u001b[0m\u001b[48;2;153;53;84m \u001b[0m\u001b[48;2;126;41;67m \u001b[0m\u001b[48;2;98;29;51m \u001b[0m\n",
      "lillies\n",
      "\u001b[48;2;9;71;62m \u001b[0m\u001b[48;2;20;89;78m \u001b[0m\u001b[48;2;31;107;94m \u001b[0m\u001b[48;2;43;125;110m \u001b[0m\u001b[48;2;54;144;127m \u001b[0m\u001b[48;2;76;161;144m \u001b[0m\u001b[48;2;110;178;165m \u001b[0m\u001b[48;2;141;195;184m \u001b[0m\u001b[48;2;172;211;203m \u001b[0m\u001b[48;2;204;227;222m \u001b[0m\u001b[48;2;235;243;242m \u001b[0m\u001b[48;2;253;235;221m \u001b[0m\u001b[48;2;254;203;165m \u001b[0m\u001b[48;2;247;177;123m \u001b[0m\u001b[48;2;227;156;103m \u001b[0m\u001b[48;2;208;136;82m \u001b[0m\u001b[48;2;187;114;60m \u001b[0m\u001b[48;2;167;93;40m \u001b[0m\u001b[48;2;145;79;30m \u001b[0m\u001b[48;2;122;65;20m \u001b[0m\u001b[48;2;100;51;10m \u001b[0m\n"
     ]
    }
   ],
   "source": [
    "# Display all gradients.\n",
    "apc.plot.display_all_gradients()"
   ]
  }
 ],
 "metadata": {
  "kernelspec": {
   "display_name": "product",
   "language": "python",
   "name": "python3"
  },
  "language_info": {
   "codemirror_mode": {
    "name": "ipython",
    "version": 3
   },
   "file_extension": ".py",
   "mimetype": "text/x-python",
   "name": "python",
   "nbconvert_exporter": "python",
   "pygments_lexer": "ipython3",
   "version": "3.12.1"
  }
 },
 "nbformat": 4,
 "nbformat_minor": 2
}

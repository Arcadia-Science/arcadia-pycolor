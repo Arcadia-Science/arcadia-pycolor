{
 "cells": [
  {
   "cell_type": "markdown",
   "metadata": {},
   "source": [
    "# Tools for working with Arcadia's colors\n",
    "\n",
    "Arcadia has a set of brand colors which are used in the website, presentations, and other materials. Consistent use of these colors can help scientists make their data visually appealing, and is important for maintaining a consistent brand identity. `arcadia-pycolor` provides access to these colors for use when making plots and figures in Python.\n",
    "\n",
    "## Getting Started\n",
    "\n",
    "After installing `arcadia-pycolor` using `pip install arcadia-pycolor`, you can import the `arcadia_pycolor` module."
   ]
  },
  {
   "cell_type": "code",
   "execution_count": 1,
   "metadata": {
    "execution": {
     "iopub.execute_input": "2025-02-21T00:07:18.671623Z",
     "iopub.status.busy": "2025-02-21T00:07:18.671193Z",
     "iopub.status.idle": "2025-02-21T00:07:19.512748Z",
     "shell.execute_reply": "2025-02-21T00:07:19.512355Z"
    }
   },
   "outputs": [],
   "source": [
    "import matplotlib.pyplot as plt\n",
    "import numpy as np\n",
    "import seaborn as sns\n",
    "\n",
    "import arcadia_pycolor as apc"
   ]
  },
  {
   "cell_type": "markdown",
   "metadata": {},
   "source": [
    "## Accessing and displaying colors\n",
    "\n",
    "`arcadia-pycolor` stores the brand colors as objects based on their color name. When working with Jupyter notebooks, you can display the colors as part of a cell's output. This displays a swatch of the color, along with the color's name and hex code."
   ]
  },
  {
   "cell_type": "code",
   "execution_count": 2,
   "metadata": {
    "execution": {
     "iopub.execute_input": "2025-02-21T00:07:19.514766Z",
     "iopub.status.busy": "2025-02-21T00:07:19.514589Z",
     "iopub.status.idle": "2025-02-21T00:07:19.518025Z",
     "shell.execute_reply": "2025-02-21T00:07:19.517732Z"
    }
   },
   "outputs": [
    {
     "data": {
      "text/plain": [
       "\u001b[48;2;80;136;197m  \u001b[0m\u001b[38;2;80;136;197m aegean #5088C5\u001b[0m"
      ]
     },
     "execution_count": 2,
     "metadata": {},
     "output_type": "execute_result"
    }
   ],
   "source": [
    "apc.aegean"
   ]
  },
  {
   "cell_type": "markdown",
   "metadata": {},
   "source": [
    "You can also use the IPython function `display` to show the colors in a cell's output, even if the cell ends with other code."
   ]
  },
  {
   "cell_type": "code",
   "execution_count": 3,
   "metadata": {
    "execution": {
     "iopub.execute_input": "2025-02-21T00:07:19.538882Z",
     "iopub.status.busy": "2025-02-21T00:07:19.538731Z",
     "iopub.status.idle": "2025-02-21T00:07:19.541542Z",
     "shell.execute_reply": "2025-02-21T00:07:19.541265Z"
    }
   },
   "outputs": [
    {
     "data": {
      "text/plain": [
       "\u001b[48;2;242;131;96m  \u001b[0m\u001b[38;2;242;131;96m amber #F28360\u001b[0m"
      ]
     },
     "metadata": {},
     "output_type": "display_data"
    },
    {
     "name": "stdout",
     "output_type": "stream",
     "text": [
      "3\n"
     ]
    }
   ],
   "source": [
    "display(apc.amber)\n",
    "\n",
    "# Some other code.\n",
    "x = 1\n",
    "y = 2\n",
    "print(x + y)"
   ]
  },
  {
   "cell_type": "markdown",
   "metadata": {},
   "source": [
    "## `Palette`s and `Gradient`s\n",
    "\n",
    "`arcadia-pycolor` provides two classes for working with multiple colors: `Palette` and `Gradient`. `Palette` is a collection of discrete colors, while `Gradient` is a collection of colors that transition smoothly from one to the next. The package contains a variety of built-in palettes and gradients, which can be accessed under the `palettes` and `gradients` namespaces. These can also be displayed in the same way as individual colors."
   ]
  },
  {
   "cell_type": "code",
   "execution_count": 4,
   "metadata": {
    "execution": {
     "iopub.execute_input": "2025-02-21T00:07:19.543074Z",
     "iopub.status.busy": "2025-02-21T00:07:19.542955Z",
     "iopub.status.idle": "2025-02-21T00:07:19.545138Z",
     "shell.execute_reply": "2025-02-21T00:07:19.544876Z"
    }
   },
   "outputs": [
    {
     "data": {
      "text/plain": [
       "\u001b[48;2;80;136;197m  \u001b[0m\u001b[48;2;242;131;96m  \u001b[0m\u001b[48;2;59;152;134m  \u001b[0m\u001b[48;2;247;184;70m  \u001b[0m\u001b[48;2;122;119;171m  \u001b[0m\u001b[48;2;248;152;174m  \u001b[0m\u001b[48;2;115;181;227m  \u001b[0m\u001b[48;2;255;185;132m  \u001b[0m\u001b[48;2;151;205;120m  \u001b[0m\u001b[48;2;200;81;82m  \u001b[0m\u001b[48;2;245;228;190m  \u001b[0m\u001b[48;2;186;190;224m  \u001b[0m\n",
       "\u001b[48;2;80;136;197m  \u001b[0m\u001b[38;2;80;136;197m aegean    #5088C5\u001b[0m\n",
       "\u001b[48;2;242;131;96m  \u001b[0m\u001b[38;2;242;131;96m amber     #F28360\u001b[0m\n",
       "\u001b[48;2;59;152;134m  \u001b[0m\u001b[38;2;59;152;134m seaweed   #3B9886\u001b[0m\n",
       "\u001b[48;2;247;184;70m  \u001b[0m\u001b[38;2;247;184;70m canary    #F7B846\u001b[0m\n",
       "\u001b[48;2;122;119;171m  \u001b[0m\u001b[38;2;122;119;171m aster     #7A77AB\u001b[0m\n",
       "\u001b[48;2;248;152;174m  \u001b[0m\u001b[38;2;248;152;174m rose      #F898AE\u001b[0m\n",
       "\u001b[48;2;115;181;227m  \u001b[0m\u001b[38;2;115;181;227m vital     #73B5E3\u001b[0m\n",
       "\u001b[48;2;255;185;132m  \u001b[0m\u001b[38;2;255;185;132m tangerine #FFB984\u001b[0m\n",
       "\u001b[48;2;151;205;120m  \u001b[0m\u001b[38;2;151;205;120m lime      #97CD78\u001b[0m\n",
       "\u001b[48;2;200;81;82m  \u001b[0m\u001b[38;2;200;81;82m dragon    #C85152\u001b[0m\n",
       "\u001b[48;2;245;228;190m  \u001b[0m\u001b[38;2;245;228;190m oat       #F5E4BE\u001b[0m\n",
       "\u001b[48;2;186;190;224m  \u001b[0m\u001b[38;2;186;190;224m wish      #BABEE0\u001b[0m"
      ]
     },
     "execution_count": 4,
     "metadata": {},
     "output_type": "execute_result"
    }
   ],
   "source": [
    "# Displaying a Palette.\n",
    "apc.palettes.primary"
   ]
  },
  {
   "cell_type": "code",
   "execution_count": 5,
   "metadata": {
    "execution": {
     "iopub.execute_input": "2025-02-21T00:07:19.546547Z",
     "iopub.status.busy": "2025-02-21T00:07:19.546433Z",
     "iopub.status.idle": "2025-02-21T00:07:19.549497Z",
     "shell.execute_reply": "2025-02-21T00:07:19.549204Z"
    }
   },
   "outputs": [
    {
     "data": {
      "text/plain": [
       "\u001b[48;2;40;42;73m \u001b[0m\u001b[48;2;44;51;85m \u001b[0m\u001b[48;2;48;61;98m \u001b[0m\u001b[48;2;52;70;110m \u001b[0m\u001b[48;2;56;80;123m \u001b[0m\u001b[48;2;60;89;135m \u001b[0m\u001b[48;2;64;99;149m \u001b[0m\u001b[48;2;68;109;161m \u001b[0m\u001b[48;2;73;118;174m \u001b[0m\u001b[48;2;77;128;186m \u001b[0m\u001b[48;2;82;138;195m \u001b[0m\u001b[48;2;95;150;181m \u001b[0m\u001b[48;2;107;162;168m \u001b[0m\u001b[48;2;119;174;155m \u001b[0m\u001b[48;2;131;185;142m \u001b[0m\u001b[48;2;143;197;129m \u001b[0m\u001b[48;2;159;209;125m \u001b[0m\u001b[48;2;178;217;138m \u001b[0m\u001b[48;2;197;226;151m \u001b[0m\u001b[48;2;216;235;163m \u001b[0m\u001b[48;2;236;244;176m \u001b[0m\n",
       "\u001b[48;2;40;42;73m  \u001b[0m\u001b[38;2;40;42;73m space  #282A49\u001b[0m 0\n",
       "\u001b[48;2;80;136;197m  \u001b[0m\u001b[38;2;80;136;197m aegean #5088C5\u001b[0m 0.468\n",
       "\u001b[48;2;151;205;120m  \u001b[0m\u001b[38;2;151;205;120m lime   #97CD78\u001b[0m 0.746\n",
       "\u001b[48;2;255;253;189m  \u001b[0m\u001b[38;2;255;253;189m butter #FFFDBD\u001b[0m 1"
      ]
     },
     "execution_count": 5,
     "metadata": {},
     "output_type": "execute_result"
    }
   ],
   "source": [
    "# Displaying a Gradient.\n",
    "apc.gradients.viridis"
   ]
  },
  {
   "cell_type": "markdown",
   "metadata": {},
   "source": [
    "## Using colors in plots\n",
    "\n",
    "Colors can be used in plots by passing them as arguments to plotting functions. For example, in `matplotlib`, you can pass a color object or a list of color objects as the `color` argument to `plot`, `scatter`, or other plotting functions."
   ]
  },
  {
   "cell_type": "code",
   "execution_count": 6,
   "metadata": {
    "execution": {
     "iopub.execute_input": "2025-02-21T00:07:19.550900Z",
     "iopub.status.busy": "2025-02-21T00:07:19.550803Z",
     "iopub.status.idle": "2025-02-21T00:07:19.633819Z",
     "shell.execute_reply": "2025-02-21T00:07:19.633511Z"
    }
   },
   "outputs": [
    {
     "data": {
      "image/png": "[encoded data removed]",
      "text/plain": [
       "<Figure size 640x480 with 1 Axes>"
      ]
     },
     "metadata": {},
     "output_type": "display_data"
    }
   ],
   "source": [
    "# Using Arcadia colors in a matplotlib plot.\n",
    "plt.bar(\n",
    "    x=[\"A\", \"B\", \"C\", \"D\"],\n",
    "    height=[1, 2, 3, 4],\n",
    "    color=[apc.aegean, apc.amber, apc.seaweed, apc.canary],\n",
    ")\n",
    "plt.ylabel(\"Y axis\")\n",
    "plt.xlabel(\"X axis\")\n",
    "plt.show()"
   ]
  },
  {
   "cell_type": "code",
   "execution_count": 7,
   "metadata": {
    "execution": {
     "iopub.execute_input": "2025-02-21T00:07:19.635623Z",
     "iopub.status.busy": "2025-02-21T00:07:19.635329Z",
     "iopub.status.idle": "2025-02-21T00:07:19.676649Z",
     "shell.execute_reply": "2025-02-21T00:07:19.676369Z"
    }
   },
   "outputs": [
    {
     "data": {
      "image/png": "[encoded data removed]",
      "text/plain": [
       "<Figure size 640x480 with 1 Axes>"
      ]
     },
     "metadata": {},
     "output_type": "display_data"
    }
   ],
   "source": [
    "# Getting colors from a palette for a plot.\n",
    "plt.bar(\n",
    "    x=[\"A\", \"B\", \"C\", \"D\"],\n",
    "    height=[1, 2, 3, 4],\n",
    "    color=apc.palettes.blue_shades.colors[0:4],\n",
    ")\n",
    "plt.ylabel(\"Y axis\")\n",
    "plt.xlabel(\"X axis\")\n",
    "plt.show()"
   ]
  },
  {
   "cell_type": "code",
   "execution_count": 8,
   "metadata": {
    "execution": {
     "iopub.execute_input": "2025-02-21T00:07:19.678167Z",
     "iopub.status.busy": "2025-02-21T00:07:19.678042Z",
     "iopub.status.idle": "2025-02-21T00:07:19.744952Z",
     "shell.execute_reply": "2025-02-21T00:07:19.744666Z"
    }
   },
   "outputs": [
    {
     "data": {
      "image/png": "[encoded data removed]",
      "text/plain": [
       "<Figure size 640x480 with 2 Axes>"
      ]
     },
     "metadata": {},
     "output_type": "display_data"
    }
   ],
   "source": [
    "# Using a gradient with `seaborn`.\n",
    "data = np.random.rand(8, 8)\n",
    "sns.heatmap(data, cmap=apc.gradients.sunset.to_mpl_cmap(), square=True)\n",
    "plt.ylabel(\"Y axis\")\n",
    "plt.xlabel(\"X axis\")\n",
    "plt.show()"
   ]
  },
  {
   "cell_type": "markdown",
   "metadata": {},
   "source": [
    "## Creating custom palettes and gradients\n",
    "\n",
    "You can create custom palettes by passing a list of colors to the `Palette` constructor, or using the `Palette.from_dict` method."
   ]
  },
  {
   "cell_type": "code",
   "execution_count": 9,
   "metadata": {
    "execution": {
     "iopub.execute_input": "2025-02-21T00:07:19.746481Z",
     "iopub.status.busy": "2025-02-21T00:07:19.746354Z",
     "iopub.status.idle": "2025-02-21T00:07:19.748839Z",
     "shell.execute_reply": "2025-02-21T00:07:19.748557Z"
    }
   },
   "outputs": [
    {
     "data": {
      "text/plain": [
       "\u001b[48;2;80;136;197m  \u001b[0m\u001b[48;2;242;131;96m  \u001b[0m\u001b[48;2;59;152;134m  \u001b[0m\u001b[48;2;247;184;70m  \u001b[0m\n",
       "\u001b[48;2;80;136;197m  \u001b[0m\u001b[38;2;80;136;197m aegean  #5088C5\u001b[0m\n",
       "\u001b[48;2;242;131;96m  \u001b[0m\u001b[38;2;242;131;96m amber   #F28360\u001b[0m\n",
       "\u001b[48;2;59;152;134m  \u001b[0m\u001b[38;2;59;152;134m seaweed #3B9886\u001b[0m\n",
       "\u001b[48;2;247;184;70m  \u001b[0m\u001b[38;2;247;184;70m canary  #F7B846\u001b[0m"
      ]
     },
     "execution_count": 9,
     "metadata": {},
     "output_type": "execute_result"
    }
   ],
   "source": [
    "# Creating a Palette from a list of colors.\n",
    "my_palette = apc.Palette(\"my_palette\", [apc.aegean, apc.amber, apc.seaweed, apc.canary])\n",
    "\n",
    "my_palette"
   ]
  },
  {
   "cell_type": "code",
   "execution_count": 10,
   "metadata": {
    "execution": {
     "iopub.execute_input": "2025-02-21T00:07:19.750238Z",
     "iopub.status.busy": "2025-02-21T00:07:19.750118Z",
     "iopub.status.idle": "2025-02-21T00:07:19.752526Z",
     "shell.execute_reply": "2025-02-21T00:07:19.752262Z"
    }
   },
   "outputs": [
    {
     "data": {
      "text/plain": [
       "\u001b[48;2;255;0;0m  \u001b[0m\u001b[48;2;0;255;0m  \u001b[0m\u001b[48;2;0;0;255m  \u001b[0m\n",
       "\u001b[48;2;255;0;0m  \u001b[0m\u001b[38;2;255;0;0m red   #FF0000\u001b[0m\n",
       "\u001b[48;2;0;255;0m  \u001b[0m\u001b[38;2;0;255;0m green #00FF00\u001b[0m\n",
       "\u001b[48;2;0;0;255m  \u001b[0m\u001b[38;2;0;0;255m blue  #0000FF\u001b[0m"
      ]
     },
     "execution_count": 10,
     "metadata": {},
     "output_type": "execute_result"
    }
   ],
   "source": [
    "# Creating a Palette from a dictionary.\n",
    "my_palette = apc.Palette.from_dict(\n",
    "    \"my_palette\",\n",
    "    {\n",
    "        \"red\": \"#FF0000\",\n",
    "        \"green\": \"#00FF00\",\n",
    "        \"blue\": \"#0000FF\",\n",
    "    },\n",
    ")\n",
    "\n",
    "my_palette"
   ]
  },
  {
   "cell_type": "markdown",
   "metadata": {},
   "source": [
    "Similarly, you can create custom gradients by passing a list of colors to the `Gradient` constructor, or using the `Gradient.from_dict` method. For `Gradient`s, you may also specify the position of each color in the gradient. If you do not specify this value, the colors will be evenly spaced.\n",
    "\n",
    "> **Note:** Values for the color position must be between 0 and 1, and must be in increasing order."
   ]
  },
  {
   "cell_type": "code",
   "execution_count": 11,
   "metadata": {
    "execution": {
     "iopub.execute_input": "2025-02-21T00:07:19.753926Z",
     "iopub.status.busy": "2025-02-21T00:07:19.753820Z",
     "iopub.status.idle": "2025-02-21T00:07:19.756830Z",
     "shell.execute_reply": "2025-02-21T00:07:19.756549Z"
    }
   },
   "outputs": [
    {
     "data": {
      "text/plain": [
       "\u001b[48;2;115;181;227m \u001b[0m\u001b[48;2;127;185;224m \u001b[0m\u001b[48;2;139;190;220m \u001b[0m\u001b[48;2;152;194;217m \u001b[0m\u001b[48;2;164;199;213m \u001b[0m\u001b[48;2;176;203;210m \u001b[0m\u001b[48;2;189;208;206m \u001b[0m\u001b[48;2;202;212;202m \u001b[0m\u001b[48;2;214;217;199m \u001b[0m\u001b[48;2;226;221;195m \u001b[0m\u001b[48;2;238;226;192m \u001b[0m\u001b[48;2;245;223;185m \u001b[0m\u001b[48;2;245;214;176m \u001b[0m\u001b[48;2;244;205;168m \u001b[0m\u001b[48;2;244;196;159m \u001b[0m\u001b[48;2;244;187;150m \u001b[0m\u001b[48;2;243;177;140m \u001b[0m\u001b[48;2;243;168;131m \u001b[0m\u001b[48;2;243;158;123m \u001b[0m\u001b[48;2;243;149;114m \u001b[0m\u001b[48;2;242;140;105m \u001b[0m\n",
       "\u001b[48;2;115;181;227m  \u001b[0m\u001b[38;2;115;181;227m vital #73B5E3\u001b[0m 0.0\n",
       "\u001b[48;2;245;228;190m  \u001b[0m\u001b[38;2;245;228;190m oat   #F5E4BE\u001b[0m 0.5\n",
       "\u001b[48;2;242;131;96m  \u001b[0m\u001b[38;2;242;131;96m amber #F28360\u001b[0m 1.0"
      ]
     },
     "execution_count": 11,
     "metadata": {},
     "output_type": "execute_result"
    }
   ],
   "source": [
    "# Creating a Gradient from a list of colors.\n",
    "my_gradient = apc.Gradient(\"my_gradient\", [apc.vital, apc.oat, apc.amber])\n",
    "\n",
    "my_gradient"
   ]
  },
  {
   "cell_type": "code",
   "execution_count": 12,
   "metadata": {
    "execution": {
     "iopub.execute_input": "2025-02-21T00:07:19.758421Z",
     "iopub.status.busy": "2025-02-21T00:07:19.758193Z",
     "iopub.status.idle": "2025-02-21T00:07:19.761550Z",
     "shell.execute_reply": "2025-02-21T00:07:19.761297Z"
    }
   },
   "outputs": [
    {
     "data": {
      "text/plain": [
       "\u001b[48;2;52;30;96m \u001b[0m\u001b[48;2;60;50;114m \u001b[0m\u001b[48;2;69;71;131m \u001b[0m\u001b[48;2;77;91;149m \u001b[0m\u001b[48;2;86;111;166m \u001b[0m\u001b[48;2;94;132;184m \u001b[0m\u001b[48;2;104;154;203m \u001b[0m\u001b[48;2;112;174;221m \u001b[0m\u001b[48;2;141;191;220m \u001b[0m\u001b[48;2;182;205;208m \u001b[0m\u001b[48;2;223;220;196m \u001b[0m\u001b[48;2;244;212;174m \u001b[0m\u001b[48;2;244;181;145m \u001b[0m\u001b[48;2;243;151;115m \u001b[0m\u001b[48;2;238;128;95m \u001b[0m\u001b[48;2;227;119;90m \u001b[0m\u001b[48;2;214;109;86m \u001b[0m\u001b[48;2;203;100;82m \u001b[0m\u001b[48;2;192;90;78m \u001b[0m\u001b[48;2;181;81;73m \u001b[0m\u001b[48;2;169;72;69m \u001b[0m\n",
       "\u001b[48;2;52;30;96m  \u001b[0m\u001b[38;2;52;30;96m concord  #341E60\u001b[0m 0\n",
       "\u001b[48;2;115;181;227m  \u001b[0m\u001b[38;2;115;181;227m vital    #73B5E3\u001b[0m 0.35\n",
       "\u001b[48;2;245;228;190m  \u001b[0m\u001b[38;2;245;228;190m oat      #F5E4BE\u001b[0m 0.5\n",
       "\u001b[48;2;242;131;96m  \u001b[0m\u001b[38;2;242;131;96m amber    #F28360\u001b[0m 0.65\n",
       "\u001b[48;2;158;63;65m  \u001b[0m\u001b[38;2;158;63;65m cinnabar #9E3F41\u001b[0m 1"
      ]
     },
     "execution_count": 12,
     "metadata": {},
     "output_type": "execute_result"
    }
   ],
   "source": [
    "# Creating a Gradient from a list of colors while specifying values.\n",
    "my_gradient = apc.Gradient(\n",
    "    \"my_gradient\",\n",
    "    [apc.concord, apc.vital, apc.oat, apc.amber, apc.cinnabar],\n",
    "    [0, 0.35, 0.5, 0.65, 1],\n",
    ")\n",
    "\n",
    "my_gradient"
   ]
  },
  {
   "cell_type": "code",
   "execution_count": 13,
   "metadata": {
    "execution": {
     "iopub.execute_input": "2025-02-21T00:07:19.762917Z",
     "iopub.status.busy": "2025-02-21T00:07:19.762825Z",
     "iopub.status.idle": "2025-02-21T00:07:19.765982Z",
     "shell.execute_reply": "2025-02-21T00:07:19.765723Z"
    }
   },
   "outputs": [
    {
     "data": {
      "text/plain": [
       "\u001b[48;2;255;0;0m \u001b[0m\u001b[48;2;252;21;21m \u001b[0m\u001b[48;2;249;42;42m \u001b[0m\u001b[48;2;245;62;62m \u001b[0m\u001b[48;2;242;83;83m \u001b[0m\u001b[48;2;239;104;104m \u001b[0m\u001b[48;2;236;127;127m \u001b[0m\u001b[48;2;232;147;147m \u001b[0m\u001b[48;2;229;168;168m \u001b[0m\u001b[48;2;226;189;189m \u001b[0m\u001b[48;2;223;210;210m \u001b[0m\u001b[48;2;210;210;223m \u001b[0m\u001b[48;2;189;189;226m \u001b[0m\u001b[48;2;168;168;229m \u001b[0m\u001b[48;2;147;147;232m \u001b[0m\u001b[48;2;127;127;236m \u001b[0m\u001b[48;2;104;104;239m \u001b[0m\u001b[48;2;83;83;242m \u001b[0m\u001b[48;2;62;62;245m \u001b[0m\u001b[48;2;42;42;249m \u001b[0m\u001b[48;2;21;21;252m \u001b[0m\n",
       "\u001b[48;2;255;0;0m  \u001b[0m\u001b[38;2;255;0;0m red  #FF0000\u001b[0m 0.0\n",
       "\u001b[48;2;221;221;221m  \u001b[0m\u001b[38;2;221;221;221m gray #DDDDDD\u001b[0m 0.5\n",
       "\u001b[48;2;0;0;255m  \u001b[0m\u001b[38;2;0;0;255m blue #0000FF\u001b[0m 1.0"
      ]
     },
     "execution_count": 13,
     "metadata": {},
     "output_type": "execute_result"
    }
   ],
   "source": [
    "# Creating a Gradient from a dictionary of colors.\n",
    "my_gradient = apc.Gradient.from_dict(\n",
    "    \"my_gradient\",\n",
    "    {\n",
    "        \"red\": \"#FF0000\",\n",
    "        \"gray\": \"#DDDDDD\",\n",
    "        \"blue\": \"#0000FF\",\n",
    "    },\n",
    ")\n",
    "\n",
    "my_gradient"
   ]
  },
  {
   "cell_type": "markdown",
   "metadata": {},
   "source": [
    "## `Palette` utilities\n",
    "\n",
    "`Palette` objects have several utility methods for working with colors."
   ]
  },
  {
   "cell_type": "code",
   "execution_count": 14,
   "metadata": {
    "execution": {
     "iopub.execute_input": "2025-02-21T00:07:19.767365Z",
     "iopub.status.busy": "2025-02-21T00:07:19.767271Z",
     "iopub.status.idle": "2025-02-21T00:07:19.770219Z",
     "shell.execute_reply": "2025-02-21T00:07:19.769920Z"
    }
   },
   "outputs": [
    {
     "data": {
      "text/plain": [
       "\u001b[48;2;80;136;197m  \u001b[0m\u001b[48;2;242;131;96m  \u001b[0m\u001b[48;2;59;152;134m  \u001b[0m\u001b[48;2;247;184;70m  \u001b[0m\u001b[48;2;122;119;171m  \u001b[0m\u001b[48;2;248;152;174m  \u001b[0m\u001b[48;2;115;181;227m  \u001b[0m\u001b[48;2;255;185;132m  \u001b[0m\u001b[48;2;151;205;120m  \u001b[0m\u001b[48;2;200;81;82m  \u001b[0m\u001b[48;2;245;228;190m  \u001b[0m\u001b[48;2;186;190;224m  \u001b[0m\n",
       "\u001b[48;2;80;136;197m  \u001b[0m\u001b[38;2;80;136;197m aegean    #5088C5\u001b[0m\n",
       "\u001b[48;2;242;131;96m  \u001b[0m\u001b[38;2;242;131;96m amber     #F28360\u001b[0m\n",
       "\u001b[48;2;59;152;134m  \u001b[0m\u001b[38;2;59;152;134m seaweed   #3B9886\u001b[0m\n",
       "\u001b[48;2;247;184;70m  \u001b[0m\u001b[38;2;247;184;70m canary    #F7B846\u001b[0m\n",
       "\u001b[48;2;122;119;171m  \u001b[0m\u001b[38;2;122;119;171m aster     #7A77AB\u001b[0m\n",
       "\u001b[48;2;248;152;174m  \u001b[0m\u001b[38;2;248;152;174m rose      #F898AE\u001b[0m\n",
       "\u001b[48;2;115;181;227m  \u001b[0m\u001b[38;2;115;181;227m vital     #73B5E3\u001b[0m\n",
       "\u001b[48;2;255;185;132m  \u001b[0m\u001b[38;2;255;185;132m tangerine #FFB984\u001b[0m\n",
       "\u001b[48;2;151;205;120m  \u001b[0m\u001b[38;2;151;205;120m lime      #97CD78\u001b[0m\n",
       "\u001b[48;2;200;81;82m  \u001b[0m\u001b[38;2;200;81;82m dragon    #C85152\u001b[0m\n",
       "\u001b[48;2;245;228;190m  \u001b[0m\u001b[38;2;245;228;190m oat       #F5E4BE\u001b[0m\n",
       "\u001b[48;2;186;190;224m  \u001b[0m\u001b[38;2;186;190;224m wish      #BABEE0\u001b[0m"
      ]
     },
     "metadata": {},
     "output_type": "display_data"
    },
    {
     "data": {
      "text/plain": [
       "\u001b[48;2;186;190;224m  \u001b[0m\u001b[48;2;245;228;190m  \u001b[0m\u001b[48;2;200;81;82m  \u001b[0m\u001b[48;2;151;205;120m  \u001b[0m\u001b[48;2;255;185;132m  \u001b[0m\u001b[48;2;115;181;227m  \u001b[0m\u001b[48;2;248;152;174m  \u001b[0m\u001b[48;2;122;119;171m  \u001b[0m\u001b[48;2;247;184;70m  \u001b[0m\u001b[48;2;59;152;134m  \u001b[0m\u001b[48;2;242;131;96m  \u001b[0m\u001b[48;2;80;136;197m  \u001b[0m\n",
       "\u001b[48;2;186;190;224m  \u001b[0m\u001b[38;2;186;190;224m wish      #BABEE0\u001b[0m\n",
       "\u001b[48;2;245;228;190m  \u001b[0m\u001b[38;2;245;228;190m oat       #F5E4BE\u001b[0m\n",
       "\u001b[48;2;200;81;82m  \u001b[0m\u001b[38;2;200;81;82m dragon    #C85152\u001b[0m\n",
       "\u001b[48;2;151;205;120m  \u001b[0m\u001b[38;2;151;205;120m lime      #97CD78\u001b[0m\n",
       "\u001b[48;2;255;185;132m  \u001b[0m\u001b[38;2;255;185;132m tangerine #FFB984\u001b[0m\n",
       "\u001b[48;2;115;181;227m  \u001b[0m\u001b[38;2;115;181;227m vital     #73B5E3\u001b[0m\n",
       "\u001b[48;2;248;152;174m  \u001b[0m\u001b[38;2;248;152;174m rose      #F898AE\u001b[0m\n",
       "\u001b[48;2;122;119;171m  \u001b[0m\u001b[38;2;122;119;171m aster     #7A77AB\u001b[0m\n",
       "\u001b[48;2;247;184;70m  \u001b[0m\u001b[38;2;247;184;70m canary    #F7B846\u001b[0m\n",
       "\u001b[48;2;59;152;134m  \u001b[0m\u001b[38;2;59;152;134m seaweed   #3B9886\u001b[0m\n",
       "\u001b[48;2;242;131;96m  \u001b[0m\u001b[38;2;242;131;96m amber     #F28360\u001b[0m\n",
       "\u001b[48;2;80;136;197m  \u001b[0m\u001b[38;2;80;136;197m aegean    #5088C5\u001b[0m"
      ]
     },
     "metadata": {},
     "output_type": "display_data"
    }
   ],
   "source": [
    "# Reverse the order of a Palette.\n",
    "display(apc.palettes.primary)\n",
    "display(apc.palettes.primary.reverse())"
   ]
  },
  {
   "cell_type": "code",
   "execution_count": 15,
   "metadata": {
    "execution": {
     "iopub.execute_input": "2025-02-21T00:07:19.771739Z",
     "iopub.status.busy": "2025-02-21T00:07:19.771620Z",
     "iopub.status.idle": "2025-02-21T00:07:19.774083Z",
     "shell.execute_reply": "2025-02-21T00:07:19.773800Z"
    }
   },
   "outputs": [
    {
     "data": {
      "text/plain": [
       "\u001b[48;2;80;136;197m  \u001b[0m\u001b[48;2;242;131;96m  \u001b[0m\u001b[48;2;59;152;134m  \u001b[0m\u001b[48;2;247;184;70m  \u001b[0m\u001b[48;2;122;119;171m  \u001b[0m\u001b[48;2;248;152;174m  \u001b[0m\u001b[48;2;115;181;227m  \u001b[0m\u001b[48;2;255;185;132m  \u001b[0m\u001b[48;2;151;205;120m  \u001b[0m\u001b[48;2;200;81;82m  \u001b[0m\u001b[48;2;245;228;190m  \u001b[0m\u001b[48;2;186;190;224m  \u001b[0m\u001b[48;2;198;231;244m  \u001b[0m\u001b[48;2;248;197;193m  \u001b[0m\u001b[48;2;219;209;195m  \u001b[0m\u001b[48;2;182;200;212m  \u001b[0m\u001b[48;2;181;190;164m  \u001b[0m\u001b[48;2;138;153;173m  \u001b[0m\u001b[48;2;218;144;133m  \u001b[0m\u001b[48;2;237;224;214m  \u001b[0m\n",
       "\u001b[48;2;80;136;197m  \u001b[0m\u001b[38;2;80;136;197m aegean    #5088C5\u001b[0m\n",
       "\u001b[48;2;242;131;96m  \u001b[0m\u001b[38;2;242;131;96m amber     #F28360\u001b[0m\n",
       "\u001b[48;2;59;152;134m  \u001b[0m\u001b[38;2;59;152;134m seaweed   #3B9886\u001b[0m\n",
       "\u001b[48;2;247;184;70m  \u001b[0m\u001b[38;2;247;184;70m canary    #F7B846\u001b[0m\n",
       "\u001b[48;2;122;119;171m  \u001b[0m\u001b[38;2;122;119;171m aster     #7A77AB\u001b[0m\n",
       "\u001b[48;2;248;152;174m  \u001b[0m\u001b[38;2;248;152;174m rose      #F898AE\u001b[0m\n",
       "\u001b[48;2;115;181;227m  \u001b[0m\u001b[38;2;115;181;227m vital     #73B5E3\u001b[0m\n",
       "\u001b[48;2;255;185;132m  \u001b[0m\u001b[38;2;255;185;132m tangerine #FFB984\u001b[0m\n",
       "\u001b[48;2;151;205;120m  \u001b[0m\u001b[38;2;151;205;120m lime      #97CD78\u001b[0m\n",
       "\u001b[48;2;200;81;82m  \u001b[0m\u001b[38;2;200;81;82m dragon    #C85152\u001b[0m\n",
       "\u001b[48;2;245;228;190m  \u001b[0m\u001b[38;2;245;228;190m oat       #F5E4BE\u001b[0m\n",
       "\u001b[48;2;186;190;224m  \u001b[0m\u001b[38;2;186;190;224m wish      #BABEE0\u001b[0m\n",
       "\u001b[48;2;198;231;244m  \u001b[0m\u001b[38;2;198;231;244m sky       #C6E7F4\u001b[0m\n",
       "\u001b[48;2;248;197;193m  \u001b[0m\u001b[38;2;248;197;193m dress     #F8C5C1\u001b[0m\n",
       "\u001b[48;2;219;209;195m  \u001b[0m\u001b[38;2;219;209;195m taupe     #DBD1C3\u001b[0m\n",
       "\u001b[48;2;182;200;212m  \u001b[0m\u001b[38;2;182;200;212m denim     #B6C8D4\u001b[0m\n",
       "\u001b[48;2;181;190;164m  \u001b[0m\u001b[38;2;181;190;164m sage      #B5BEA4\u001b[0m\n",
       "\u001b[48;2;138;153;173m  \u001b[0m\u001b[38;2;138;153;173m marine    #8A99AD\u001b[0m\n",
       "\u001b[48;2;218;144;133m  \u001b[0m\u001b[38;2;218;144;133m mars      #DA9085\u001b[0m\n",
       "\u001b[48;2;237;224;214m  \u001b[0m\u001b[38;2;237;224;214m shell     #EDE0D6\u001b[0m"
      ]
     },
     "execution_count": 15,
     "metadata": {},
     "output_type": "execute_result"
    }
   ],
   "source": [
    "# \"Adding two palettes together concatenates\n",
    "# their colors and returns a single new palette\n",
    "# (just like adding two lists concatenates\n",
    "# them and returns a new list).\"\n",
    "apc.palettes.primary + apc.palettes.secondary"
   ]
  },
  {
   "cell_type": "code",
   "execution_count": 16,
   "metadata": {
    "execution": {
     "iopub.execute_input": "2025-02-21T00:07:19.775484Z",
     "iopub.status.busy": "2025-02-21T00:07:19.775371Z",
     "iopub.status.idle": "2025-02-21T00:07:19.845986Z",
     "shell.execute_reply": "2025-02-21T00:07:19.845701Z"
    }
   },
   "outputs": [
    {
     "data": {
      "image/png": "[encoded data removed]",
      "text/html": [
       "<div style=\"vertical-align: middle;\"><strong>evaluation_palette</strong> </div><div class=\"cmap\"><img alt=\"evaluation_palette colormap\" title=\"evaluation_palette\" style=\"border: 1px solid #555;\" src=\"data:image/png;base64,iVBORw0KGgoAAAANSUhEUgAAAgAAAABACAYAAABsv8+/AAAAIXRFWHRUaXRsZQBldmFsdWF0aW9uX3BhbGV0dGUgY29sb3JtYXAH+7qGAAAAJ3RFWHREZXNjcmlwdGlvbgBldmFsdWF0aW9uX3BhbGV0dGUgY29sb3JtYXAJG4FTAAAAMHRFWHRBdXRob3IATWF0cGxvdGxpYiB2My45LjEsIGh0dHBzOi8vbWF0cGxvdGxpYi5vcmdUdHMAAAAAMnRFWHRTb2Z0d2FyZQBNYXRwbG90bGliIHYzLjkuMSwgaHR0cHM6Ly9tYXRwbG90bGliLm9yZ3rS7CcAAAFGSURBVHic7dYxEcIAEABBYAZJ8YOQdOhAFXWaFAigzxAXfHG7Cq686/f5+F3Iui+f6QQGrcdrOoFB23ufTmDQbToAAPg/AwAAQQYAAIIMAAAEGQAACDIAABBkAAAgyAAAQJABAIAgAwAAQQYAAIIMAAAEGQAACDIAABBkAAAgyAAAQJABAIAgAwAAQQYAAIIMAAAEGQAACDIAABBkAAAgyAAAQJABAIAgAwAAQQYAAIIMAAAEGQAACDIAABBkAAAgyAAAQJABAIAgAwAAQQYAAIIMAAAEGQAACDIAABBkAAAgyAAAQJABAIAgAwAAQQYAAIIMAAAEGQAACDIAABBkAAAgyAAAQJABAIAgAwAAQQYAAIIMAAAEGQAACDIAABBkAAAgyAAAQJABAIAgAwAAQQYAAIIMAAAEGQAACDIAABBkAAAg6AQoIgkcffTG+AAAAABJRU5ErkJggg==\"></div><div style=\"vertical-align: middle; max-width: 514px; display: flex; justify-content: space-between;\"><div style=\"float: left;\"><div title=\"#f28360ff\" style=\"display: inline-block; width: 1em; height: 1em; margin: 0; vertical-align: middle; border: 1px solid #555; background-color: #f28360ff;\"></div> under</div><div style=\"margin: 0 auto; display: inline-block;\">bad <div title=\"#00000000\" style=\"display: inline-block; width: 1em; height: 1em; margin: 0; vertical-align: middle; border: 1px solid #555; background-color: #00000000;\"></div></div><div style=\"float: right;\">over <div title=\"#5088c5ff\" style=\"display: inline-block; width: 1em; height: 1em; margin: 0; vertical-align: middle; border: 1px solid #555; background-color: #5088c5ff;\"></div></div>"
      ],
      "text/plain": [
       "<matplotlib.colors.ListedColormap at 0x13c1e5eb0>"
      ]
     },
     "metadata": {},
     "output_type": "display_data"
    },
    {
     "data": {
      "image/png": "[encoded data removed]",
      "text/plain": [
       "<Figure size 640x480 with 2 Axes>"
      ]
     },
     "metadata": {},
     "output_type": "display_data"
    }
   ],
   "source": [
    "# Convert a Palette into a `matplotlib.colors.ListedColormap`.\n",
    "evaluation_palette = apc.Palette(\n",
    "    \"evaluation_palette\",\n",
    "    [apc.amber, apc.canary, apc.vital, apc.aegean],\n",
    ")\n",
    "\n",
    "display(evaluation_palette.to_mpl_cmap())\n",
    "\n",
    "# You might use this in situations where you want to translate a\n",
    "# continuous variable into a categorical variable, such as when\n",
    "# showing quartiles in a heatmap.\n",
    "data = np.random.rand(8, 8)\n",
    "sns.heatmap(data, cmap=evaluation_palette.to_mpl_cmap(), vmin=0, vmax=1, square=True)\n",
    "plt.ylabel(\"Y axis\")\n",
    "plt.xlabel(\"X axis\")\n",
    "plt.show()"
   ]
  },
  {
   "cell_type": "markdown",
   "metadata": {},
   "source": [
    "## `Gradient` utilities\n",
    "\n",
    "`Gradient` objects have a variety of utilities for working with gradients."
   ]
  },
  {
   "cell_type": "code",
   "execution_count": 17,
   "metadata": {
    "execution": {
     "iopub.execute_input": "2025-02-21T00:07:19.847458Z",
     "iopub.status.busy": "2025-02-21T00:07:19.847344Z",
     "iopub.status.idle": "2025-02-21T00:07:19.851457Z",
     "shell.execute_reply": "2025-02-21T00:07:19.851220Z"
    }
   },
   "outputs": [
    {
     "data": {
      "text/plain": [
       "\u001b[48;2;40;42;73m \u001b[0m\u001b[48;2;44;51;85m \u001b[0m\u001b[48;2;48;61;98m \u001b[0m\u001b[48;2;52;70;110m \u001b[0m\u001b[48;2;56;80;123m \u001b[0m\u001b[48;2;60;89;135m \u001b[0m\u001b[48;2;64;99;149m \u001b[0m\u001b[48;2;68;109;161m \u001b[0m\u001b[48;2;73;118;174m \u001b[0m\u001b[48;2;77;128;186m \u001b[0m\u001b[48;2;82;138;195m \u001b[0m\u001b[48;2;95;150;181m \u001b[0m\u001b[48;2;107;162;168m \u001b[0m\u001b[48;2;119;174;155m \u001b[0m\u001b[48;2;131;185;142m \u001b[0m\u001b[48;2;143;197;129m \u001b[0m\u001b[48;2;159;209;125m \u001b[0m\u001b[48;2;178;217;138m \u001b[0m\u001b[48;2;197;226;151m \u001b[0m\u001b[48;2;216;235;163m \u001b[0m\u001b[48;2;236;244;176m \u001b[0m\n",
       "\u001b[48;2;40;42;73m  \u001b[0m\u001b[38;2;40;42;73m space  #282A49\u001b[0m 0\n",
       "\u001b[48;2;80;136;197m  \u001b[0m\u001b[38;2;80;136;197m aegean #5088C5\u001b[0m 0.468\n",
       "\u001b[48;2;151;205;120m  \u001b[0m\u001b[38;2;151;205;120m lime   #97CD78\u001b[0m 0.746\n",
       "\u001b[48;2;255;253;189m  \u001b[0m\u001b[38;2;255;253;189m butter #FFFDBD\u001b[0m 1"
      ]
     },
     "metadata": {},
     "output_type": "display_data"
    },
    {
     "data": {
      "text/plain": [
       "\u001b[48;2;255;253;189m \u001b[0m\u001b[48;2;236;244;176m \u001b[0m\u001b[48;2;216;235;163m \u001b[0m\u001b[48;2;197;226;151m \u001b[0m\u001b[48;2;178;217;138m \u001b[0m\u001b[48;2;159;209;125m \u001b[0m\u001b[48;2;143;197;129m \u001b[0m\u001b[48;2;131;185;142m \u001b[0m\u001b[48;2;119;174;155m \u001b[0m\u001b[48;2;107;162;168m \u001b[0m\u001b[48;2;95;150;181m \u001b[0m\u001b[48;2;82;138;195m \u001b[0m\u001b[48;2;77;128;186m \u001b[0m\u001b[48;2;73;118;174m \u001b[0m\u001b[48;2;68;109;161m \u001b[0m\u001b[48;2;64;99;149m \u001b[0m\u001b[48;2;60;89;135m \u001b[0m\u001b[48;2;56;80;123m \u001b[0m\u001b[48;2;52;70;110m \u001b[0m\u001b[48;2;48;61;98m \u001b[0m\u001b[48;2;44;51;85m \u001b[0m\n",
       "\u001b[48;2;255;253;189m  \u001b[0m\u001b[38;2;255;253;189m butter #FFFDBD\u001b[0m 0\n",
       "\u001b[48;2;151;205;120m  \u001b[0m\u001b[38;2;151;205;120m lime   #97CD78\u001b[0m 0.254\n",
       "\u001b[48;2;80;136;197m  \u001b[0m\u001b[38;2;80;136;197m aegean #5088C5\u001b[0m 0.532\n",
       "\u001b[48;2;40;42;73m  \u001b[0m\u001b[38;2;40;42;73m space  #282A49\u001b[0m 1"
      ]
     },
     "metadata": {},
     "output_type": "display_data"
    }
   ],
   "source": [
    "# Reverse the direction of a gradient\n",
    "display(apc.gradients.viridis)\n",
    "display(apc.gradients.viridis.reverse())"
   ]
  },
  {
   "cell_type": "code",
   "execution_count": 18,
   "metadata": {
    "execution": {
     "iopub.execute_input": "2025-02-21T00:07:19.852952Z",
     "iopub.status.busy": "2025-02-21T00:07:19.852860Z",
     "iopub.status.idle": "2025-02-21T00:07:19.855839Z",
     "shell.execute_reply": "2025-02-21T00:07:19.855572Z"
    }
   },
   "outputs": [
    {
     "data": {
      "text/plain": [
       "\u001b[48;2;158;63;65m \u001b[0m\u001b[48;2;177;71;73m \u001b[0m\u001b[48;2;195;79;80m \u001b[0m\u001b[48;2;205;95;96m \u001b[0m\u001b[48;2;211;115;116m \u001b[0m\u001b[48;2;218;134;135m \u001b[0m\u001b[48;2;225;155;156m \u001b[0m\u001b[48;2;232;174;175m \u001b[0m\u001b[48;2;238;194;195m \u001b[0m\u001b[48;2;245;213;214m \u001b[0m\u001b[48;2;251;233;234m \u001b[0m\u001b[48;2;233;243;251m \u001b[0m\u001b[48;2;212;229;244m \u001b[0m\u001b[48;2;191;214;236m \u001b[0m\u001b[48;2;171;200;229m \u001b[0m\u001b[48;2;150;185;222m \u001b[0m\u001b[48;2;128;169;214m \u001b[0m\u001b[48;2;107;155;207m \u001b[0m\u001b[48;2;86;140;199m \u001b[0m\u001b[48;2;70;127;188m \u001b[0m\u001b[48;2;57;114;174m \u001b[0m\n",
       "\u001b[48;2;158;63;65m  \u001b[0m\u001b[38;2;158;63;65m cinnabar #9E3F41\u001b[0m 0.0\n",
       "\u001b[48;2;200;81;82m  \u001b[0m\u001b[38;2;200;81;82m dragon   #C85152\u001b[0m 0.106\n",
       "\u001b[48;2;255;243;244m  \u001b[0m\u001b[38;2;255;243;244m blush    #FFF3F4\u001b[0m 0.5\n",
       "\u001b[48;2;244;251;255m  \u001b[0m\u001b[38;2;244;251;255m zephyr   #F4FBFF\u001b[0m 0.5\n",
       "\u001b[48;2;80;136;197m  \u001b[0m\u001b[38;2;80;136;197m aegean   #5088C5\u001b[0m 0.873\n",
       "\u001b[48;2;43;101;161m  \u001b[0m\u001b[38;2;43;101;161m lapis    #2B65A1\u001b[0m 1.0"
      ]
     },
     "execution_count": 18,
     "metadata": {},
     "output_type": "execute_result"
    }
   ],
   "source": [
    "# Add gradients together.\n",
    "apc.gradients.reds + apc.gradients.blues.reverse()"
   ]
  },
  {
   "cell_type": "code",
   "execution_count": 19,
   "metadata": {
    "execution": {
     "iopub.execute_input": "2025-02-21T00:07:19.857248Z",
     "iopub.status.busy": "2025-02-21T00:07:19.857151Z",
     "iopub.status.idle": "2025-02-21T00:07:19.862499Z",
     "shell.execute_reply": "2025-02-21T00:07:19.862249Z"
    }
   },
   "outputs": [
    {
     "data": {
      "image/png": "[encoded data removed]",
      "text/html": [
       "<div style=\"vertical-align: middle;\"><strong>magma</strong> </div><div class=\"cmap\"><img alt=\"magma colormap\" title=\"magma\" style=\"border: 1px solid #555;\" src=\"data:image/png;base64,iVBORw0KGgoAAAANSUhEUgAAAgAAAABACAYAAABsv8+/AAAAFHRFWHRUaXRsZQBtYWdtYSBjb2xvcm1hcCO8Z6IAAAAadEVYdERlc2NyaXB0aW9uAG1hZ21hIGNvbG9ybWFw3ePORAAAADB0RVh0QXV0aG9yAE1hdHBsb3RsaWIgdjMuOS4xLCBodHRwczovL21hdHBsb3RsaWIub3JnVHRzAAAAADJ0RVh0U29mdHdhcmUATWF0cGxvdGxpYiB2My45LjEsIGh0dHBzOi8vbWF0cGxvdGxpYi5vcmd60uwnAAAB60lEQVR4nO3WwW3bMABAUcmDdIoM1P2XUA+t4oiWzCQu0AL/vYsjkSLpJDb++vbj57Z8sK7r/sPvl2W/Po7f76/H5ybr3O8vh/sP67w/NzvX+vHlybmO867PNcy7Gp+s9/K5JuuNz+23b8P1OL5f3ybjX13v+/tvX1vvv3tf2z/e/3j9+f0PH/v7+Pg6jC/Tedvz+ZP9lst52/n82fmH9R7Pv53O+/z7vTr/+XlfP/9k3W+ffzufPznf9d9rnPf8IOvt+S9g/P69/8NPxsfnH/ZZzue9us/Ffo/PL6fz//4+w/if+fv3BQAQIgAAIEgAAECQAACAIAEAAEECAACCBAAABAkAAAgSAAAQJAAAIEgAAECQAACAIAEAAEECAACCBAAABAkAAAgSAAAQJAAAIEgAAECQAACAIAEAAEECAACCBAAABAkAAAgSAAAQJAAAIEgAAECQAACAIAEAAEECAACCBAAABAkAAAgSAAAQJAAAIEgAAECQAACAIAEAAEECAACCBAAABAkAAAgSAAAQJAAAIEgAAECQAACAIAEAAEECAACCBAAABAkAAAgSAAAQJAAAIEgAAECQAACAIAEAAEECAACCBAAABAkAAAgSAAAQJAAAIEgAAECQAACAIAEAAEECAACCBAAABP0CUKMNBQkPI50AAAAASUVORK5CYII=\"></div><div style=\"vertical-align: middle; max-width: 514px; display: flex; justify-content: space-between;\"><div style=\"float: left;\"><div title=\"#341e60ff\" style=\"display: inline-block; width: 1em; height: 1em; margin: 0; vertical-align: middle; border: 1px solid #555; background-color: #341e60ff;\"></div> under</div><div style=\"margin: 0 auto; display: inline-block;\">bad <div title=\"#00000000\" style=\"display: inline-block; width: 1em; height: 1em; margin: 0; vertical-align: middle; border: 1px solid #555; background-color: #00000000;\"></div></div><div style=\"float: right;\">over <div title=\"#f5dfb2ff\" style=\"display: inline-block; width: 1em; height: 1em; margin: 0; vertical-align: middle; border: 1px solid #555; background-color: #f5dfb2ff;\"></div></div>"
      ],
      "text/plain": [
       "<matplotlib.colors.LinearSegmentedColormap at 0x13bfe0af0>"
      ]
     },
     "execution_count": 19,
     "metadata": {},
     "output_type": "execute_result"
    }
   ],
   "source": [
    "# Convert a Palette into a `matplotlib.colors.LinearSegmentedColormap`.\n",
    "apc.gradients.magma.to_mpl_cmap()"
   ]
  },
  {
   "cell_type": "code",
   "execution_count": 20,
   "metadata": {
    "execution": {
     "iopub.execute_input": "2025-02-21T00:07:19.863866Z",
     "iopub.status.busy": "2025-02-21T00:07:19.863777Z",
     "iopub.status.idle": "2025-02-21T00:07:19.866383Z",
     "shell.execute_reply": "2025-02-21T00:07:19.866129Z"
    }
   },
   "outputs": [
    {
     "data": {
      "text/plain": [
       "\u001b[48;2;52;30;96m  \u001b[0m\u001b[48;2;76;59;129m  \u001b[0m\u001b[48;2;119;82;139m  \u001b[0m\u001b[48;2;170;104;137m  \u001b[0m\u001b[48;2;205;137;133m  \u001b[0m\u001b[48;2;235;175;139m  \u001b[0m\u001b[48;2;245;223;178m  \u001b[0m\n",
       "\u001b[48;2;52;30;96m  \u001b[0m\u001b[38;2;52;30;96m magma_0 #341e60\u001b[0m\n",
       "\u001b[48;2;76;59;129m  \u001b[0m\u001b[38;2;76;59;129m magma_1 #4c3b81\u001b[0m\n",
       "\u001b[48;2;119;82;139m  \u001b[0m\u001b[38;2;119;82;139m magma_2 #77528b\u001b[0m\n",
       "\u001b[48;2;170;104;137m  \u001b[0m\u001b[38;2;170;104;137m magma_3 #aa6889\u001b[0m\n",
       "\u001b[48;2;205;137;133m  \u001b[0m\u001b[38;2;205;137;133m magma_4 #cd8985\u001b[0m\n",
       "\u001b[48;2;235;175;139m  \u001b[0m\u001b[38;2;235;175;139m magma_5 #ebaf8b\u001b[0m\n",
       "\u001b[48;2;245;223;178m  \u001b[0m\u001b[38;2;245;223;178m magma_6 #f5dfb2\u001b[0m"
      ]
     },
     "execution_count": 20,
     "metadata": {},
     "output_type": "execute_result"
    }
   ],
   "source": [
    "# Convert a Gradient into a Palette with a specified number of colors.\n",
    "apc.gradients.magma.resample_as_palette(7)"
   ]
  },
  {
   "cell_type": "markdown",
   "metadata": {},
   "source": [
    "## Checking gradient lightness\n",
    "\n",
    "For most applications, gradients should transition smoothly from light to dark (or vice versa), without major inflection points in intensity. You can check the lightness of a gradient using the `apc.plot.plot_gradient_lightness` function."
   ]
  },
  {
   "cell_type": "code",
   "execution_count": 21,
   "metadata": {
    "execution": {
     "iopub.execute_input": "2025-02-21T00:07:19.867737Z",
     "iopub.status.busy": "2025-02-21T00:07:19.867641Z",
     "iopub.status.idle": "2025-02-21T00:07:19.978102Z",
     "shell.execute_reply": "2025-02-21T00:07:19.977776Z"
    }
   },
   "outputs": [
    {
     "data": {
      "image/png": "[encoded data removed]",
      "text/plain": [
       "<Figure size 400x400 with 1 Axes>"
      ]
     },
     "metadata": {},
     "output_type": "display_data"
    }
   ],
   "source": [
    "apc.plot.plot_gradient_lightness(apc.gradients.viridis)"
   ]
  },
  {
   "cell_type": "markdown",
   "metadata": {},
   "source": [
    "When building custom gradients, you can use the `.interpolate_lightness()` method of any `Gradient` object to ensure that the gradient transitions smoothly from light to dark."
   ]
  },
  {
   "cell_type": "code",
   "execution_count": 22,
   "metadata": {
    "execution": {
     "iopub.execute_input": "2025-02-21T00:07:19.979721Z",
     "iopub.status.busy": "2025-02-21T00:07:19.979595Z",
     "iopub.status.idle": "2025-02-21T00:07:20.050358Z",
     "shell.execute_reply": "2025-02-21T00:07:20.050086Z"
    }
   },
   "outputs": [
    {
     "data": {
      "image/png": "[encoded data removed]",
      "text/plain": [
       "<Figure size 800x500 with 1 Axes>"
      ]
     },
     "metadata": {},
     "output_type": "display_data"
    },
    {
     "data": {
      "text/plain": [
       "\u001b[48;2;52;30;96m \u001b[0m\u001b[48;2;61;51;114m \u001b[0m\u001b[48;2;70;73;133m \u001b[0m\u001b[48;2;79;94;151m \u001b[0m\u001b[48;2;88;115;170m \u001b[0m\u001b[48;2;96;137;188m \u001b[0m\u001b[48;2;106;160;209m \u001b[0m\u001b[48;2;115;181;227m \u001b[0m\u001b[48;2;127;188;229m \u001b[0m\u001b[48;2;138;195;232m \u001b[0m\u001b[48;2;150;202;234m \u001b[0m\u001b[48;2;163;210;237m \u001b[0m\u001b[48;2;175;217;239m \u001b[0m\u001b[48;2;186;224;242m \u001b[0m\u001b[48;2;198;231;244m \u001b[0m\u001b[48;2;204;234;246m \u001b[0m\u001b[48;2;212;237;247m \u001b[0m\u001b[48;2;218;240;249m \u001b[0m\u001b[48;2;225;243;250m \u001b[0m\u001b[48;2;231;245;252m \u001b[0m\u001b[48;2;238;248;253m \u001b[0m\n",
       "\u001b[48;2;52;30;96m  \u001b[0m\u001b[38;2;52;30;96m concord #341E60\u001b[0m 0.0\n",
       "\u001b[48;2;115;181;227m  \u001b[0m\u001b[38;2;115;181;227m vital   #73B5E3\u001b[0m 0.3333333333333333\n",
       "\u001b[48;2;198;231;244m  \u001b[0m\u001b[38;2;198;231;244m sky     #C6E7F4\u001b[0m 0.6666666666666666\n",
       "\u001b[48;2;244;251;255m  \u001b[0m\u001b[38;2;244;251;255m zephyr  #F4FBFF\u001b[0m 1.0"
      ]
     },
     "metadata": {},
     "output_type": "display_data"
    },
    {
     "data": {
      "text/plain": [
       "\u001b[48;2;52;30;96m \u001b[0m\u001b[48;2;56;41;105m \u001b[0m\u001b[48;2;61;51;114m \u001b[0m\u001b[48;2;65;62;124m \u001b[0m\u001b[48;2;70;72;133m \u001b[0m\u001b[48;2;74;83;142m \u001b[0m\u001b[48;2;79;95;152m \u001b[0m\u001b[48;2;83;105;161m \u001b[0m\u001b[48;2;88;116;170m \u001b[0m\u001b[48;2;92;126;180m \u001b[0m\u001b[48;2;97;137;189m \u001b[0m\u001b[48;2;101;148;199m \u001b[0m\u001b[48;2;106;159;208m \u001b[0m\u001b[48;2;110;170;217m \u001b[0m\u001b[48;2;115;180;226m \u001b[0m\u001b[48;2;131;190;230m \u001b[0m\u001b[48;2;149;201;234m \u001b[0m\u001b[48;2;166;212;237m \u001b[0m\u001b[48;2;183;222;241m \u001b[0m\u001b[48;2;200;232;245m \u001b[0m\u001b[48;2;222;241;250m \u001b[0m\n",
       "\u001b[48;2;52;30;96m  \u001b[0m\u001b[38;2;52;30;96m concord #341E60\u001b[0m 0.0\n",
       "\u001b[48;2;115;181;227m  \u001b[0m\u001b[38;2;115;181;227m vital   #73B5E3\u001b[0m 0.67\n",
       "\u001b[48;2;198;231;244m  \u001b[0m\u001b[38;2;198;231;244m sky     #C6E7F4\u001b[0m 0.901\n",
       "\u001b[48;2;244;251;255m  \u001b[0m\u001b[38;2;244;251;255m zephyr  #F4FBFF\u001b[0m 1.0"
      ]
     },
     "metadata": {},
     "output_type": "display_data"
    }
   ],
   "source": [
    "# The colors in this custom gradient aren't smoothly increasing in lightness.\n",
    "my_blues = apc.Gradient(\n",
    "    \"my_blues\",\n",
    "    [apc.concord, apc.vital, apc.sky, apc.zephyr],\n",
    ")\n",
    "\n",
    "# This method adjusts the positions of colors so that lightness is smoothly increasing.\n",
    "my_blues_interpolated = my_blues.interpolate_lightness()\n",
    "\n",
    "# You can see the difference in lightness by plotting the gradients.\n",
    "apc.plot.plot_gradient_lightness([my_blues, my_blues_interpolated], figsize=(8, 5))\n",
    "\n",
    "display(my_blues)\n",
    "display(my_blues_interpolated)"
   ]
  },
  {
   "cell_type": "markdown",
   "metadata": {},
   "source": [
    "## Displaying all available colors, gradients, and palettes"
   ]
  },
  {
   "cell_type": "code",
   "execution_count": 23,
   "metadata": {
    "execution": {
     "iopub.execute_input": "2025-02-21T00:07:20.051877Z",
     "iopub.status.busy": "2025-02-21T00:07:20.051780Z",
     "iopub.status.idle": "2025-02-21T00:07:20.054713Z",
     "shell.execute_reply": "2025-02-21T00:07:20.054450Z"
    }
   },
   "outputs": [
    {
     "data": {
      "text/plain": [
       "\u001b[48;2;80;136;197m  \u001b[0m\u001b[48;2;242;131;96m  \u001b[0m\u001b[48;2;59;152;134m  \u001b[0m\u001b[48;2;247;184;70m  \u001b[0m\u001b[48;2;122;119;171m  \u001b[0m\u001b[48;2;248;152;174m  \u001b[0m\u001b[48;2;115;181;227m  \u001b[0m\u001b[48;2;255;185;132m  \u001b[0m\u001b[48;2;151;205;120m  \u001b[0m\u001b[48;2;200;81;82m  \u001b[0m\u001b[48;2;245;228;190m  \u001b[0m\u001b[48;2;186;190;224m  \u001b[0m\u001b[48;2;198;231;244m  \u001b[0m\u001b[48;2;248;197;193m  \u001b[0m\u001b[48;2;219;209;195m  \u001b[0m\u001b[48;2;182;200;212m  \u001b[0m\u001b[48;2;181;190;164m  \u001b[0m\u001b[48;2;138;153;173m  \u001b[0m\u001b[48;2;218;144;133m  \u001b[0m\u001b[48;2;237;224;214m  \u001b[0m\u001b[48;2;235;237;232m  \u001b[0m\u001b[48;2;186;176;168m  \u001b[0m\u001b[48;2;143;136;133m  \u001b[0m\u001b[48;2;67;65;63m  \u001b[0m\u001b[48;2;72;75;80m  \u001b[0m\u001b[48;2;41;41;40m  \u001b[0m\u001b[48;2;89;111;116m  \u001b[0m\u001b[48;2;9;9;10m  \u001b[0m\u001b[48;2;253;248;242m  \u001b[0m\u001b[48;2;244;251;255m  \u001b[0m\u001b[48;2;247;251;239m  \u001b[0m\u001b[48;2;248;244;241m  \u001b[0m\u001b[48;2;52;30;96m  \u001b[0m\u001b[48;2;234;234;234m  \u001b[0m\u001b[48;2;252;252;252m  \u001b[0m\u001b[48;2;82;24;10m  \u001b[0m\u001b[48;2;9;71;62m  \u001b[0m\u001b[48;2;77;37;0m  \u001b[0m\u001b[48;2;168;94;40m  \u001b[0m\u001b[48;2;253;248;242m  \u001b[0m\u001b[48;2;169;103;137m  \u001b[0m\u001b[48;2;233;164;130m  \u001b[0m\u001b[48;2;245;223;178m  \u001b[0m\u001b[48;2;78;127;114m  \u001b[0m\u001b[48;2;255;204;123m  \u001b[0m\u001b[48;2;40;42;73m  \u001b[0m\u001b[48;2;255;253;189m  \u001b[0m\u001b[48;2;150;66;34m  \u001b[0m\u001b[48;2;255;243;244m  \u001b[0m\u001b[48;2;104;98;171m  \u001b[0m\u001b[48;2;252;247;255m  \u001b[0m\u001b[48;2;255;255;255m  \u001b[0m\u001b[48;2;255;0;0m  \u001b[0m\u001b[48;2;0;255;0m  \u001b[0m\u001b[48;2;0;0;255m  \u001b[0m\u001b[48;2;0;255;255m  \u001b[0m\u001b[48;2;255;0;255m  \u001b[0m\u001b[48;2;255;255;0m  \u001b[0m\u001b[48;2;0;0;0m  \u001b[0m\u001b[48;2;9;68;104m  \u001b[0m\u001b[48;2;43;101;161m  \u001b[0m\u001b[48;2;158;63;65m  \u001b[0m\u001b[48;2;255;208;176m  \u001b[0m\u001b[48;2;214;141;34m  \u001b[0m\u001b[48;2;255;211;100m  \u001b[0m\u001b[48;2;84;68;140m  \u001b[0m\u001b[48;2;220;223;239m  \u001b[0m\u001b[48;2;42;107;94m  \u001b[0m\u001b[48;2;111;188;173m  \u001b[0m\u001b[48;2;195;226;219m  \u001b[0m\u001b[48;2;193;76;112m  \u001b[0m\u001b[48;2;226;113;143m  \u001b[0m\u001b[48;2;255;227;212m  \u001b[0m\u001b[48;2;99;92;90m  \u001b[0m\u001b[48;2;237;230;218m  \u001b[0m\u001b[48;2;104;119;135m  \u001b[0m\u001b[48;2;171;186;196m  \u001b[0m\u001b[48;2;202;212;219m  \u001b[0m\u001b[48;2;230;234;237m  \u001b[0m\u001b[48;2;30;72;18m  \u001b[0m\u001b[48;2;71;120;74m  \u001b[0m\u001b[48;2;113;172;90m  \u001b[0m\u001b[48;2;193;225;174m  \u001b[0m\n",
       "\u001b[48;2;80;136;197m  \u001b[0m\u001b[38;2;80;136;197m aegean     #5088C5\u001b[0m\n",
       "\u001b[48;2;242;131;96m  \u001b[0m\u001b[38;2;242;131;96m amber      #F28360\u001b[0m\n",
       "\u001b[48;2;59;152;134m  \u001b[0m\u001b[38;2;59;152;134m seaweed    #3B9886\u001b[0m\n",
       "\u001b[48;2;247;184;70m  \u001b[0m\u001b[38;2;247;184;70m canary     #F7B846\u001b[0m\n",
       "\u001b[48;2;122;119;171m  \u001b[0m\u001b[38;2;122;119;171m aster      #7A77AB\u001b[0m\n",
       "\u001b[48;2;248;152;174m  \u001b[0m\u001b[38;2;248;152;174m rose       #F898AE\u001b[0m\n",
       "\u001b[48;2;115;181;227m  \u001b[0m\u001b[38;2;115;181;227m vital      #73B5E3\u001b[0m\n",
       "\u001b[48;2;255;185;132m  \u001b[0m\u001b[38;2;255;185;132m tangerine  #FFB984\u001b[0m\n",
       "\u001b[48;2;151;205;120m  \u001b[0m\u001b[38;2;151;205;120m lime       #97CD78\u001b[0m\n",
       "\u001b[48;2;200;81;82m  \u001b[0m\u001b[38;2;200;81;82m dragon     #C85152\u001b[0m\n",
       "\u001b[48;2;245;228;190m  \u001b[0m\u001b[38;2;245;228;190m oat        #F5E4BE\u001b[0m\n",
       "\u001b[48;2;186;190;224m  \u001b[0m\u001b[38;2;186;190;224m wish       #BABEE0\u001b[0m\n",
       "\u001b[48;2;198;231;244m  \u001b[0m\u001b[38;2;198;231;244m sky        #C6E7F4\u001b[0m\n",
       "\u001b[48;2;248;197;193m  \u001b[0m\u001b[38;2;248;197;193m dress      #F8C5C1\u001b[0m\n",
       "\u001b[48;2;219;209;195m  \u001b[0m\u001b[38;2;219;209;195m taupe      #DBD1C3\u001b[0m\n",
       "\u001b[48;2;182;200;212m  \u001b[0m\u001b[38;2;182;200;212m denim      #B6C8D4\u001b[0m\n",
       "\u001b[48;2;181;190;164m  \u001b[0m\u001b[38;2;181;190;164m sage       #B5BEA4\u001b[0m\n",
       "\u001b[48;2;138;153;173m  \u001b[0m\u001b[38;2;138;153;173m marine     #8A99AD\u001b[0m\n",
       "\u001b[48;2;218;144;133m  \u001b[0m\u001b[38;2;218;144;133m mars       #DA9085\u001b[0m\n",
       "\u001b[48;2;237;224;214m  \u001b[0m\u001b[38;2;237;224;214m shell      #EDE0D6\u001b[0m\n",
       "\u001b[48;2;235;237;232m  \u001b[0m\u001b[38;2;235;237;232m gray       #EBEDE8\u001b[0m\n",
       "\u001b[48;2;186;176;168m  \u001b[0m\u001b[38;2;186;176;168m chateau    #BAB0A8\u001b[0m\n",
       "\u001b[48;2;143;136;133m  \u001b[0m\u001b[38;2;143;136;133m bark       #8F8885\u001b[0m\n",
       "\u001b[48;2;67;65;63m  \u001b[0m\u001b[38;2;67;65;63m slate      #43413F\u001b[0m\n",
       "\u001b[48;2;72;75;80m  \u001b[0m\u001b[38;2;72;75;80m charcoal   #484B50\u001b[0m\n",
       "\u001b[48;2;41;41;40m  \u001b[0m\u001b[38;2;41;41;40m crow       #292928\u001b[0m\n",
       "\u001b[48;2;89;111;116m  \u001b[0m\u001b[38;2;89;111;116m forest     #596F74\u001b[0m\n",
       "\u001b[48;2;9;9;10m  \u001b[0m\u001b[38;2;9;9;10m pitch      #09090A\u001b[0m\n",
       "\u001b[48;2;253;248;242m  \u001b[0m\u001b[38;2;253;248;242m parchment  #FDF8F2\u001b[0m\n",
       "\u001b[48;2;244;251;255m  \u001b[0m\u001b[38;2;244;251;255m zephyr     #F4FBFF\u001b[0m\n",
       "\u001b[48;2;247;251;239m  \u001b[0m\u001b[38;2;247;251;239m lichen     #F7FBEF\u001b[0m\n",
       "\u001b[48;2;248;244;241m  \u001b[0m\u001b[38;2;248;244;241m dawn       #F8F4F1\u001b[0m\n",
       "\u001b[48;2;52;30;96m  \u001b[0m\u001b[38;2;52;30;96m concord    #341E60\u001b[0m\n",
       "\u001b[48;2;234;234;234m  \u001b[0m\u001b[38;2;234;234;234m brightgray #EAEAEA\u001b[0m\n",
       "\u001b[48;2;252;252;252m  \u001b[0m\u001b[38;2;252;252;252m paper      #FCFCFC\u001b[0m\n",
       "\u001b[48;2;82;24;10m  \u001b[0m\u001b[38;2;82;24;10m redwood    #52180A\u001b[0m\n",
       "\u001b[48;2;9;71;62m  \u001b[0m\u001b[38;2;9;71;62m depths     #09473E\u001b[0m\n",
       "\u001b[48;2;77;37;0m  \u001b[0m\u001b[38;2;77;37;0m soil       #4D2500\u001b[0m\n",
       "\u001b[48;2;168;94;40m  \u001b[0m\u001b[38;2;168;94;40m umber      #A85E28\u001b[0m\n",
       "\u001b[48;2;253;248;242m  \u001b[0m\u001b[38;2;253;248;242m parchment  #FDF8F2\u001b[0m\n",
       "\u001b[48;2;169;103;137m  \u001b[0m\u001b[38;2;169;103;137m heather    #A96789\u001b[0m\n",
       "\u001b[48;2;233;164;130m  \u001b[0m\u001b[38;2;233;164;130m tumbleweed #E9A482\u001b[0m\n",
       "\u001b[48;2;245;223;178m  \u001b[0m\u001b[38;2;245;223;178m wheat      #F5DFB2\u001b[0m\n",
       "\u001b[48;2;78;127;114m  \u001b[0m\u001b[38;2;78;127;114m shire      #4E7F72\u001b[0m\n",
       "\u001b[48;2;255;204;123m  \u001b[0m\u001b[38;2;255;204;123m topaz      #FFCC7B\u001b[0m\n",
       "\u001b[48;2;40;42;73m  \u001b[0m\u001b[38;2;40;42;73m space      #282A49\u001b[0m\n",
       "\u001b[48;2;255;253;189m  \u001b[0m\u001b[38;2;255;253;189m butter     #FFFDBD\u001b[0m\n",
       "\u001b[48;2;150;66;34m  \u001b[0m\u001b[38;2;150;66;34m terracotta #964222\u001b[0m\n",
       "\u001b[48;2;255;243;244m  \u001b[0m\u001b[38;2;255;243;244m blush      #FFF3F4\u001b[0m\n",
       "\u001b[48;2;104;98;171m  \u001b[0m\u001b[38;2;104;98;171m lilac      #6862AB\u001b[0m\n",
       "\u001b[48;2;252;247;255m  \u001b[0m\u001b[38;2;252;247;255m ghost      #FCF7FF\u001b[0m\n",
       "\u001b[48;2;255;255;255m  \u001b[0m\u001b[38;2;255;255;255m white      #FFFFFF\u001b[0m\n",
       "\u001b[48;2;255;0;0m  \u001b[0m\u001b[38;2;255;0;0m red        #FF0000\u001b[0m\n",
       "\u001b[48;2;0;255;0m  \u001b[0m\u001b[38;2;0;255;0m green      #00FF00\u001b[0m\n",
       "\u001b[48;2;0;0;255m  \u001b[0m\u001b[38;2;0;0;255m blue       #0000FF\u001b[0m\n",
       "\u001b[48;2;0;255;255m  \u001b[0m\u001b[38;2;0;255;255m cyan       #00FFFF\u001b[0m\n",
       "\u001b[48;2;255;0;255m  \u001b[0m\u001b[38;2;255;0;255m magenta    #FF00FF\u001b[0m\n",
       "\u001b[48;2;255;255;0m  \u001b[0m\u001b[38;2;255;255;0m yellow     #FFFF00\u001b[0m\n",
       "\u001b[48;2;0;0;0m  \u001b[0m\u001b[38;2;0;0;0m black      #000000\u001b[0m\n",
       "\u001b[48;2;9;68;104m  \u001b[0m\u001b[38;2;9;68;104m dusk       #094468\u001b[0m\n",
       "\u001b[48;2;43;101;161m  \u001b[0m\u001b[38;2;43;101;161m lapis      #2B65A1\u001b[0m\n",
       "\u001b[48;2;158;63;65m  \u001b[0m\u001b[38;2;158;63;65m cinnabar   #9E3F41\u001b[0m\n",
       "\u001b[48;2;255;208;176m  \u001b[0m\u001b[38;2;255;208;176m melon      #FFD0B0\u001b[0m\n",
       "\u001b[48;2;214;141;34m  \u001b[0m\u001b[38;2;214;141;34m mustard    #D68D22\u001b[0m\n",
       "\u001b[48;2;255;211;100m  \u001b[0m\u001b[38;2;255;211;100m sun        #FFD364\u001b[0m\n",
       "\u001b[48;2;84;68;140m  \u001b[0m\u001b[38;2;84;68;140m tanzanite  #54448C\u001b[0m\n",
       "\u001b[48;2;220;223;239m  \u001b[0m\u001b[38;2;220;223;239m iris       #DCDFEF\u001b[0m\n",
       "\u001b[48;2;42;107;94m  \u001b[0m\u001b[38;2;42;107;94m asparagus  #2A6B5E\u001b[0m\n",
       "\u001b[48;2;111;188;173m  \u001b[0m\u001b[38;2;111;188;173m teal       #6FBCAD\u001b[0m\n",
       "\u001b[48;2;195;226;219m  \u001b[0m\u001b[38;2;195;226;219m glass      #C3E2DB\u001b[0m\n",
       "\u001b[48;2;193;76;112m  \u001b[0m\u001b[38;2;193;76;112m azalea     #C14C70\u001b[0m\n",
       "\u001b[48;2;226;113;143m  \u001b[0m\u001b[38;2;226;113;143m candy      #E2718F\u001b[0m\n",
       "\u001b[48;2;255;227;212m  \u001b[0m\u001b[38;2;255;227;212m putty      #FFE3D4\u001b[0m\n",
       "\u001b[48;2;99;92;90m  \u001b[0m\u001b[38;2;99;92;90m mud        #635C5A\u001b[0m\n",
       "\u001b[48;2;237;230;218m  \u001b[0m\u001b[38;2;237;230;218m stone      #EDE6DA\u001b[0m\n",
       "\u001b[48;2;104;119;135m  \u001b[0m\u001b[38;2;104;119;135m steel      #687787\u001b[0m\n",
       "\u001b[48;2;171;186;196m  \u001b[0m\u001b[38;2;171;186;196m cloud      #ABBAC4\u001b[0m\n",
       "\u001b[48;2;202;212;219m  \u001b[0m\u001b[38;2;202;212;219m dove       #CAD4DB\u001b[0m\n",
       "\u001b[48;2;230;234;237m  \u001b[0m\u001b[38;2;230;234;237m ice        #E6EAED\u001b[0m\n",
       "\u001b[48;2;30;72;18m  \u001b[0m\u001b[38;2;30;72;18m yucca      #1E4812\u001b[0m\n",
       "\u001b[48;2;71;120;74m  \u001b[0m\u001b[38;2;71;120;74m fern       #47784A\u001b[0m\n",
       "\u001b[48;2;113;172;90m  \u001b[0m\u001b[38;2;113;172;90m matcha     #71AC5A\u001b[0m\n",
       "\u001b[48;2;193;225;174m  \u001b[0m\u001b[38;2;193;225;174m edamame    #C1E1AE\u001b[0m"
      ]
     },
     "execution_count": 23,
     "metadata": {},
     "output_type": "execute_result"
    }
   ],
   "source": [
    "# Display all colors.\n",
    "apc.palettes.all_colors"
   ]
  },
  {
   "cell_type": "code",
   "execution_count": 24,
   "metadata": {
    "execution": {
     "iopub.execute_input": "2025-02-21T00:07:20.056104Z",
     "iopub.status.busy": "2025-02-21T00:07:20.055987Z",
     "iopub.status.idle": "2025-02-21T00:07:20.058223Z",
     "shell.execute_reply": "2025-02-21T00:07:20.057954Z"
    }
   },
   "outputs": [
    {
     "name": "stdout",
     "output_type": "stream",
     "text": [
      "Primary\n",
      "\u001b[48;2;80;136;197m  \u001b[0m\u001b[48;2;242;131;96m  \u001b[0m\u001b[48;2;59;152;134m  \u001b[0m\u001b[48;2;247;184;70m  \u001b[0m\u001b[48;2;122;119;171m  \u001b[0m\u001b[48;2;248;152;174m  \u001b[0m\u001b[48;2;115;181;227m  \u001b[0m\u001b[48;2;255;185;132m  \u001b[0m\u001b[48;2;151;205;120m  \u001b[0m\u001b[48;2;200;81;82m  \u001b[0m\u001b[48;2;245;228;190m  \u001b[0m\u001b[48;2;186;190;224m  \u001b[0m\n",
      "Secondary\n",
      "\u001b[48;2;198;231;244m  \u001b[0m\u001b[48;2;248;197;193m  \u001b[0m\u001b[48;2;219;209;195m  \u001b[0m\u001b[48;2;182;200;212m  \u001b[0m\u001b[48;2;181;190;164m  \u001b[0m\u001b[48;2;138;153;173m  \u001b[0m\u001b[48;2;218;144;133m  \u001b[0m\u001b[48;2;237;224;214m  \u001b[0m\n",
      "Neutral\n",
      "\u001b[48;2;235;237;232m  \u001b[0m\u001b[48;2;186;176;168m  \u001b[0m\u001b[48;2;143;136;133m  \u001b[0m\u001b[48;2;67;65;63m  \u001b[0m\u001b[48;2;72;75;80m  \u001b[0m\u001b[48;2;41;41;40m  \u001b[0m\u001b[48;2;89;111;116m  \u001b[0m\u001b[48;2;9;9;10m  \u001b[0m\n",
      "Background\n",
      "\u001b[48;2;253;248;242m  \u001b[0m\u001b[48;2;244;251;255m  \u001b[0m\u001b[48;2;247;251;239m  \u001b[0m\u001b[48;2;248;244;241m  \u001b[0m\n",
      "PrimaryOrdered\n",
      "\u001b[48;2;80;136;197m  \u001b[0m\u001b[48;2;242;131;96m  \u001b[0m\u001b[48;2;247;184;70m  \u001b[0m\u001b[48;2;151;205;120m  \u001b[0m\u001b[48;2;122;119;171m  \u001b[0m\u001b[48;2;248;152;174m  \u001b[0m\u001b[48;2;59;152;134m  \u001b[0m\u001b[48;2;200;81;82m  \u001b[0m\u001b[48;2;115;181;227m  \u001b[0m\u001b[48;2;255;185;132m  \u001b[0m\u001b[48;2;245;228;190m  \u001b[0m\u001b[48;2;186;190;224m  \u001b[0m\n",
      "SecondaryOrdered\n",
      "\u001b[48;2;198;231;244m  \u001b[0m\u001b[48;2;248;197;193m  \u001b[0m\u001b[48;2;219;209;195m  \u001b[0m\u001b[48;2;181;190;164m  \u001b[0m\u001b[48;2;182;200;212m  \u001b[0m\u001b[48;2;218;144;133m  \u001b[0m\u001b[48;2;237;224;214m  \u001b[0m\u001b[48;2;138;153;173m  \u001b[0m\n",
      "AllOrdered\n",
      "\u001b[48;2;80;136;197m  \u001b[0m\u001b[48;2;242;131;96m  \u001b[0m\u001b[48;2;247;184;70m  \u001b[0m\u001b[48;2;151;205;120m  \u001b[0m\u001b[48;2;122;119;171m  \u001b[0m\u001b[48;2;248;152;174m  \u001b[0m\u001b[48;2;59;152;134m  \u001b[0m\u001b[48;2;200;81;82m  \u001b[0m\u001b[48;2;115;181;227m  \u001b[0m\u001b[48;2;255;185;132m  \u001b[0m\u001b[48;2;245;228;190m  \u001b[0m\u001b[48;2;186;190;224m  \u001b[0m\u001b[48;2;198;231;244m  \u001b[0m\u001b[48;2;248;197;193m  \u001b[0m\u001b[48;2;219;209;195m  \u001b[0m\u001b[48;2;181;190;164m  \u001b[0m\u001b[48;2;182;200;212m  \u001b[0m\u001b[48;2;218;144;133m  \u001b[0m\u001b[48;2;237;224;214m  \u001b[0m\u001b[48;2;138;153;173m  \u001b[0m\n",
      "BlueShades\n",
      "\u001b[48;2;9;68;104m  \u001b[0m\u001b[48;2;43;101;161m  \u001b[0m\u001b[48;2;80;136;197m  \u001b[0m\u001b[48;2;115;181;227m  \u001b[0m\u001b[48;2;198;231;244m  \u001b[0m\n",
      "RedShades\n",
      "\u001b[48;2;158;63;65m  \u001b[0m\u001b[48;2;200;81;82m  \u001b[0m\u001b[48;2;242;131;96m  \u001b[0m\u001b[48;2;255;185;132m  \u001b[0m\u001b[48;2;255;208;176m  \u001b[0m\n",
      "YellowShades\n",
      "\u001b[48;2;168;94;40m  \u001b[0m\u001b[48;2;214;141;34m  \u001b[0m\u001b[48;2;247;184;70m  \u001b[0m\u001b[48;2;255;211;100m  \u001b[0m\u001b[48;2;245;228;190m  \u001b[0m\n",
      "PurpleShades\n",
      "\u001b[48;2;52;30;96m  \u001b[0m\u001b[48;2;84;68;140m  \u001b[0m\u001b[48;2;122;119;171m  \u001b[0m\u001b[48;2;186;190;224m  \u001b[0m\u001b[48;2;220;223;239m  \u001b[0m\n",
      "TealShades\n",
      "\u001b[48;2;9;71;62m  \u001b[0m\u001b[48;2;42;107;94m  \u001b[0m\u001b[48;2;59;152;134m  \u001b[0m\u001b[48;2;111;188;173m  \u001b[0m\u001b[48;2;195;226;219m  \u001b[0m\n",
      "PinkShades\n",
      "\u001b[48;2;193;76;112m  \u001b[0m\u001b[48;2;226;113;143m  \u001b[0m\u001b[48;2;248;152;174m  \u001b[0m\u001b[48;2;248;197;193m  \u001b[0m\u001b[48;2;255;227;212m  \u001b[0m\n",
      "WarmGrayShades\n",
      "\u001b[48;2;99;92;90m  \u001b[0m\u001b[48;2;143;136;133m  \u001b[0m\u001b[48;2;186;176;168m  \u001b[0m\u001b[48;2;219;209;195m  \u001b[0m\u001b[48;2;237;230;218m  \u001b[0m\n",
      "CoolGrayShades\n",
      "\u001b[48;2;104;119;135m  \u001b[0m\u001b[48;2;138;153;173m  \u001b[0m\u001b[48;2;171;186;196m  \u001b[0m\u001b[48;2;202;212;219m  \u001b[0m\u001b[48;2;230;234;237m  \u001b[0m\n",
      "GreenShades\n",
      "\u001b[48;2;30;72;18m  \u001b[0m\u001b[48;2;71;120;74m  \u001b[0m\u001b[48;2;113;172;90m  \u001b[0m\u001b[48;2;151;205;120m  \u001b[0m\u001b[48;2;193;225;174m  \u001b[0m\n",
      "Other\n",
      "\u001b[48;2;52;30;96m  \u001b[0m\u001b[48;2;234;234;234m  \u001b[0m\u001b[48;2;252;252;252m  \u001b[0m\u001b[48;2;82;24;10m  \u001b[0m\u001b[48;2;9;71;62m  \u001b[0m\u001b[48;2;77;37;0m  \u001b[0m\u001b[48;2;168;94;40m  \u001b[0m\u001b[48;2;253;248;242m  \u001b[0m\u001b[48;2;169;103;137m  \u001b[0m\u001b[48;2;233;164;130m  \u001b[0m\u001b[48;2;245;223;178m  \u001b[0m\u001b[48;2;78;127;114m  \u001b[0m\u001b[48;2;255;204;123m  \u001b[0m\u001b[48;2;40;42;73m  \u001b[0m\u001b[48;2;255;253;189m  \u001b[0m\u001b[48;2;150;66;34m  \u001b[0m\u001b[48;2;255;243;244m  \u001b[0m\u001b[48;2;104;98;171m  \u001b[0m\u001b[48;2;252;247;255m  \u001b[0m\n",
      "Named\n",
      "\u001b[48;2;255;255;255m  \u001b[0m\u001b[48;2;255;0;0m  \u001b[0m\u001b[48;2;0;255;0m  \u001b[0m\u001b[48;2;0;0;255m  \u001b[0m\u001b[48;2;0;255;255m  \u001b[0m\u001b[48;2;255;0;255m  \u001b[0m\u001b[48;2;255;255;0m  \u001b[0m\u001b[48;2;0;0;0m  \u001b[0m\n",
      "AllColors\n",
      "\u001b[48;2;80;136;197m  \u001b[0m\u001b[48;2;242;131;96m  \u001b[0m\u001b[48;2;59;152;134m  \u001b[0m\u001b[48;2;247;184;70m  \u001b[0m\u001b[48;2;122;119;171m  \u001b[0m\u001b[48;2;248;152;174m  \u001b[0m\u001b[48;2;115;181;227m  \u001b[0m\u001b[48;2;255;185;132m  \u001b[0m\u001b[48;2;151;205;120m  \u001b[0m\u001b[48;2;200;81;82m  \u001b[0m\u001b[48;2;245;228;190m  \u001b[0m\u001b[48;2;186;190;224m  \u001b[0m\u001b[48;2;198;231;244m  \u001b[0m\u001b[48;2;248;197;193m  \u001b[0m\u001b[48;2;219;209;195m  \u001b[0m\u001b[48;2;182;200;212m  \u001b[0m\u001b[48;2;181;190;164m  \u001b[0m\u001b[48;2;138;153;173m  \u001b[0m\u001b[48;2;218;144;133m  \u001b[0m\u001b[48;2;237;224;214m  \u001b[0m\u001b[48;2;235;237;232m  \u001b[0m\u001b[48;2;186;176;168m  \u001b[0m\u001b[48;2;143;136;133m  \u001b[0m\u001b[48;2;67;65;63m  \u001b[0m\u001b[48;2;72;75;80m  \u001b[0m\u001b[48;2;41;41;40m  \u001b[0m\u001b[48;2;89;111;116m  \u001b[0m\u001b[48;2;9;9;10m  \u001b[0m\u001b[48;2;253;248;242m  \u001b[0m\u001b[48;2;244;251;255m  \u001b[0m\u001b[48;2;247;251;239m  \u001b[0m\u001b[48;2;248;244;241m  \u001b[0m\u001b[48;2;52;30;96m  \u001b[0m\u001b[48;2;234;234;234m  \u001b[0m\u001b[48;2;252;252;252m  \u001b[0m\u001b[48;2;82;24;10m  \u001b[0m\u001b[48;2;9;71;62m  \u001b[0m\u001b[48;2;77;37;0m  \u001b[0m\u001b[48;2;168;94;40m  \u001b[0m\u001b[48;2;253;248;242m  \u001b[0m\u001b[48;2;169;103;137m  \u001b[0m\u001b[48;2;233;164;130m  \u001b[0m\u001b[48;2;245;223;178m  \u001b[0m\u001b[48;2;78;127;114m  \u001b[0m\u001b[48;2;255;204;123m  \u001b[0m\u001b[48;2;40;42;73m  \u001b[0m\u001b[48;2;255;253;189m  \u001b[0m\u001b[48;2;150;66;34m  \u001b[0m\u001b[48;2;255;243;244m  \u001b[0m\u001b[48;2;104;98;171m  \u001b[0m\u001b[48;2;252;247;255m  \u001b[0m\u001b[48;2;255;255;255m  \u001b[0m\u001b[48;2;255;0;0m  \u001b[0m\u001b[48;2;0;255;0m  \u001b[0m\u001b[48;2;0;0;255m  \u001b[0m\u001b[48;2;0;255;255m  \u001b[0m\u001b[48;2;255;0;255m  \u001b[0m\u001b[48;2;255;255;0m  \u001b[0m\u001b[48;2;0;0;0m  \u001b[0m\u001b[48;2;9;68;104m  \u001b[0m\u001b[48;2;43;101;161m  \u001b[0m\u001b[48;2;158;63;65m  \u001b[0m\u001b[48;2;255;208;176m  \u001b[0m\u001b[48;2;214;141;34m  \u001b[0m\u001b[48;2;255;211;100m  \u001b[0m\u001b[48;2;84;68;140m  \u001b[0m\u001b[48;2;220;223;239m  \u001b[0m\u001b[48;2;42;107;94m  \u001b[0m\u001b[48;2;111;188;173m  \u001b[0m\u001b[48;2;195;226;219m  \u001b[0m\u001b[48;2;193;76;112m  \u001b[0m\u001b[48;2;226;113;143m  \u001b[0m\u001b[48;2;255;227;212m  \u001b[0m\u001b[48;2;99;92;90m  \u001b[0m\u001b[48;2;237;230;218m  \u001b[0m\u001b[48;2;104;119;135m  \u001b[0m\u001b[48;2;171;186;196m  \u001b[0m\u001b[48;2;202;212;219m  \u001b[0m\u001b[48;2;230;234;237m  \u001b[0m\u001b[48;2;30;72;18m  \u001b[0m\u001b[48;2;71;120;74m  \u001b[0m\u001b[48;2;113;172;90m  \u001b[0m\u001b[48;2;193;225;174m  \u001b[0m\n",
      "BlueShades+RedShades+YellowShades+PurpleShades+TealShades+PinkShades+WarmGrayShades+CoolGrayShades+GreenShades\n",
      "\u001b[48;2;9;68;104m  \u001b[0m\u001b[48;2;43;101;161m  \u001b[0m\u001b[48;2;80;136;197m  \u001b[0m\u001b[48;2;115;181;227m  \u001b[0m\u001b[48;2;198;231;244m  \u001b[0m\u001b[48;2;158;63;65m  \u001b[0m\u001b[48;2;200;81;82m  \u001b[0m\u001b[48;2;242;131;96m  \u001b[0m\u001b[48;2;255;185;132m  \u001b[0m\u001b[48;2;255;208;176m  \u001b[0m\u001b[48;2;168;94;40m  \u001b[0m\u001b[48;2;214;141;34m  \u001b[0m\u001b[48;2;247;184;70m  \u001b[0m\u001b[48;2;255;211;100m  \u001b[0m\u001b[48;2;245;228;190m  \u001b[0m\u001b[48;2;52;30;96m  \u001b[0m\u001b[48;2;84;68;140m  \u001b[0m\u001b[48;2;122;119;171m  \u001b[0m\u001b[48;2;186;190;224m  \u001b[0m\u001b[48;2;220;223;239m  \u001b[0m\u001b[48;2;9;71;62m  \u001b[0m\u001b[48;2;42;107;94m  \u001b[0m\u001b[48;2;59;152;134m  \u001b[0m\u001b[48;2;111;188;173m  \u001b[0m\u001b[48;2;195;226;219m  \u001b[0m\u001b[48;2;193;76;112m  \u001b[0m\u001b[48;2;226;113;143m  \u001b[0m\u001b[48;2;248;152;174m  \u001b[0m\u001b[48;2;248;197;193m  \u001b[0m\u001b[48;2;255;227;212m  \u001b[0m\u001b[48;2;99;92;90m  \u001b[0m\u001b[48;2;143;136;133m  \u001b[0m\u001b[48;2;186;176;168m  \u001b[0m\u001b[48;2;219;209;195m  \u001b[0m\u001b[48;2;237;230;218m  \u001b[0m\u001b[48;2;104;119;135m  \u001b[0m\u001b[48;2;138;153;173m  \u001b[0m\u001b[48;2;171;186;196m  \u001b[0m\u001b[48;2;202;212;219m  \u001b[0m\u001b[48;2;230;234;237m  \u001b[0m\u001b[48;2;30;72;18m  \u001b[0m\u001b[48;2;71;120;74m  \u001b[0m\u001b[48;2;113;172;90m  \u001b[0m\u001b[48;2;151;205;120m  \u001b[0m\u001b[48;2;193;225;174m  \u001b[0m\n"
     ]
    }
   ],
   "source": [
    "# Display all palettes.\n",
    "apc.plot.display_all_palettes()"
   ]
  },
  {
   "cell_type": "code",
   "execution_count": 25,
   "metadata": {
    "execution": {
     "iopub.execute_input": "2025-02-21T00:07:20.059636Z",
     "iopub.status.busy": "2025-02-21T00:07:20.059520Z",
     "iopub.status.idle": "2025-02-21T00:07:20.070913Z",
     "shell.execute_reply": "2025-02-21T00:07:20.070651Z"
    }
   },
   "outputs": [
    {
     "name": "stdout",
     "output_type": "stream",
     "text": [
      "magma\n",
      "\u001b[48;2;52;30;96m \u001b[0m\u001b[48;2;59;38;106m \u001b[0m\u001b[48;2;66;46;115m \u001b[0m\u001b[48;2;73;55;125m \u001b[0m\u001b[48;2;80;63;134m \u001b[0m\u001b[48;2;90;70;140m \u001b[0m\u001b[48;2;105;77;139m \u001b[0m\u001b[48;2;119;82;139m \u001b[0m\u001b[48;2;133;88;138m \u001b[0m\u001b[48;2;148;94;138m \u001b[0m\u001b[48;2;162;100;137m \u001b[0m\u001b[48;2;175;109;136m \u001b[0m\u001b[48;2;185;118;135m \u001b[0m\u001b[48;2;195;128;134m \u001b[0m\u001b[48;2;205;137;133m \u001b[0m\u001b[48;2;215;147;132m \u001b[0m\u001b[48;2;226;157;131m \u001b[0m\u001b[48;2;234;168;133m \u001b[0m\u001b[48;2;237;182;144m \u001b[0m\u001b[48;2;239;195;156m \u001b[0m\u001b[48;2;242;209;167m \u001b[0m\n",
      "viridis\n",
      "\u001b[48;2;40;42;73m \u001b[0m\u001b[48;2;44;51;85m \u001b[0m\u001b[48;2;48;61;98m \u001b[0m\u001b[48;2;52;70;110m \u001b[0m\u001b[48;2;56;80;123m \u001b[0m\u001b[48;2;60;89;135m \u001b[0m\u001b[48;2;64;99;149m \u001b[0m\u001b[48;2;68;109;161m \u001b[0m\u001b[48;2;73;118;174m \u001b[0m\u001b[48;2;77;128;186m \u001b[0m\u001b[48;2;82;138;195m \u001b[0m\u001b[48;2;95;150;181m \u001b[0m\u001b[48;2;107;162;168m \u001b[0m\u001b[48;2;119;174;155m \u001b[0m\u001b[48;2;131;185;142m \u001b[0m\u001b[48;2;143;197;129m \u001b[0m\u001b[48;2;159;209;125m \u001b[0m\u001b[48;2;178;217;138m \u001b[0m\u001b[48;2;197;226;151m \u001b[0m\u001b[48;2;216;235;163m \u001b[0m\u001b[48;2;236;244;176m \u001b[0m\n",
      "verde\n",
      "\u001b[48;2;9;71;62m \u001b[0m\u001b[48;2;18;78;69m \u001b[0m\u001b[48;2;27;86;76m \u001b[0m\u001b[48;2;36;93;83m \u001b[0m\u001b[48;2;45;101;89m \u001b[0m\u001b[48;2;54;108;96m \u001b[0m\u001b[48;2;64;116;104m \u001b[0m\u001b[48;2;73;123;111m \u001b[0m\u001b[48;2;86;130;114m \u001b[0m\u001b[48;2;101;137;115m \u001b[0m\u001b[48;2;116;143;116m \u001b[0m\u001b[48;2;132;151;117m \u001b[0m\u001b[48;2;147;157;118m \u001b[0m\u001b[48;2;162;164;118m \u001b[0m\u001b[48;2;177;170;119m \u001b[0m\u001b[48;2;192;177;120m \u001b[0m\u001b[48;2;209;184;121m \u001b[0m\u001b[48;2;224;190;121m \u001b[0m\u001b[48;2;239;197;122m \u001b[0m\u001b[48;2;254;204;123m \u001b[0m\u001b[48;2;255;215;166m \u001b[0m\n",
      "sunset\n",
      "\u001b[48;2;77;37;0m \u001b[0m\u001b[48;2;88;44;5m \u001b[0m\u001b[48;2;98;50;9m \u001b[0m\u001b[48;2;109;57;14m \u001b[0m\u001b[48;2;119;63;18m \u001b[0m\u001b[48;2;130;70;23m \u001b[0m\u001b[48;2;141;77;28m \u001b[0m\u001b[48;2;152;84;33m \u001b[0m\u001b[48;2;162;90;37m \u001b[0m\u001b[48;2;172;98;45m \u001b[0m\u001b[48;2;180;107;57m \u001b[0m\u001b[48;2;189;117;70m \u001b[0m\u001b[48;2;198;126;81m \u001b[0m\u001b[48;2;206;135;93m \u001b[0m\u001b[48;2;215;144;105m \u001b[0m\u001b[48;2;223;154;117m \u001b[0m\u001b[48;2;233;164;129m \u001b[0m\u001b[48;2;240;176;128m \u001b[0m\u001b[48;2;247;189;126m \u001b[0m\u001b[48;2;254;202;123m \u001b[0m\u001b[48;2;255;214;163m \u001b[0m\n",
      "wine\n",
      "\u001b[48;2;82;24;10m \u001b[0m\u001b[48;2;94;30;18m \u001b[0m\u001b[48;2;107;36;25m \u001b[0m\u001b[48;2;119;42;33m \u001b[0m\u001b[48;2;131;48;40m \u001b[0m\u001b[48;2;144;54;48m \u001b[0m\u001b[48;2;157;60;56m \u001b[0m\u001b[48;2;169;66;63m \u001b[0m\u001b[48;2;182;72;71m \u001b[0m\u001b[48;2;194;78;78m \u001b[0m\u001b[48;2;203;87;85m \u001b[0m\u001b[48;2;211;102;92m \u001b[0m\u001b[48;2;218;115;98m \u001b[0m\u001b[48;2;225;128;104m \u001b[0m\u001b[48;2;231;140;111m \u001b[0m\u001b[48;2;238;153;117m \u001b[0m\u001b[48;2;246;168;124m \u001b[0m\u001b[48;2;253;181;130m \u001b[0m\u001b[48;2;254;196;152m \u001b[0m\u001b[48;2;252;212;181m \u001b[0m\u001b[48;2;250;228;211m \u001b[0m\n",
      "lisafrank\n",
      "\u001b[48;2;9;71;62m \u001b[0m\u001b[48;2;16;77;75m \u001b[0m\u001b[48;2;23;84;88m \u001b[0m\u001b[48;2;30;90;101m \u001b[0m\u001b[48;2;37;96;115m \u001b[0m\u001b[48;2;44;103;128m \u001b[0m\u001b[48;2;51;109;142m \u001b[0m\u001b[48;2;58;116;155m \u001b[0m\u001b[48;2;65;122;168m \u001b[0m\u001b[48;2;72;128;181m \u001b[0m\u001b[48;2;79;135;194m \u001b[0m\u001b[48;2;92;142;200m \u001b[0m\u001b[48;2;105;149;203m \u001b[0m\u001b[48;2;118;155;207m \u001b[0m\u001b[48;2;131;162;210m \u001b[0m\u001b[48;2;144;169;213m \u001b[0m\u001b[48;2;159;176;217m \u001b[0m\u001b[48;2;172;183;220m \u001b[0m\u001b[48;2;185;190;224m \u001b[0m\u001b[48;2;205;194;225m \u001b[0m\u001b[48;2;225;199;227m \u001b[0m\n",
      "reds\n",
      "\u001b[48;2;158;63;65m \u001b[0m\u001b[48;2;167;67;69m \u001b[0m\u001b[48;2;177;71;73m \u001b[0m\u001b[48;2;186;75;76m \u001b[0m\u001b[48;2;195;79;80m \u001b[0m\u001b[48;2;202;86;87m \u001b[0m\u001b[48;2;205;96;97m \u001b[0m\u001b[48;2;208;106;107m \u001b[0m\u001b[48;2;212;116;117m \u001b[0m\u001b[48;2;215;125;126m \u001b[0m\u001b[48;2;218;135;136m \u001b[0m\u001b[48;2;222;145;146m \u001b[0m\u001b[48;2;225;155;156m \u001b[0m\u001b[48;2;228;165;166m \u001b[0m\u001b[48;2;232;174;175m \u001b[0m\u001b[48;2;235;184;185m \u001b[0m\u001b[48;2;239;195;196m \u001b[0m\u001b[48;2;242;204;205m \u001b[0m\u001b[48;2;245;214;215m \u001b[0m\u001b[48;2;248;224;225m \u001b[0m\u001b[48;2;252;233;234m \u001b[0m\n",
      "oranges\n",
      "\u001b[48;2;150;66;34m \u001b[0m\u001b[48;2;156;73;40m \u001b[0m\u001b[48;2;163;81;46m \u001b[0m\u001b[48;2;169;88;52m \u001b[0m\u001b[48;2;176;95;58m \u001b[0m\u001b[48;2;182;103;64m \u001b[0m\u001b[48;2;189;111;71m \u001b[0m\u001b[48;2;196;118;77m \u001b[0m\u001b[48;2;202;125;83m \u001b[0m\u001b[48;2;209;133;89m \u001b[0m\u001b[48;2;215;140;95m \u001b[0m\u001b[48;2;223;148;102m \u001b[0m\u001b[48;2;229;156;108m \u001b[0m\u001b[48;2;235;163;114m \u001b[0m\u001b[48;2;242;170;120m \u001b[0m\u001b[48;2;248;178;126m \u001b[0m\u001b[48;2;255;186;134m \u001b[0m\u001b[48;2;254;198;155m \u001b[0m\u001b[48;2;252;209;177m \u001b[0m\u001b[48;2;251;221;198m \u001b[0m\u001b[48;2;249;232;220m \u001b[0m\n",
      "greens\n",
      "\u001b[48;2;71;120;74m \u001b[0m\u001b[48;2;77;126;77m \u001b[0m\u001b[48;2;83;133;81m \u001b[0m\u001b[48;2;89;139;84m \u001b[0m\u001b[48;2;95;146;88m \u001b[0m\u001b[48;2;101;152;91m \u001b[0m\u001b[48;2;108;159;95m \u001b[0m\u001b[48;2;114;166;99m \u001b[0m\u001b[48;2;120;172;102m \u001b[0m\u001b[48;2;126;178;106m \u001b[0m\u001b[48;2;132;185;109m \u001b[0m\u001b[48;2;139;192;113m \u001b[0m\u001b[48;2;145;198;116m \u001b[0m\u001b[48;2;151;205;120m \u001b[0m\u001b[48;2;162;210;134m \u001b[0m\u001b[48;2;174;216;149m \u001b[0m\u001b[48;2;187;222;165m \u001b[0m\u001b[48;2;199;228;180m \u001b[0m\u001b[48;2;211;234;195m \u001b[0m\u001b[48;2;223;240;209m \u001b[0m\u001b[48;2;235;245;224m \u001b[0m\n",
      "sages\n",
      "\u001b[48;2;42;107;94m \u001b[0m\u001b[48;2;52;113;99m \u001b[0m\u001b[48;2;62;119;104m \u001b[0m\u001b[48;2;73;125;109m \u001b[0m\u001b[48;2;83;131;115m \u001b[0m\u001b[48;2;93;137;120m \u001b[0m\u001b[48;2;104;144;125m \u001b[0m\u001b[48;2;114;150;130m \u001b[0m\u001b[48;2;124;156;136m \u001b[0m\u001b[48;2;135;162;141m \u001b[0m\u001b[48;2;145;168;146m \u001b[0m\u001b[48;2;156;175;151m \u001b[0m\u001b[48;2;166;181;157m \u001b[0m\u001b[48;2;176;187;162m \u001b[0m\u001b[48;2;186;194;169m \u001b[0m\u001b[48;2;194;202;179m \u001b[0m\u001b[48;2;204;211;190m \u001b[0m\u001b[48;2;212;219;200m \u001b[0m\u001b[48;2;221;227;210m \u001b[0m\u001b[48;2;230;235;219m \u001b[0m\u001b[48;2;238;243;229m \u001b[0m\n",
      "blues\n",
      "\u001b[48;2;43;101;161m \u001b[0m\u001b[48;2;50;107;168m \u001b[0m\u001b[48;2;57;114;174m \u001b[0m\u001b[48;2;64;120;181m \u001b[0m\u001b[48;2;70;127;188m \u001b[0m\u001b[48;2;77;133;194m \u001b[0m\u001b[48;2;87;141;200m \u001b[0m\u001b[48;2;97;148;203m \u001b[0m\u001b[48;2;108;155;207m \u001b[0m\u001b[48;2;118;163;210m \u001b[0m\u001b[48;2;128;170;214m \u001b[0m\u001b[48;2;140;178;218m \u001b[0m\u001b[48;2;150;185;222m \u001b[0m\u001b[48;2;160;192;225m \u001b[0m\u001b[48;2;171;200;229m \u001b[0m\u001b[48;2;181;207;233m \u001b[0m\u001b[48;2;192;215;237m \u001b[0m\u001b[48;2;203;222;240m \u001b[0m\u001b[48;2;213;229;244m \u001b[0m\u001b[48;2;223;236;248m \u001b[0m\u001b[48;2;234;244;251m \u001b[0m\n",
      "purples\n",
      "\u001b[48;2;104;98;171m \u001b[0m\u001b[48;2;110;105;171m \u001b[0m\u001b[48;2;116;112;171m \u001b[0m\u001b[48;2;122;119;171m \u001b[0m\u001b[48;2;129;126;175m \u001b[0m\u001b[48;2;136;133;180m \u001b[0m\u001b[48;2;144;140;185m \u001b[0m\u001b[48;2;151;147;190m \u001b[0m\u001b[48;2;158;154;194m \u001b[0m\u001b[48;2;165;161;199m \u001b[0m\u001b[48;2;172;168;203m \u001b[0m\u001b[48;2;180;176;208m \u001b[0m\u001b[48;2;187;183;213m \u001b[0m\u001b[48;2;194;190;218m \u001b[0m\u001b[48;2;201;197;222m \u001b[0m\u001b[48;2;209;204;227m \u001b[0m\u001b[48;2;216;212;232m \u001b[0m\u001b[48;2;223;219;237m \u001b[0m\u001b[48;2;231;226;241m \u001b[0m\u001b[48;2;238;233;246m \u001b[0m\u001b[48;2;245;240;250m \u001b[0m\n",
      "orange_sage\n",
      "\u001b[48;2;150;66;34m \u001b[0m\u001b[48;2;163;81;46m \u001b[0m\u001b[48;2;176;95;58m \u001b[0m\u001b[48;2;189;110;70m \u001b[0m\u001b[48;2;202;125;82m \u001b[0m\u001b[48;2;215;140;95m \u001b[0m\u001b[48;2;229;156;108m \u001b[0m\u001b[48;2;242;170;120m \u001b[0m\u001b[48;2;255;185;132m \u001b[0m\u001b[48;2;252;208;175m \u001b[0m\u001b[48;2;249;231;218m \u001b[0m\u001b[48;2;238;242;228m \u001b[0m\u001b[48;2;220;226;209m \u001b[0m\u001b[48;2;203;210;189m \u001b[0m\u001b[48;2;186;194;169m \u001b[0m\u001b[48;2;166;181;157m \u001b[0m\u001b[48;2;144;168;145m \u001b[0m\u001b[48;2;124;156;135m \u001b[0m\u001b[48;2;103;144;125m \u001b[0m\u001b[48;2;83;131;115m \u001b[0m\u001b[48;2;62;119;104m \u001b[0m\n",
      "red_blue\n",
      "\u001b[48;2;158;63;65m \u001b[0m\u001b[48;2;177;71;73m \u001b[0m\u001b[48;2;195;79;80m \u001b[0m\u001b[48;2;205;95;96m \u001b[0m\u001b[48;2;211;115;116m \u001b[0m\u001b[48;2;218;134;135m \u001b[0m\u001b[48;2;225;155;156m \u001b[0m\u001b[48;2;232;174;175m \u001b[0m\u001b[48;2;238;194;195m \u001b[0m\u001b[48;2;245;213;214m \u001b[0m\u001b[48;2;251;233;234m \u001b[0m\u001b[48;2;233;243;251m \u001b[0m\u001b[48;2;212;229;244m \u001b[0m\u001b[48;2;191;214;236m \u001b[0m\u001b[48;2;171;200;229m \u001b[0m\u001b[48;2;150;185;222m \u001b[0m\u001b[48;2;128;169;214m \u001b[0m\u001b[48;2;107;155;207m \u001b[0m\u001b[48;2;86;140;199m \u001b[0m\u001b[48;2;70;127;188m \u001b[0m\u001b[48;2;57;114;174m \u001b[0m\n",
      "purple_green\n",
      "\u001b[48;2;104;98;171m \u001b[0m\u001b[48;2;116;112;171m \u001b[0m\u001b[48;2;129;126;175m \u001b[0m\u001b[48;2;143;140;185m \u001b[0m\u001b[48;2;157;154;194m \u001b[0m\u001b[48;2;172;168;203m \u001b[0m\u001b[48;2;187;183;213m \u001b[0m\u001b[48;2;201;197;222m \u001b[0m\u001b[48;2;216;211;232m \u001b[0m\u001b[48;2;230;225;241m \u001b[0m\u001b[48;2;244;239;250m \u001b[0m\u001b[48;2;234;245;223m \u001b[0m\u001b[48;2;210;233;193m \u001b[0m\u001b[48;2;186;222;164m \u001b[0m\u001b[48;2;162;210;134m \u001b[0m\u001b[48;2;145;198;116m \u001b[0m\u001b[48;2;132;184;109m \u001b[0m\u001b[48;2;119;171;102m \u001b[0m\u001b[48;2;107;159;95m \u001b[0m\u001b[48;2;95;146;88m \u001b[0m\u001b[48;2;83;133;81m \u001b[0m\n"
     ]
    }
   ],
   "source": [
    "# Display all gradients.\n",
    "apc.plot.display_all_gradients()"
   ]
  }
 ],
 "metadata": {
  "kernelspec": {
   "display_name": "arcadia-pycolor",
   "language": "python",
   "name": "python3"
  },
  "language_info": {
   "codemirror_mode": {
    "name": "ipython",
    "version": 3
   },
   "file_extension": ".py",
   "mimetype": "text/x-python",
   "name": "python",
   "nbconvert_exporter": "python",
   "pygments_lexer": "ipython3",
   "version": "3.9.19"
  }
 },
 "nbformat": 4,
 "nbformat_minor": 2
}

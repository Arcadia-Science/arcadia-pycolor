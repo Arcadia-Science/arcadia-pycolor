{
 "cells": [
  {
   "cell_type": "code",
   "execution_count": 1,
   "metadata": {},
   "outputs": [],
   "source": [
    "# Import the module\n",
    "import arcadia_pycolor as apc"
   ]
  },
  {
   "cell_type": "code",
   "execution_count": 2,
   "metadata": {},
   "outputs": [
    {
     "data": {
      "text/plain": [
       "\u001b[48;2;80;136;197m  \u001b[0m\u001b[38;2;80;136;197m aegean #5088C5\u001b[0m"
      ]
     },
     "execution_count": 2,
     "metadata": {},
     "output_type": "execute_result"
    }
   ],
   "source": [
    "# Direct access to a specific color.\n",
    "# __repr__ method allows for display of the color in the terminal.\n",
    "apc.aegean"
   ]
  },
  {
   "cell_type": "code",
   "execution_count": 3,
   "metadata": {},
   "outputs": [
    {
     "data": {
      "text/plain": [
       "\u001b[48;2;80;136;197m  \u001b[0m\u001b[38;2;80;136;197m aegean  #5088C5\u001b[0m\n",
       "\u001b[48;2;242;131;96m  \u001b[0m\u001b[38;2;242;131;96m amber   #F28360\u001b[0m\n",
       "\u001b[48;2;59;152;134m  \u001b[0m\u001b[38;2;59;152;134m seaweed #3B9886\u001b[0m\n",
       "\u001b[48;2;247;184;70m  \u001b[0m\u001b[38;2;247;184;70m canary  #F7B846\u001b[0m\n",
       "\u001b[48;2;122;119;171m  \u001b[0m\u001b[38;2;122;119;171m aster   #7A77AB\u001b[0m\n",
       "\u001b[48;2;248;152;174m  \u001b[0m\u001b[38;2;248;152;174m rose    #F898AE\u001b[0m"
      ]
     },
     "execution_count": 3,
     "metadata": {},
     "output_type": "execute_result"
    }
   ],
   "source": [
    "# Displaying a Palette.\n",
    "apc.palettes.accent"
   ]
  },
  {
   "cell_type": "code",
   "execution_count": 4,
   "metadata": {},
   "outputs": [
    {
     "data": {
      "text/plain": [
       "\u001b[48;2;52;30;96m \u001b[0m\u001b[48;2;59;37;107m \u001b[0m\u001b[48;2;67;45;118m \u001b[0m\u001b[48;2;75;53;129m \u001b[0m\u001b[48;2;83;61;140m \u001b[0m\u001b[48;2;89;70;150m \u001b[0m\u001b[48;2;87;83;160m \u001b[0m\u001b[48;2;86;95;168m \u001b[0m\u001b[48;2;84;107;177m \u001b[0m\u001b[48;2;82;119;185m \u001b[0m\u001b[48;2;80;132;194m \u001b[0m\u001b[48;2;88;144;187m \u001b[0m\u001b[48;2;100;156;174m \u001b[0m\u001b[48;2;112;167;161m \u001b[0m\u001b[48;2;124;179;148m \u001b[0m\u001b[48;2;136;191;135m \u001b[0m\u001b[48;2;149;203;121m \u001b[0m\u001b[48;2;169;214;98m \u001b[0m\u001b[48;2;191;224;73m \u001b[0m\u001b[48;2;212;234;49m \u001b[0m\u001b[48;2;233;244;24m \u001b[0m\n",
       "\u001b[48;2;52;30;96m  \u001b[0m\u001b[38;2;52;30;96m concord #341E60\u001b[0m 0\n",
       "\u001b[48;2;90;69;150m  \u001b[0m\u001b[38;2;90;69;150m grape   #5A4596\u001b[0m 0.23\n",
       "\u001b[48;2;80;136;197m  \u001b[0m\u001b[38;2;80;136;197m aegean  #5088C5\u001b[0m 0.49\n",
       "\u001b[48;2;151;205;120m  \u001b[0m\u001b[38;2;151;205;120m lime    #97CD78\u001b[0m 0.77\n",
       "\u001b[48;2;255;255;0m  \u001b[0m\u001b[38;2;255;255;0m yellow  #FFFF00\u001b[0m 1"
      ]
     },
     "execution_count": 4,
     "metadata": {},
     "output_type": "execute_result"
    }
   ],
   "source": [
    "# Displaying a Gradient.\n",
    "apc.gradients.viridis"
   ]
  },
  {
   "cell_type": "code",
   "execution_count": 5,
   "metadata": {},
   "outputs": [
    {
     "data": {
      "image/png": "[encoded data removed]",
      "text/plain": [
       "<Figure size 640x480 with 1 Axes>"
      ]
     },
     "metadata": {},
     "output_type": "display_data"
    }
   ],
   "source": [
    "# Using colors in a matplotlib plot.\n",
    "import matplotlib.pyplot as plt\n",
    "\n",
    "plt.bar(\n",
    "    x=[\"A\", \"B\", \"C\", \"D\"],\n",
    "    height=[1, 2, 3, 4],\n",
    "    color=[apc.aegean, apc.amber, apc.seaweed, apc.canary],\n",
    ")\n",
    "plt.ylabel(\"Y axis\")\n",
    "plt.xlabel(\"X axis\")\n",
    "plt.show()"
   ]
  },
  {
   "cell_type": "code",
   "execution_count": 6,
   "metadata": {},
   "outputs": [
    {
     "data": {
      "text/plain": [
       "\u001b[48;2;80;136;197m  \u001b[0m\u001b[38;2;80;136;197m aegean  #5088C5\u001b[0m\n",
       "\u001b[48;2;242;131;96m  \u001b[0m\u001b[38;2;242;131;96m amber   #F28360\u001b[0m\n",
       "\u001b[48;2;59;152;134m  \u001b[0m\u001b[38;2;59;152;134m seaweed #3B9886\u001b[0m\n",
       "\u001b[48;2;247;184;70m  \u001b[0m\u001b[38;2;247;184;70m canary  #F7B846\u001b[0m"
      ]
     },
     "execution_count": 6,
     "metadata": {},
     "output_type": "execute_result"
    }
   ],
   "source": [
    "# Creating a Palette from a list of colors.\n",
    "my_palette = apc.Palette(\"my_palette\", [apc.aegean, apc.amber, apc.seaweed, apc.canary])\n",
    "\n",
    "my_palette"
   ]
  },
  {
   "cell_type": "code",
   "execution_count": 7,
   "metadata": {},
   "outputs": [
    {
     "data": {
      "text/plain": [
       "\u001b[48;2;255;0;0m  \u001b[0m\u001b[38;2;255;0;0m red   #FF0000\u001b[0m\n",
       "\u001b[48;2;0;255;0m  \u001b[0m\u001b[38;2;0;255;0m green #00FF00\u001b[0m\n",
       "\u001b[48;2;0;0;255m  \u001b[0m\u001b[38;2;0;0;255m blue  #0000FF\u001b[0m"
      ]
     },
     "execution_count": 7,
     "metadata": {},
     "output_type": "execute_result"
    }
   ],
   "source": [
    "# Creating a Palette from a dictionary.\n",
    "my_palette = apc.Palette.from_dict(\n",
    "    \"my_palette\",\n",
    "    {\n",
    "        \"red\": \"#FF0000\",\n",
    "        \"green\": \"#00FF00\",\n",
    "        \"blue\": \"#0000FF\",\n",
    "    },\n",
    ")\n",
    "\n",
    "my_palette"
   ]
  },
  {
   "cell_type": "code",
   "execution_count": 8,
   "metadata": {},
   "outputs": [
    {
     "data": {
      "text/plain": [
       "\u001b[48;2;115;181;227m \u001b[0m\u001b[48;2;127;185;223m \u001b[0m\u001b[48;2;139;189;220m \u001b[0m\u001b[48;2;151;194;216m \u001b[0m\u001b[48;2;163;198;213m \u001b[0m\u001b[48;2;176;203;209m \u001b[0m\u001b[48;2;189;207;205m \u001b[0m\u001b[48;2;201;212;202m \u001b[0m\u001b[48;2;213;216;198m \u001b[0m\u001b[48;2;226;221;195m \u001b[0m\u001b[48;2;238;225;191m \u001b[0m\u001b[48;2;244;223;185m \u001b[0m\u001b[48;2;244;213;176m \u001b[0m\u001b[48;2;244;204;167m \u001b[0m\u001b[48;2;244;195;158m \u001b[0m\u001b[48;2;243;186;149m \u001b[0m\u001b[48;2;243;176;140m \u001b[0m\u001b[48;2;243;167;131m \u001b[0m\u001b[48;2;242;158;122m \u001b[0m\u001b[48;2;242;149;113m \u001b[0m\u001b[48;2;242;140;104m \u001b[0m\n",
       "\u001b[48;2;115;181;227m  \u001b[0m\u001b[38;2;115;181;227m vitalblue #73B5E3\u001b[0m 0.0\n",
       "\u001b[48;2;245;228;190m  \u001b[0m\u001b[38;2;245;228;190m oat       #F5E4BE\u001b[0m 0.5\n",
       "\u001b[48;2;242;131;96m  \u001b[0m\u001b[38;2;242;131;96m amber     #F28360\u001b[0m 1.0"
      ]
     },
     "execution_count": 8,
     "metadata": {},
     "output_type": "execute_result"
    }
   ],
   "source": [
    "# Creating a Gradient from a list of colors.\n",
    "my_gradient = apc.Gradient(\"my_gradient\", [apc.vitalblue, apc.oat, apc.amber])\n",
    "\n",
    "my_gradient"
   ]
  },
  {
   "cell_type": "code",
   "execution_count": 9,
   "metadata": {},
   "outputs": [
    {
     "data": {
      "text/plain": [
       "\u001b[48;2;52;30;96m \u001b[0m\u001b[48;2;60;50;113m \u001b[0m\u001b[48;2;68;70;131m \u001b[0m\u001b[48;2;77;90;148m \u001b[0m\u001b[48;2;85;111;166m \u001b[0m\u001b[48;2;94;131;184m \u001b[0m\u001b[48;2;103;153;203m \u001b[0m\u001b[48;2;112;173;220m \u001b[0m\u001b[48;2;141;190;219m \u001b[0m\u001b[48;2;182;205;207m \u001b[0m\u001b[48;2;222;220;196m \u001b[0m\u001b[48;2;244;211;174m \u001b[0m\u001b[48;2;243;181;144m \u001b[0m\u001b[48;2;242;150;115m \u001b[0m\u001b[48;2;233;125;93m \u001b[0m\u001b[48;2;210;110;84m \u001b[0m\u001b[48;2;185;93;75m \u001b[0m\u001b[48;2;162;78;67m \u001b[0m\u001b[48;2;139;62;59m \u001b[0m\u001b[48;2;116;47;50m \u001b[0m\u001b[48;2;93;32;42m \u001b[0m\n",
       "\u001b[48;2;52;30;96m  \u001b[0m\u001b[38;2;52;30;96m concord   #341E60\u001b[0m 0\n",
       "\u001b[48;2;115;181;227m  \u001b[0m\u001b[38;2;115;181;227m vitalblue #73B5E3\u001b[0m 0.35\n",
       "\u001b[48;2;245;228;190m  \u001b[0m\u001b[38;2;245;228;190m oat       #F5E4BE\u001b[0m 0.5\n",
       "\u001b[48;2;242;131;96m  \u001b[0m\u001b[38;2;242;131;96m amber     #F28360\u001b[0m 0.65\n",
       "\u001b[48;2;71;17;34m  \u001b[0m\u001b[38;2;71;17;34m carmine   #471122\u001b[0m 1"
      ]
     },
     "execution_count": 9,
     "metadata": {},
     "output_type": "execute_result"
    }
   ],
   "source": [
    "# Creating a Gradient from a list of colors while specifying values.\n",
    "my_gradient = apc.Gradient(\n",
    "    \"my_gradient\",\n",
    "    [apc.concord, apc.vitalblue, apc.oat, apc.amber, apc.carmine],\n",
    "    [0, 0.35, 0.5, 0.65, 1]\n",
    ")\n",
    "\n",
    "my_gradient"
   ]
  },
  {
   "cell_type": "code",
   "execution_count": 10,
   "metadata": {},
   "outputs": [
    {
     "data": {
      "text/plain": [
       "\u001b[48;2;255;0;0m \u001b[0m\u001b[48;2;251;20;20m \u001b[0m\u001b[48;2;248;41;41m \u001b[0m\u001b[48;2;245;62;62m \u001b[0m\u001b[48;2;242;83;83m \u001b[0m\u001b[48;2;239;104;104m \u001b[0m\u001b[48;2;235;126;126m \u001b[0m\u001b[48;2;232;147;147m \u001b[0m\u001b[48;2;229;168;168m \u001b[0m\u001b[48;2;225;188;188m \u001b[0m\u001b[48;2;222;209;209m \u001b[0m\u001b[48;2;209;209;222m \u001b[0m\u001b[48;2;188;188;225m \u001b[0m\u001b[48;2;168;168;229m \u001b[0m\u001b[48;2;147;147;232m \u001b[0m\u001b[48;2;126;126;235m \u001b[0m\u001b[48;2;104;104;239m \u001b[0m\u001b[48;2;83;83;242m \u001b[0m\u001b[48;2;62;62;245m \u001b[0m\u001b[48;2;41;41;248m \u001b[0m\u001b[48;2;20;20;251m \u001b[0m\n",
       "\u001b[48;2;255;0;0m  \u001b[0m\u001b[38;2;255;0;0m red  #FF0000\u001b[0m 0.0\n",
       "\u001b[48;2;221;221;221m  \u001b[0m\u001b[38;2;221;221;221m grey #DDDDDD\u001b[0m 0.5\n",
       "\u001b[48;2;0;0;255m  \u001b[0m\u001b[38;2;0;0;255m blue #0000FF\u001b[0m 1.0"
      ]
     },
     "execution_count": 10,
     "metadata": {},
     "output_type": "execute_result"
    }
   ],
   "source": [
    "# Creating a Gradient from a dictionary of colors.\n",
    "my_gradient = apc.Gradient.from_dict(\n",
    "    \"my_gradient\",\n",
    "    {\n",
    "        \"red\": \"#FF0000\",\n",
    "        \"grey\": \"#DDDDDD\",\n",
    "        \"blue\": \"#0000FF\",\n",
    "    }\n",
    ")\n",
    "\n",
    "my_gradient"
   ]
  }
 ],
 "metadata": {
  "kernelspec": {
   "display_name": "product",
   "language": "python",
   "name": "python3"
  },
  "language_info": {
   "codemirror_mode": {
    "name": "ipython",
    "version": 3
   },
   "file_extension": ".py",
   "mimetype": "text/x-python",
   "name": "python",
   "nbconvert_exporter": "python",
   "pygments_lexer": "ipython3",
   "version": "3.12.1"
  }
 },
 "nbformat": 4,
 "nbformat_minor": 2
}
